{
 "cells": [
  {
   "cell_type": "markdown",
   "id": "2400e676",
   "metadata": {},
   "source": [
    "# Exception Handling\n",
    "Exception handling in Python is a mechanism that allows you to deal with runtime errors (also known as exceptions) in a structured and graceful manner. When your program encounters an error during execution, an exception is \"raised.\" If not handled, this error can cause the program to crash. Exception handling gives you a way to catch and deal with these errors, so your program can continue running or provide meaningful feedback to the user instead of just crashing."
   ]
  },
  {
   "cell_type": "code",
   "execution_count": null,
   "id": "a58d94bc",
   "metadata": {},
   "outputs": [
    {
     "ename": "NameError",
     "evalue": "name 'b' is not defined",
     "output_type": "error",
     "traceback": [
      "\u001b[31m---------------------------------------------------------------------------\u001b[39m",
      "\u001b[31mNameError\u001b[39m                                 Traceback (most recent call last)",
      "\u001b[36mCell\u001b[39m\u001b[36m \u001b[39m\u001b[32mIn[1]\u001b[39m\u001b[32m, line 1\u001b[39m\n\u001b[32m----> \u001b[39m\u001b[32m1\u001b[39m a = \u001b[43mb\u001b[49m\n",
      "\u001b[31mNameError\u001b[39m: name 'b' is not defined"
     ]
    }
   ],
   "source": [
    "a = b\n",
    "# NameError is and error."
   ]
  },
  {
   "cell_type": "code",
   "execution_count": 8,
   "id": "635e2765",
   "metadata": {},
   "outputs": [
    {
     "name": "stdout",
     "output_type": "stream",
     "text": [
      "The variable has not been assigned. name 'b' is not defined\n"
     ]
    }
   ],
   "source": [
    "try:\n",
    "    a = b \n",
    "except NameError as ex:\n",
    "    print(f\"The variable has not been assigned. {ex}\")"
   ]
  },
  {
   "cell_type": "code",
   "execution_count": 14,
   "id": "8ebe73df",
   "metadata": {},
   "outputs": [
    {
     "name": "stdout",
     "output_type": "stream",
     "text": [
      "name 'b' is not defined\n"
     ]
    }
   ],
   "source": [
    "try:\n",
    "    result = 2/1\n",
    "    a = b\n",
    "except ZeroDivisionError as ex:\n",
    "    print(f\"{ex}\")\n",
    "    print(f\"Please enter the denominator greater than 0.\")\n",
    "except Exception as ex1:\n",
    "    print(f\"{ex1}\")"
   ]
  },
  {
   "cell_type": "code",
   "execution_count": 17,
   "id": "303dff0c",
   "metadata": {},
   "outputs": [
    {
     "name": "stdout",
     "output_type": "stream",
     "text": [
      "This is not a valid number.\n"
     ]
    }
   ],
   "source": [
    "try:\n",
    "    num = int(input(\"Enter a number: \"))\n",
    "    result = 10/num\n",
    "except ValueError:\n",
    "    print(\"This is not a valid number.\")\n",
    "except ZeroDivisionError:\n",
    "    print(\"Enter denominator greater than 0\")\n",
    "except Exception as ex:\n",
    "    print(ex)"
   ]
  },
  {
   "cell_type": "code",
   "execution_count": 24,
   "id": "3f7ed2be",
   "metadata": {},
   "outputs": [
    {
     "name": "stdout",
     "output_type": "stream",
     "text": [
      "That's not a valid number!\n"
     ]
    }
   ],
   "source": [
    "try:\n",
    "    num = int(input(\"Enter a number: \"))\n",
    "    result = 10/num\n",
    "except ValueError:\n",
    "    print(\"That's not a valid number!\")\n",
    "except ZeroDivisionError:\n",
    "    print(\"You can't divide by zero!\")\n",
    "else:\n",
    "    print(f\"The result is {result}\")"
   ]
  },
  {
   "cell_type": "code",
   "execution_count": 26,
   "id": "52ef8288",
   "metadata": {},
   "outputs": [
    {
     "name": "stdout",
     "output_type": "stream",
     "text": [
      "That's not a valid number!\n",
      "This is final block.\n"
     ]
    }
   ],
   "source": [
    "try:\n",
    "    num = int(input(\"Enter a number: \"))\n",
    "    result = 10/num\n",
    "except ValueError:\n",
    "    print(\"That's not a valid number!\")\n",
    "except ZeroDivisionError:\n",
    "    print(\"You can't divide by zero!\")\n",
    "else:\n",
    "    print(f\"The result is {result}\")\n",
    "finally:\n",
    "    print(\"This is final block.\")"
   ]
  },
  {
   "cell_type": "code",
   "execution_count": 31,
   "id": "41f43f20",
   "metadata": {},
   "outputs": [
    {
     "name": "stdout",
     "output_type": "stream",
     "text": [
      "[Errno 2] No such file or directory: 'example.txt' does not exists\n"
     ]
    }
   ],
   "source": [
    "# File handling and exception handling\n",
    "try:\n",
    "    with open('example.txt') as file:\n",
    "        content = file.read()\n",
    "except FileNotFoundError as fe:\n",
    "    print(f\"{fe} does not exists\")\n",
    "finally:\n",
    "    if 'file' in locals() and not file.closed():\n",
    "        file.close()"
   ]
  },
  {
   "cell_type": "code",
   "execution_count": 35,
   "id": "2c1bdc73",
   "metadata": {},
   "outputs": [
    {
     "name": "stdout",
     "output_type": "stream",
     "text": [
      "name 'b' is not defined\n",
      "File is closed\n"
     ]
    }
   ],
   "source": [
    "# File handling and exception handling\n",
    "try:\n",
    "    with open('example1.txt') as file:\n",
    "        content = file.read()\n",
    "        a = b\n",
    "except FileNotFoundError as fe:\n",
    "    print(f\"{fe} does not exists\")\n",
    "except Exception as ex:\n",
    "    print(f\"{ex}\")\n",
    "finally:\n",
    "    print(\"File is closed\")"
   ]
  },
  {
   "cell_type": "code",
   "execution_count": null,
   "id": "112d8521",
   "metadata": {},
   "outputs": [],
   "source": []
  }
 ],
 "metadata": {
  "kernelspec": {
   "display_name": "myvenv",
   "language": "python",
   "name": "python3"
  },
  "language_info": {
   "codemirror_mode": {
    "name": "ipython",
    "version": 3
   },
   "file_extension": ".py",
   "mimetype": "text/x-python",
   "name": "python",
   "nbconvert_exporter": "python",
   "pygments_lexer": "ipython3",
   "version": "3.12.0"
  }
 },
 "nbformat": 4,
 "nbformat_minor": 5
}
