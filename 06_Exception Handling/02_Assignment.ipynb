{
 "cells": [
  {
   "cell_type": "markdown",
   "id": "2a44aac0",
   "metadata": {},
   "source": [
    "# Module: Exception Handling Assignments\n",
    "## Lesson: Exception Handling with try, except, and finally\n",
    "### Assignment 1: Handling Division by Zero\n",
    "\n",
    "Write a function that takes two integers as input and returns their division. Use try, except, and finally blocks to handle division by zero and print an appropriate message."
   ]
  },
  {
   "cell_type": "code",
   "execution_count": 6,
   "id": "d623f650",
   "metadata": {},
   "outputs": [
    {
     "name": "stdout",
     "output_type": "stream",
     "text": [
      "The result is 0.5\n",
      "The operation is completed.\n",
      "None\n",
      "The value should be greater than zero\n",
      "The operation is completed.\n",
      "None\n"
     ]
    }
   ],
   "source": [
    "def divide(int_1, int_2):\n",
    "    try:\n",
    "        result = int_1/int_2\n",
    "    except ZeroDivisionError as ze:\n",
    "        print(f\"The value should be greater than zero\")\n",
    "    else:\n",
    "        print(f\"The result is {result}\")\n",
    "    finally:\n",
    "        print(\"The operation is completed.\")\n",
    "\n",
    "\n",
    "print(divide(1,2))\n",
    "print(divide(10,0))"
   ]
  },
  {
   "cell_type": "markdown",
   "id": "53999088",
   "metadata": {},
   "source": [
    "### Assignment 2: File Reading with Exception Handling\n",
    "\n",
    "Write a function that reads the contents of a file named `data.txt`. Use try, except, and finally blocks to handle file not found errors and ensure the file is properly closed."
   ]
  },
  {
   "cell_type": "code",
   "execution_count": 14,
   "id": "df200618",
   "metadata": {},
   "outputs": [
    {
     "name": "stdout",
     "output_type": "stream",
     "text": [
      "[Errno 2] No such file or directory: 'data.txt' exists.\n"
     ]
    }
   ],
   "source": [
    "def func(file_path):\n",
    "    try:\n",
    "        file = open(file_path,'r')\n",
    "        content = file.read()\n",
    "    except FileNotFoundError as fe:\n",
    "        print(f\"{fe} exists.\")\n",
    "    finally:\n",
    "        try:\n",
    "            file.close()    \n",
    "            print(\"The file is closed.\")\n",
    "        except NameError:\n",
    "            pass\n",
    "func('data.txt')"
   ]
  },
  {
   "cell_type": "markdown",
   "id": "3c6e0f8f",
   "metadata": {},
   "source": [
    "### Assignment 3: Handling Multiple Exceptions\n",
    "\n",
    "Write a function that takes a list of integers and returns their sum. Use try, except, and finally blocks to handle TypeError if a non-integer value is encountered and print an appropriate message."
   ]
  },
  {
   "cell_type": "code",
   "execution_count": 21,
   "id": "a35a0b06",
   "metadata": {},
   "outputs": [
    {
     "name": "stdout",
     "output_type": "stream",
     "text": [
      "The value huzefa is not considered.\n",
      "20\n",
      "28\n"
     ]
    }
   ],
   "source": [
    "def sum_list(lst_int):\n",
    "    total = 0\n",
    "    try:\n",
    "        for item in lst_int:\n",
    "            try:\n",
    "                total += item\n",
    "            except TypeError as te:\n",
    "                print(f\"The value {item} is not considered.\")\n",
    "    except Exception as e:\n",
    "        print(f\"{e}\")\n",
    "    finally:\n",
    "        print(total)\n",
    "\n",
    "sum_list([1,2,3,5,'huzefa',9])\n",
    "sum_list([1,2,3,5,8,9])"
   ]
  },
  {
   "cell_type": "markdown",
   "id": "80912c43",
   "metadata": {},
   "source": [
    "### Assignment 4: Exception Handling in User Input\n",
    "\n",
    "Write a function that prompts the user to enter an integer. Use try, except, and finally blocks to handle ValueError if the user enters a non-integer value and print an appropriate message."
   ]
  },
  {
   "cell_type": "code",
   "execution_count": 26,
   "id": "5b110b9f",
   "metadata": {},
   "outputs": [
    {
     "name": "stdout",
     "output_type": "stream",
     "text": [
      "Error: invalid literal for int() with base 10: '2.0'\n",
      "Execution completed.\n"
     ]
    }
   ],
   "source": [
    "def get_integer():\n",
    "    try:\n",
    "        input_value = int(input(\"Enter an integer: \"))\n",
    "    except ValueError as ve:\n",
    "        print(f\"Error: {ve}\")\n",
    "        return None\n",
    "    else:\n",
    "        return input_value\n",
    "    finally:\n",
    "        print(\"Execution completed.\")\n",
    "\n",
    "get_integer()"
   ]
  },
  {
   "cell_type": "markdown",
   "id": "f7da1e31",
   "metadata": {},
   "source": [
    "### Assignment 5: Exception Handling in Dictionary Access\n",
    "\n",
    "Write a function that takes a dictionary and a key as input and returns the value associated with the key. Use try, except, and finally blocks to handle KeyError if the key is not found in the dictionary and print an appropriate message."
   ]
  },
  {
   "cell_type": "code",
   "execution_count": 31,
   "id": "e5fe0162",
   "metadata": {},
   "outputs": [
    {
     "name": "stdout",
     "output_type": "stream",
     "text": [
      "Key doesn't exist in dictionary\n",
      "Execution completed.\n"
     ]
    }
   ],
   "source": [
    "def get_dict_value(dictionary, key):\n",
    "    try:\n",
    "        value = dictionary[key]\n",
    "    except KeyError as ke:\n",
    "        print(\"Key doesn't exist in dictionary\")\n",
    "        value = None\n",
    "    finally:\n",
    "        print(\"Execution completed.\")\n",
    "    return value\n",
    "my_dict = {\n",
    "    'key':\"value\"\n",
    "}\n",
    "\n",
    "get_dict_value(my_dict,'new_key')"
   ]
  },
  {
   "cell_type": "markdown",
   "id": "307ce8c6",
   "metadata": {},
   "source": [
    "### Assignment 6: Nested Exception Handling\n",
    "\n",
    "Write a function that performs nested exception handling. It should first attempt to convert a string to an integer, and then attempt to divide by that integer. Use nested try, except, and finally blocks to handle ValueError and ZeroDivisionError and print appropriate messages."
   ]
  },
  {
   "cell_type": "code",
   "execution_count": 51,
   "id": "556e6833",
   "metadata": {},
   "outputs": [
    {
     "name": "stdout",
     "output_type": "stream",
     "text": [
      "Conversion attempt completed.\n",
      "Unable to divide by zero\n",
      "Division attempt completed\n",
      "Overall Execution completed.\n"
     ]
    }
   ],
   "source": [
    "def convert_int_to_str(string):\n",
    "    try:\n",
    "        try:\n",
    "            value = int(string)\n",
    "        except ValueError as ve:\n",
    "            print(\"Unable to convert to string.\")\n",
    "            value = None\n",
    "        finally:\n",
    "            print(\"Conversion attempt completed.\")\n",
    "        if value is not None:\n",
    "            try:\n",
    "                result = 10/value\n",
    "            except ZeroDivisionError as ze:\n",
    "                print(\"Unable to divide by zero\")\n",
    "                result = None\n",
    "            finally:\n",
    "                print(\"Division attempt completed\")\n",
    "    finally:\n",
    "        print(\"Overall Execution completed.\")    \n",
    "\n",
    "convert_int_to_str('0')\n"
   ]
  },
  {
   "cell_type": "markdown",
   "id": "f2d5a621",
   "metadata": {},
   "source": [
    "### Assignment 7: Exception Handling in List Operations\n",
    "\n",
    "Write a function that takes a list and an index as input and returns the element at the given index. Use try, except, and finally blocks to handle IndexError if the index is out of range and print an appropriate message."
   ]
  },
  {
   "cell_type": "code",
   "execution_count": 54,
   "id": "592559be",
   "metadata": {},
   "outputs": [
    {
     "name": "stdout",
     "output_type": "stream",
     "text": [
      "list index out of range\n",
      "Execution completed\n"
     ]
    }
   ],
   "source": [
    "def get_list_element(lst, idx):\n",
    "    try:\n",
    "        element = lst[idx]\n",
    "    except IndexError as IE:\n",
    "        print(f\"{IE}\")\n",
    "        element=None\n",
    "    finally:\n",
    "        print(\"Execution completed\")\n",
    "    return element\n",
    "lst = [1,2,3]\n",
    "get_list_element(lst,6)"
   ]
  },
  {
   "cell_type": "markdown",
   "id": "34c2a761",
   "metadata": {},
   "source": [
    "### Assignment 8: Exception Handling in Network Operations\n",
    "\n",
    "Write a function that attempts to open a URL and read its contents. Use try, except, and finally blocks to handle network-related errors and print an appropriate message."
   ]
  },
  {
   "cell_type": "code",
   "execution_count": 61,
   "id": "55da563f",
   "metadata": {},
   "outputs": [
    {
     "name": "stdout",
     "output_type": "stream",
     "text": [
      "Execution completed...\n",
      "Network error: HTTPSConnectionPool(host='nonexistent.url', port=443): Max retries exceeded with url: / (Caused by NameResolutionError(\"<urllib3.connection.HTTPSConnection object at 0x0000019ED5F5D730>: Failed to resolve 'nonexistent.url' ([Errno 11001] getaddrinfo failed)\"))\n",
      "Execution completed...\n"
     ]
    }
   ],
   "source": [
    "import requests\n",
    "def read_url(url):\n",
    "    try:\n",
    "        response = requests.get(url)\n",
    "        response.raise_for_status()\n",
    "        return response.text\n",
    "    except requests.RequestException as e:\n",
    "        print(f\"Network error: {e}\")\n",
    "        return None\n",
    "    finally:\n",
    "        print(\"Execution completed...\")\n",
    "\n",
    "read_url('https://jsonplaceholder.typicode.com/posts/1')\n",
    "read_url('https://nonexistent.url')"
   ]
  },
  {
   "cell_type": "markdown",
   "id": "20b38928",
   "metadata": {},
   "source": [
    "### Assignment 9: Exception Handling in JSON Parsing\n",
    "\n",
    "Write a function that attempts to parse a JSON string. Use try, except, and finally blocks to handle JSONDecodeError if the string is not a valid JSON and print an appropriate message."
   ]
  },
  {
   "cell_type": "code",
   "execution_count": 63,
   "id": "c3e6ac5e",
   "metadata": {},
   "outputs": [
    {
     "name": "stdout",
     "output_type": "stream",
     "text": [
      "Execution completed..\n",
      "{'name': 'John', 'age': 30}\n",
      "JSON Error: Expecting value: line 1 column 1 (char 0)\n",
      "Execution completed..\n",
      "None\n"
     ]
    }
   ],
   "source": [
    "import json\n",
    "def parse_JSON(json_string):\n",
    "    try:\n",
    "        data = json.loads(json_string)\n",
    "        return data\n",
    "    except json.JSONDecodeError as e:\n",
    "        print(f\"JSON Error: {e}\")\n",
    "        return None\n",
    "    finally:\n",
    "        print(\"Execution completed..\")\n",
    "\n",
    "print(parse_JSON('{\"name\": \"John\", \"age\": 30}'))  # {'name': 'John', 'age': 30}\n",
    "print(parse_JSON('Invalid JSON'))  # None"
   ]
  },
  {
   "cell_type": "markdown",
   "id": "742cefc3",
   "metadata": {},
   "source": [
    "### Assignment 10: Custom Exception Handling\n",
    "\n",
    "Define a custom exception named `NegativeNumberError`. Write a function that raises this exception if a negative number is encountered in a list. Use try, except, and finally blocks to handle the custom exception and print an appropriate message."
   ]
  },
  {
   "cell_type": "code",
   "execution_count": 65,
   "id": "607467ee",
   "metadata": {},
   "outputs": [
    {
     "name": "stdout",
     "output_type": "stream",
     "text": [
      "Error: Negative number found: -5\n",
      "Execution completed\n"
     ]
    }
   ],
   "source": [
    "class NegativeNumberError(Exception):\n",
    "    pass\n",
    "def check_for_negative(lst):\n",
    "    try:\n",
    "        for num in lst:\n",
    "            if num<0:\n",
    "                raise NegativeNumberError(f\"Negative number found: {num}\")\n",
    "    except NegativeNumberError as e:\n",
    "        print(f\"Error: {e}\")\n",
    "    finally:\n",
    "        print(\"Execution completed\")\n",
    "\n",
    "check_for_negative([1,2,3,4,-5,-3])"
   ]
  },
  {
   "cell_type": "markdown",
   "id": "562ad0a4",
   "metadata": {},
   "source": [
    "### Assignment 11: Exception Handling in Function Calls\n",
    "\n",
    "Write a function that calls another function which may raise an exception. Use try, except, and finally blocks to handle the exception and print an appropriate message."
   ]
  },
  {
   "cell_type": "code",
   "execution_count": 66,
   "id": "6a3f7733",
   "metadata": {},
   "outputs": [
    {
     "name": "stdout",
     "output_type": "stream",
     "text": [
      "Error: An error occured in risky_function.\n",
      "Execution completed....\n"
     ]
    }
   ],
   "source": [
    "def risky_function():\n",
    "    raise ValueError(\"An error occured in risky_function.\")\n",
    "\n",
    "def safe_function():\n",
    "    try:\n",
    "        risky_function()\n",
    "    except ValueError as e:\n",
    "        print(f\"Error: {e}\")\n",
    "    finally:\n",
    "        print(\"Execution completed....\")\n",
    "    \n",
    "safe_function()"
   ]
  },
  {
   "cell_type": "markdown",
   "id": "0e4599d7",
   "metadata": {},
   "source": [
    "### Assignment 12: Exception Handling in Class Methods\n",
    "\n",
    "Define a class with a method that performs a division operation. Use try, except, and finally blocks within the method to handle division by zero and print an appropriate message."
   ]
  },
  {
   "cell_type": "code",
   "execution_count": 68,
   "id": "61bafa3f",
   "metadata": {},
   "outputs": [
    {
     "name": "stdout",
     "output_type": "stream",
     "text": [
      "Execution completed.\n",
      "0.5\n",
      "Error: division by zero\n",
      "Execution completed.\n",
      "None\n"
     ]
    }
   ],
   "source": [
    "class Calculator:\n",
    "    def divide(self, a, b):\n",
    "        try:\n",
    "            result = a/b\n",
    "        except ZeroDivisionError as e:\n",
    "            print(f\"Error: {e}\")\n",
    "            result = None\n",
    "        finally:\n",
    "            print(\"Execution completed.\")\n",
    "        return result\n",
    "\n",
    "calc = Calculator()\n",
    "print(calc.divide(1,2))\n",
    "print(calc.divide(2,0))"
   ]
  },
  {
   "cell_type": "markdown",
   "id": "db74e464",
   "metadata": {},
   "source": [
    "### Assignment 13: Exception Handling in Data Conversion\n",
    "\n",
    "Write a function that takes a list of strings and converts them to integers. Use try, except, and finally blocks to handle ValueError if a string cannot be converted and print an appropriate message."
   ]
  },
  {
   "cell_type": "code",
   "execution_count": 70,
   "id": "7d59603c",
   "metadata": {},
   "outputs": [
    {
     "name": "stdout",
     "output_type": "stream",
     "text": [
      "Error: invalid literal for int() with base 10: 'a'\n",
      "Execution completed\n",
      "None\n"
     ]
    }
   ],
   "source": [
    "def convert_lst_to_int(lst_strings):\n",
    "    integers = []\n",
    "    try:\n",
    "        for item in lst_strings:\n",
    "            integers.append(int(item))\n",
    "    except ValueError as ve:\n",
    "        print(f\"Error: {ve}\")\n",
    "        integers = None\n",
    "    finally:\n",
    "        print(\"Execution completed\")\n",
    "    return integers\n",
    "\n",
    "print(convert_lst_to_int(['1','3','-5','a']))"
   ]
  },
  {
   "cell_type": "markdown",
   "id": "c83b0e90",
   "metadata": {},
   "source": [
    "### Assignment 14: Exception Handling in List Comprehensions\n",
    "\n",
    "Write a function that uses a list comprehension to convert a list of strings to integers. Use try, except, and finally blocks within the list comprehension to handle ValueError and print an appropriate message."
   ]
  },
  {
   "cell_type": "code",
   "execution_count": 71,
   "id": "78eb9b9b",
   "metadata": {},
   "outputs": [
    {
     "name": "stdout",
     "output_type": "stream",
     "text": [
      "Error: invalid literal for int() with base 10: 'a'\n",
      "Execution is completed...\n"
     ]
    }
   ],
   "source": [
    "def convert_lst_to_int(lst):\n",
    "    try:\n",
    "        integers = [int(item) for item in lst]\n",
    "    except ValueError as ve:\n",
    "        print(f\"Error: {ve}\")\n",
    "    finally:\n",
    "        print(\"Execution is completed...\")\n",
    "    \n",
    "convert_lst_to_int(['1','2','3','a'])\n"
   ]
  },
  {
   "cell_type": "markdown",
   "id": "041a3c0e",
   "metadata": {},
   "source": [
    "### Assignment 15: Exception Handling in File Writing\n",
    "\n",
    "Write a function that attempts to write a list of strings to a file. Use try, except, and finally blocks to handle IOError and ensure the file is properly closed."
   ]
  },
  {
   "cell_type": "code",
   "execution_count": 72,
   "id": "d759a21b",
   "metadata": {},
   "outputs": [],
   "source": [
    "def write_str_to_file(lst_of_str):\n",
    "    try:\n",
    "        file = open('sample.txt','w')\n",
    "        for string in lst_of_str:\n",
    "            file.write(string+'\\n')\n",
    "    except IOError as e:\n",
    "        print(f\"Error: {e}\")\n",
    "    finally:\n",
    "        try:\n",
    "            file.close()\n",
    "        except NameError:\n",
    "            pass\n",
    "\n",
    "lst_of_str = ['a','b','c','d','e']\n",
    "write_str_to_file(lst_of_str)"
   ]
  },
  {
   "cell_type": "code",
   "execution_count": null,
   "id": "177aab45",
   "metadata": {},
   "outputs": [],
   "source": []
  }
 ],
 "metadata": {
  "kernelspec": {
   "display_name": "myvenv",
   "language": "python",
   "name": "python3"
  },
  "language_info": {
   "codemirror_mode": {
    "name": "ipython",
    "version": 3
   },
   "file_extension": ".py",
   "mimetype": "text/x-python",
   "name": "python",
   "nbconvert_exporter": "python",
   "pygments_lexer": "ipython3",
   "version": "3.12.0"
  }
 },
 "nbformat": 4,
 "nbformat_minor": 5
}
