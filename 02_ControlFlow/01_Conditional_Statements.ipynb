{
 "cells": [
  {
   "cell_type": "markdown",
   "id": "df796b05",
   "metadata": {},
   "source": [
    "# Conditional Statements in Python\n",
    "\n",
    "Conditional statements in Python allow you to execute specific blocks of code based on certain conditions. The primary conditional statements in Python are:\n",
    "\n",
    "## 1. `if` Statement\n",
    "The `if` statement is used to test a condition. If the condition evaluates to `True`, the block of code inside the `if` statement is executed.\n",
    "\n",
    "```python\n",
    "x = 10\n",
    "if x > 5:\n",
    "    print(\"x is greater than 5\")\n",
    "```\n",
    "\n",
    "## 2. `if-else` Statement\n",
    "The `if-else` statement provides an alternative block of code to execute if the condition evaluates to `False`.\n",
    "\n",
    "```python\n",
    "x = 3\n",
    "if x > 5:\n",
    "    print(\"x is greater than 5\")\n",
    "else:\n",
    "    print(\"x is not greater than 5\")\n",
    "```\n",
    "\n",
    "## 3. `if-elif-else` Statement\n",
    "The `if-elif-else` statement allows you to check multiple conditions sequentially. The first condition that evaluates to `True` will execute its corresponding block of code.\n",
    "\n",
    "```python\n",
    "x = 7\n",
    "if x > 10:\n",
    "    print(\"x is greater than 10\")\n",
    "elif x > 5:\n",
    "    print(\"x is greater than 5 but less than or equal to 10\")\n",
    "else:\n",
    "    print(\"x is 5 or less\")\n",
    "```\n",
    "\n",
    "## 4. Nested `if` Statements\n",
    "You can nest `if` statements to check conditions within other conditions.\n",
    "\n",
    "```python\n",
    "x = 15\n",
    "if x > 10:\n",
    "    if x % 2 == 0:\n",
    "        print(\"x is greater than 10 and even\")\n",
    "    else:\n",
    "        print(\"x is greater than 10 and odd\")\n",
    "```\n",
    "\n",
    "## 5. Ternary Conditional Operator\n",
    "Python also supports a shorthand for `if-else` statements using the ternary conditional operator.\n",
    "\n",
    "```python\n",
    "x = 8\n",
    "result = \"Even\" if x % 2 == 0 else \"Odd\"\n",
    "print(result)\n",
    "```\n",
    "\n",
    "These conditional statements are fundamental for controlling the flow of a Python program."
   ]
  },
  {
   "cell_type": "code",
   "execution_count": 1,
   "id": "b5548cf3",
   "metadata": {},
   "outputs": [
    {
     "name": "stdout",
     "output_type": "stream",
     "text": [
      "You are allowed to vote in the elections.\n"
     ]
    }
   ],
   "source": [
    "# If condition:\n",
    "age = 19\n",
    "if age > 18:\n",
    "    print(\"You are allowed to vote in the elections.\")"
   ]
  },
  {
   "cell_type": "code",
   "execution_count": null,
   "id": "8899f13e",
   "metadata": {},
   "outputs": [
    {
     "name": "stdout",
     "output_type": "stream",
     "text": [
      "You are minor.\n"
     ]
    }
   ],
   "source": [
    "## If-Else condition: Else block code is executed when if condition is not True\n",
    "age = 17\n",
    "if age > 17:\n",
    "    print(\"You are eligible to vote.\")\n",
    "else:\n",
    "    print(\"You are minor.\")"
   ]
  },
  {
   "cell_type": "code",
   "execution_count": null,
   "id": "851368db",
   "metadata": {},
   "outputs": [],
   "source": []
  },
  {
   "cell_type": "code",
   "execution_count": null,
   "id": "f54e6474",
   "metadata": {},
   "outputs": [],
   "source": [
    "## Elif\n",
    "age = 20\n",
    "if age < 13:\n",
    "    print(\"You are child.\")\n",
    "elif age < 18:\n",
    "    print(\"You are a teeneger.\")\n",
    "else:\n",
    "    print(\"You are an adult\")"
   ]
  },
  {
   "cell_type": "code",
   "execution_count": null,
   "id": "0d50b602",
   "metadata": {},
   "outputs": [],
   "source": [
    "# Nested Condition Statements:\n"
   ]
  }
 ],
 "metadata": {
  "kernelspec": {
   "display_name": "myvenv",
   "language": "python",
   "name": "python3"
  },
  "language_info": {
   "codemirror_mode": {
    "name": "ipython",
    "version": 3
   },
   "file_extension": ".py",
   "mimetype": "text/x-python",
   "name": "python",
   "nbconvert_exporter": "python",
   "pygments_lexer": "ipython3",
   "version": "3.12.0"
  }
 },
 "nbformat": 4,
 "nbformat_minor": 5
}
