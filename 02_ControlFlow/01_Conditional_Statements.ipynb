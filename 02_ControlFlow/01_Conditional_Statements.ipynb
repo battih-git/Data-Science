{
 "cells": [
  {
   "cell_type": "markdown",
   "id": "df796b05",
   "metadata": {},
   "source": [
    "# Conditional Statements in Python\n",
    "\n",
    "Conditional statements in Python allow you to execute specific blocks of code based on certain conditions. The primary conditional statements in Python are:\n",
    "\n",
    "## 1. `if` Statement\n",
    "The `if` statement is used to test a condition. If the condition evaluates to `True`, the block of code inside the `if` statement is executed.\n",
    "\n",
    "```python\n",
    "x = 10\n",
    "if x > 5:\n",
    "    print(\"x is greater than 5\")\n",
    "```\n",
    "\n",
    "## 2. `if-else` Statement\n",
    "The `if-else` statement provides an alternative block of code to execute if the condition evaluates to `False`.\n",
    "\n",
    "```python\n",
    "x = 3\n",
    "if x > 5:\n",
    "    print(\"x is greater than 5\")\n",
    "else:\n",
    "    print(\"x is not greater than 5\")\n",
    "```\n",
    "\n",
    "## 3. `if-elif-else` Statement\n",
    "The `if-elif-else` statement allows you to check multiple conditions sequentially. The first condition that evaluates to `True` will execute its corresponding block of code.\n",
    "\n",
    "```python\n",
    "x = 7\n",
    "if x > 10:\n",
    "    print(\"x is greater than 10\")\n",
    "elif x > 5:\n",
    "    print(\"x is greater than 5 but less than or equal to 10\")\n",
    "else:\n",
    "    print(\"x is 5 or less\")\n",
    "```\n",
    "\n",
    "## 4. Nested `if` Statements\n",
    "You can nest `if` statements to check conditions within other conditions.\n",
    "\n",
    "```python\n",
    "x = 15\n",
    "if x > 10:\n",
    "    if x % 2 == 0:\n",
    "        print(\"x is greater than 10 and even\")\n",
    "    else:\n",
    "        print(\"x is greater than 10 and odd\")\n",
    "```\n",
    "\n",
    "## 5. Ternary Conditional Operator\n",
    "Python also supports a shorthand for `if-else` statements using the ternary conditional operator.\n",
    "\n",
    "```python\n",
    "x = 8\n",
    "result = \"Even\" if x % 2 == 0 else \"Odd\"\n",
    "print(result)\n",
    "```\n",
    "\n",
    "These conditional statements are fundamental for controlling the flow of a Python program."
   ]
  },
  {
   "cell_type": "code",
   "execution_count": 1,
   "id": "b5548cf3",
   "metadata": {},
   "outputs": [
    {
     "name": "stdout",
     "output_type": "stream",
     "text": [
      "You are allowed to vote in the elections.\n"
     ]
    }
   ],
   "source": [
    "# If condition:\n",
    "age = 19\n",
    "if age > 18:\n",
    "    print(\"You are allowed to vote in the elections.\")"
   ]
  },
  {
   "cell_type": "code",
   "execution_count": null,
   "id": "8899f13e",
   "metadata": {},
   "outputs": [
    {
     "name": "stdout",
     "output_type": "stream",
     "text": [
      "You are minor.\n"
     ]
    }
   ],
   "source": [
    "## If-Else condition: Else block code is executed when if condition is not True\n",
    "age = 17\n",
    "if age > 17:\n",
    "    print(\"You are eligible to vote.\")\n",
    "else:\n",
    "    print(\"You are minor.\")"
   ]
  },
  {
   "cell_type": "code",
   "execution_count": null,
   "id": "f54e6474",
   "metadata": {},
   "outputs": [],
   "source": [
    "## Elif\n",
    "age = 20\n",
    "if age < 13:\n",
    "    print(\"You are child.\")\n",
    "elif age < 18:\n",
    "    print(\"You are a teeneger.\")\n",
    "else:\n",
    "    print(\"You are an adult\")"
   ]
  },
  {
   "cell_type": "code",
   "execution_count": 7,
   "id": "0d50b602",
   "metadata": {},
   "outputs": [
    {
     "name": "stdout",
     "output_type": "stream",
     "text": [
      "The number is zero or negative.\n"
     ]
    }
   ],
   "source": [
    "# Nested Condition Statements:\n",
    "num = int(input(\"Enter the number: \"))\n",
    "if num > 0:\n",
    "    print(\"The number is positive.\")\n",
    "    if num % 2 == 0:\n",
    "        print(\"The number is even\")\n",
    "    else:\n",
    "        print(\"The number is odd.\")\n",
    "else:\n",
    "    print(\"The number is zero or negative.\")"
   ]
  },
  {
   "cell_type": "code",
   "execution_count": 13,
   "id": "f7124867",
   "metadata": {},
   "outputs": [
    {
     "name": "stdout",
     "output_type": "stream",
     "text": [
      "100 is not a leap year.\n"
     ]
    }
   ],
   "source": [
    "# Use cases or Practical examples of Conditional statements.\n",
    "# Determine if the year is a leap year using nested conditional statement.\n",
    "year = 100\n",
    "if year % 4 == 0:\n",
    "    if year % 100 == 0:\n",
    "        if year % 400 == 0:\n",
    "            print(f\"{year} is a leap year\")\n",
    "        else:\n",
    "            print(f\"{year} is not a leap year.\")\n",
    "    else:\n",
    "        print(f\"{year} is a leap year\")\n",
    "else:\n",
    "    print(f\"{year} is not a leap year.\")"
   ]
  },
  {
   "cell_type": "code",
   "execution_count": 16,
   "id": "71a5364b",
   "metadata": {},
   "outputs": [
    {
     "name": "stdout",
     "output_type": "stream",
     "text": [
      "0.5\n"
     ]
    }
   ],
   "source": [
    "## Assignments\n",
    "## Simple calculator program take input from user and operation like (+, -, *. /)\n",
    "\n",
    "first_number = float(input(\"Enter the first number: \"))\n",
    "second_number = float(input(\"Enter the second number: \"))\n",
    "operator = input(\"Enter the operation () : \")\n",
    "\n",
    "if operator == '+':\n",
    "    result = first_number + second_number\n",
    "    print(result)\n",
    "elif operator == '-':\n",
    "    result = first_number - second_number\n",
    "    print(result)\n",
    "elif operator == '*':\n",
    "    result = first_number * second_number\n",
    "    print(result)\n",
    "elif operator == '/':\n",
    "    result = first_number / second_number\n",
    "    print(result)\n",
    "else:\n",
    "    print(\"Enter the valid operator and try again.\")"
   ]
  },
  {
   "cell_type": "code",
   "execution_count": null,
   "id": "6bdcada8",
   "metadata": {},
   "outputs": [],
   "source": []
  }
 ],
 "metadata": {
  "kernelspec": {
   "display_name": "myvenv",
   "language": "python",
   "name": "python3"
  },
  "language_info": {
   "codemirror_mode": {
    "name": "ipython",
    "version": 3
   },
   "file_extension": ".py",
   "mimetype": "text/x-python",
   "name": "python",
   "nbconvert_exporter": "python",
   "pygments_lexer": "ipython3",
   "version": "3.12.0"
  }
 },
 "nbformat": 4,
 "nbformat_minor": 5
}
