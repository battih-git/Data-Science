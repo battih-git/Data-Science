{
 "cells": [
  {
   "cell_type": "markdown",
   "id": "120d8adf",
   "metadata": {},
   "source": [
    "# Syntax and Semantics in Python\n",
    "\n",
    "* Single and Multiline Comments.\n",
    "* Definition of Syntax and Semantics.\n",
    "* Basic Syntax Rules in Python.\n",
    "* Understanding Semantics in Python.\n",
    "* Common Syntax Errors and How to avoid them.\n",
    "* Practical Code Examples.\n",
    "\n",
    "Syntax refers to the set of rules that defines the combinations of symbols that are considered to be correctly structured programs in a language. In simpler terms, syntax is all about the correct arrangement of word and symbols in a code.\n",
    "\n",
    "Semantics refers to the meaning or behavior of the code when it is executed. While syntax defines how code should be written, semantics focuses on what the code does and how it behaves.\n",
    "\n",
    "For example:\n",
    "\n",
    "Syntax: Ensuring parentheses are properly closed in a function call.\n",
    "Semantics: Understanding what the function does when it is called.\n"
   ]
  },
  {
   "cell_type": "markdown",
   "id": "219919f7",
   "metadata": {
    "vscode": {
     "languageId": "plaintext"
    }
   },
   "source": [
    "### Single line comment\n",
    "Using # before the comment makes a single line comment"
   ]
  },
  {
   "cell_type": "markdown",
   "id": "df4260a4",
   "metadata": {},
   "source": [
    "### Multiline comment\n",
    "Using single/double triple codes"
   ]
  },
  {
   "cell_type": "code",
   "execution_count": null,
   "id": "ceaab7ff",
   "metadata": {},
   "outputs": [],
   "source": [
    "'''\n",
    "This \n",
    "is \n",
    "a \n",
    "multi line\n",
    "comment\n",
    "'''\n"
   ]
  },
  {
   "cell_type": "markdown",
   "id": "a29e9431",
   "metadata": {},
   "source": [
    "### Case Sensitive\n",
    "\n",
    "In Python, case sensitivity means that variable names, function names, and other identifiers are treated as distinct based on their capitalization. Python differentiates between uppercase and lowercase letters"
   ]
  },
  {
   "cell_type": "code",
   "execution_count": 1,
   "id": "5193835a",
   "metadata": {},
   "outputs": [],
   "source": [
    "# Example: Below two variable are different\n",
    "name = \"Huzefa\"\n",
    "Name = \"Battiwala\"\n"
   ]
  },
  {
   "cell_type": "markdown",
   "id": "19d4f5b9",
   "metadata": {},
   "source": [
    "### Indentation\n",
    "In python, indentation is used to define the structure and flow of the code. Unlike many other programming languages that uses braces{} or keywords to define blocks of code, python relies on consistent indentation to group statements."
   ]
  },
  {
   "cell_type": "code",
   "execution_count": 2,
   "id": "b0f01227",
   "metadata": {},
   "outputs": [
    {
     "ename": "IndentationError",
     "evalue": "expected an indented block after 'if' statement on line 3 (686401345.py, line 4)",
     "output_type": "error",
     "traceback": [
      "  \u001b[36mCell\u001b[39m\u001b[36m \u001b[39m\u001b[32mIn[2]\u001b[39m\u001b[32m, line 4\u001b[39m\n\u001b[31m    \u001b[39m\u001b[31mprint(\"This will raise indentation error.\")\u001b[39m\n    ^\n\u001b[31mIndentationError\u001b[39m\u001b[31m:\u001b[39m expected an indented block after 'if' statement on line 3\n"
     ]
    }
   ],
   "source": [
    "if True:\n",
    "    print(\"This is indented correctly.\")\n",
    "if True:\n",
    "print(\"This will raise indentation error.\")"
   ]
  },
  {
   "cell_type": "markdown",
   "id": "38ea691f",
   "metadata": {},
   "source": [
    "### Line continuation:\n",
    "In python, line continuation is used when a single logical line of code is too long and needs to be split across multiple lines for better readability."
   ]
  },
  {
   "cell_type": "code",
   "execution_count": 3,
   "id": "9182cff5",
   "metadata": {},
   "outputs": [
    {
     "name": "stdout",
     "output_type": "stream",
     "text": [
      "21\n"
     ]
    }
   ],
   "source": [
    "# 1. Using Backslash\n",
    "total = 1 + 2 + 3 + 4 +\\\n",
    "        5 + 6\n",
    "print(total)"
   ]
  },
  {
   "cell_type": "code",
   "execution_count": 4,
   "id": "d7986b66",
   "metadata": {},
   "outputs": [
    {
     "name": "stdout",
     "output_type": "stream",
     "text": [
      "21\n"
     ]
    }
   ],
   "source": [
    "# Implicit line continuation using brackets\n",
    "total = (1 + 2 + 3 + 4 +\n",
    "         5 + 6)\n",
    "print(total)"
   ]
  },
  {
   "cell_type": "code",
   "execution_count": 7,
   "id": "e8dca265",
   "metadata": {},
   "outputs": [
    {
     "name": "stdout",
     "output_type": "stream",
     "text": [
      "15\n"
     ]
    }
   ],
   "source": [
    "# Multiple statments on a single line.\n",
    "x = 5; y=10; z = x+y\n",
    "\n",
    "print(z)"
   ]
  },
  {
   "cell_type": "markdown",
   "id": "686252cc",
   "metadata": {},
   "source": [
    "### Variable assignment:\n",
    "In Python, variable assignment is the process of assigning a value to a variable. Variables are created when you assign a value to them, and they do not require explicit declaration"
   ]
  },
  {
   "cell_type": "code",
   "execution_count": 8,
   "id": "44b796fa",
   "metadata": {},
   "outputs": [
    {
     "data": {
      "text/plain": [
       "int"
      ]
     },
     "execution_count": 8,
     "metadata": {},
     "output_type": "execute_result"
    }
   ],
   "source": [
    "age = 32\n",
    "type(age)"
   ]
  },
  {
   "cell_type": "code",
   "execution_count": 9,
   "id": "03036691",
   "metadata": {},
   "outputs": [
    {
     "data": {
      "text/plain": [
       "str"
      ]
     },
     "execution_count": 9,
     "metadata": {},
     "output_type": "execute_result"
    }
   ],
   "source": [
    "name = 'Huzefa'\n",
    "type(name)"
   ]
  },
  {
   "cell_type": "markdown",
   "id": "331c5397",
   "metadata": {},
   "source": [
    "### Type inference\n",
    "Type inference in Python refers to the ability of the interpreter to automatically determine the type of a variable based on the value assigned to it. Python is a dynamically typed language, meaning you do not need to explicitly declare the type of a variable.\n",
    "\n"
   ]
  },
  {
   "cell_type": "code",
   "execution_count": 10,
   "id": "370a4673",
   "metadata": {},
   "outputs": [
    {
     "name": "stdout",
     "output_type": "stream",
     "text": [
      "<class 'int'>\n",
      "<class 'str'>\n"
     ]
    }
   ],
   "source": [
    "x = 10\n",
    "print(type(x))\n",
    "x = \"Huzefa\"\n",
    "print(type(x))"
   ]
  },
  {
   "cell_type": "code",
   "execution_count": 11,
   "id": "608869c0",
   "metadata": {},
   "outputs": [
    {
     "ename": "NameError",
     "evalue": "name 'a' is not defined",
     "output_type": "error",
     "traceback": [
      "\u001b[31m---------------------------------------------------------------------------\u001b[39m",
      "\u001b[31mNameError\u001b[39m                                 Traceback (most recent call last)",
      "\u001b[36mCell\u001b[39m\u001b[36m \u001b[39m\u001b[32mIn[11]\u001b[39m\u001b[32m, line 2\u001b[39m\n\u001b[32m      1\u001b[39m \u001b[38;5;66;03m## If the variable is not defined then the interpreter throws an error.\u001b[39;00m\n\u001b[32m----> \u001b[39m\u001b[32m2\u001b[39m \u001b[38;5;28mprint\u001b[39m(\u001b[43ma\u001b[49m)\n",
      "\u001b[31mNameError\u001b[39m: name 'a' is not defined"
     ]
    }
   ],
   "source": [
    "## If the variable is not defined then the interpreter throws an error.\n",
    "print(a)"
   ]
  },
  {
   "cell_type": "code",
   "execution_count": null,
   "id": "e0541c93",
   "metadata": {},
   "outputs": [],
   "source": []
  }
 ],
 "metadata": {
  "kernelspec": {
   "display_name": "myvenv",
   "language": "python",
   "name": "python3"
  },
  "language_info": {
   "codemirror_mode": {
    "name": "ipython",
    "version": 3
   },
   "file_extension": ".py",
   "mimetype": "text/x-python",
   "name": "python",
   "nbconvert_exporter": "python",
   "pygments_lexer": "ipython3",
   "version": "3.12.0"
  }
 },
 "nbformat": 4,
 "nbformat_minor": 5
}
