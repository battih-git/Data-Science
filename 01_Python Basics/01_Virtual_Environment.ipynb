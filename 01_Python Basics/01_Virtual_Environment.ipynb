{
 "cells": [
  {
   "cell_type": "markdown",
   "id": "f007d9c6",
   "metadata": {},
   "source": [
    "# Virtual Environment\n",
    "A virtual environemnt helps to create an isolated workspace for a project and manages dependencies without affecting other projects of the main python installion on the system.\n",
    "### Create a virtual environment in terminal\n",
    "* Pass command python -p venv myenv"
   ]
  },
  {
   "cell_type": "code",
   "execution_count": null,
   "id": "4e0f13d0",
   "metadata": {},
   "outputs": [],
   "source": []
  },
  {
   "cell_type": "code",
   "execution_count": null,
   "id": "c914d208",
   "metadata": {},
   "outputs": [],
   "source": [
    "p"
   ]
  }
 ],
 "metadata": {
  "kernelspec": {
   "display_name": "myvenv",
   "language": "python",
   "name": "python3"
  },
  "language_info": {
   "codemirror_mode": {
    "name": "ipython",
    "version": 3
   },
   "file_extension": ".py",
   "mimetype": "text/x-python",
   "name": "python",
   "nbconvert_exporter": "python",
   "pygments_lexer": "ipython3",
   "version": "3.12.0"
  }
 },
 "nbformat": 4,
 "nbformat_minor": 5
}
