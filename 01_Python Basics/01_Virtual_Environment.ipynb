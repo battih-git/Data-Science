{
 "cells": [
  {
   "cell_type": "markdown",
   "id": "f007d9c6",
   "metadata": {},
   "source": [
    "# Virtual Environment\n",
    "A virtual environemnt helps to create an isolated workspace for a project and manages dependencies without affecting other projects of the main python installion on the system.\n",
    "### Create a virtual environment in terminal\n",
    "* In terminal, Pass command: python -m venv myenv \n",
    "* activate the environment by command: .\\myvenv\\Scripts\\activate"
   ]
  },
  {
   "cell_type": "code",
   "execution_count": null,
   "id": "2f3a6f92",
   "metadata": {},
   "outputs": [],
   "source": []
  }
 ],
 "metadata": {
  "kernelspec": {
   "display_name": "myvenv",
   "language": "python",
   "name": "python3"
  },
  "language_info": {
   "codemirror_mode": {
    "name": "ipython",
    "version": 3
   },
   "file_extension": ".py",
   "mimetype": "text/x-python",
   "name": "python",
   "nbconvert_exporter": "python",
   "pygments_lexer": "ipython3",
   "version": "3.12.0"
  }
 },
 "nbformat": 4,
 "nbformat_minor": 5
}
