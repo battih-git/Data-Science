{
 "cells": [
  {
   "cell_type": "markdown",
   "id": "02094260",
   "metadata": {},
   "source": [
    "# Data Types in Python\n",
    "In Python, data types are used to classify data and determine how the interpreter will handle and store the data. Python is a dynamically typed language, meaning you do not need to declare the type of a variable explicitly; it is inferred based on the value assigned.\n",
    "\n",
    "## Built-in Data Types in Python\n",
    "\n",
    "### Numeric Types:\n",
    "* int: Integer values.\n",
    "* float: Floating-point numbers.\n",
    "* complex: Complex numbers.\n",
    "\n",
    "### Boolean Type:\n",
    "* bool: Represents True or False.\n",
    "\n",
    "### Sequence Types:\n",
    "* str: String (text data).\n",
    "* list: Ordered, mutable collection.\n",
    "* tuple: Ordered, immutable collection.\n",
    "\n",
    "### Mapping Type:\n",
    "* dict: Key-value pairs.\n",
    "\n",
    "### Set Types:\n",
    "* set: Unordered, mutable collection of unique elements.\n",
    "* frozenset: Immutable version of a set.\n"
   ]
  },
  {
   "cell_type": "code",
   "execution_count": null,
   "id": "a9d865fd",
   "metadata": {},
   "outputs": [
    {
     "name": "stdout",
     "output_type": "stream",
     "text": [
      "<class 'int'>\n"
     ]
    }
   ],
   "source": [
    "# Integer Data type\n",
    "x = 10\n",
    "print(type(x))"
   ]
  },
  {
   "cell_type": "code",
   "execution_count": null,
   "id": "bce692aa",
   "metadata": {},
   "outputs": [
    {
     "name": "stdout",
     "output_type": "stream",
     "text": [
      "<class 'float'>\n"
     ]
    }
   ],
   "source": [
    "# Floating Data type\n",
    "x = 10.1\n",
    "print(type(x))"
   ]
  },
  {
   "cell_type": "code",
   "execution_count": 3,
   "id": "c46d0700",
   "metadata": {},
   "outputs": [
    {
     "name": "stdout",
     "output_type": "stream",
     "text": [
      "<class 'str'>\n"
     ]
    }
   ],
   "source": [
    "# String Data type\n",
    "x = \"Huzefa\"\n",
    "print(type(x))"
   ]
  },
  {
   "cell_type": "code",
   "execution_count": 4,
   "id": "f48ee56e",
   "metadata": {},
   "outputs": [
    {
     "name": "stdout",
     "output_type": "stream",
     "text": [
      "<class 'bool'>\n"
     ]
    }
   ],
   "source": [
    "# Bool Data type\n",
    "x = True\n",
    "print(type(x))"
   ]
  },
  {
   "cell_type": "code",
   "execution_count": 8,
   "id": "759a6e5f",
   "metadata": {},
   "outputs": [
    {
     "ename": "TypeError",
     "evalue": "can only concatenate str (not \"int\") to str",
     "output_type": "error",
     "traceback": [
      "\u001b[31m---------------------------------------------------------------------------\u001b[39m",
      "\u001b[31mTypeError\u001b[39m                                 Traceback (most recent call last)",
      "\u001b[36mCell\u001b[39m\u001b[36m \u001b[39m\u001b[32mIn[8]\u001b[39m\u001b[32m, line 2\u001b[39m\n\u001b[32m      1\u001b[39m \u001b[38;5;66;03m# Common errors\u001b[39;00m\n\u001b[32m----> \u001b[39m\u001b[32m2\u001b[39m result = \u001b[33;43m'\u001b[39;49m\u001b[33;43mHello\u001b[39;49m\u001b[33;43m'\u001b[39;49m\u001b[43m \u001b[49m\u001b[43m+\u001b[49m\u001b[43m \u001b[49m\u001b[32;43m5\u001b[39;49m\n",
      "\u001b[31mTypeError\u001b[39m: can only concatenate str (not \"int\") to str"
     ]
    }
   ],
   "source": [
    "# Common errors\n",
    "result = 'Hello' + 5"
   ]
  },
  {
   "cell_type": "code",
   "execution_count": 10,
   "id": "77e5f165",
   "metadata": {},
   "outputs": [
    {
     "name": "stdout",
     "output_type": "stream",
     "text": [
      "Hello5\n"
     ]
    }
   ],
   "source": [
    "# Typecast the data type and add it.\n",
    "result = 'Hello' + str(5)\n",
    "print(result)"
   ]
  }
 ],
 "metadata": {
  "kernelspec": {
   "display_name": "myvenv",
   "language": "python",
   "name": "python3"
  },
  "language_info": {
   "codemirror_mode": {
    "name": "ipython",
    "version": 3
   },
   "file_extension": ".py",
   "mimetype": "text/x-python",
   "name": "python",
   "nbconvert_exporter": "python",
   "pygments_lexer": "ipython3",
   "version": "3.12.0"
  }
 },
 "nbformat": 4,
 "nbformat_minor": 5
}
