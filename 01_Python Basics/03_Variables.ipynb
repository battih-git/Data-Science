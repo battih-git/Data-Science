{
 "cells": [
  {
   "cell_type": "markdown",
   "id": "82aba2cb",
   "metadata": {},
   "source": [
    "# Variables\n",
    "Variables are fundamental elements in programming used to store data that can be referenced and manipulated in a program. In python, variables are created when you assign a value to them, and they do not need explicit declaration to reserve memory space. The declaration happends automatically when we assign a value to a variable.\n"
   ]
  },
  {
   "cell_type": "code",
   "execution_count": null,
   "id": "47d13ac7",
   "metadata": {},
   "outputs": [],
   "source": [
    "a = 100 # Variable a is created by storing 100 value to it"
   ]
  },
  {
   "cell_type": "code",
   "execution_count": 2,
   "id": "e64a6072",
   "metadata": {},
   "outputs": [
    {
     "name": "stdout",
     "output_type": "stream",
     "text": [
      "age:  31\n",
      "Height:  6\n",
      "Name:  Huzefa\n",
      "Student:  True\n"
     ]
    }
   ],
   "source": [
    "# Declaring and assigning variables\n",
    "age = 31\n",
    "height = 6\n",
    "name = \"Huzefa\"\n",
    "is_student = True\n",
    "\n",
    "# printing the variables\n",
    "print(\"age: \",age)\n",
    "print(\"Height: \",height)\n",
    "print(\"Name: \",name)\n",
    "print(\"Student: \",is_student)\n",
    "\n"
   ]
  },
  {
   "cell_type": "markdown",
   "id": "30acbf7a",
   "metadata": {},
   "source": [
    "### Naming conventions for variable"
   ]
  },
  {
   "cell_type": "markdown",
   "id": "b5bf571c",
   "metadata": {},
   "source": [
    "1. Start with a Letter or Underscore: Variable names must begin  with a letter (a-z, A-Z) or an underscore (_).\n"
   ]
  },
  {
   "cell_type": "code",
   "execution_count": null,
   "id": "bc43aa52",
   "metadata": {},
   "outputs": [],
   "source": [
    "name = \"Huzefa\"\n",
    "_age = 31"
   ]
  },
  {
   "cell_type": "markdown",
   "id": "03dd5134",
   "metadata": {},
   "source": [
    "2. Cannot Start with a Number:\n",
    "Variable names cannot begin with a digit.\n"
   ]
  },
  {
   "cell_type": "code",
   "execution_count": 4,
   "id": "63fc46eb",
   "metadata": {},
   "outputs": [
    {
     "ename": "SyntaxError",
     "evalue": "invalid decimal literal (2804870339.py, line 2)",
     "output_type": "error",
     "traceback": [
      "  \u001b[36mCell\u001b[39m\u001b[36m \u001b[39m\u001b[32mIn[4]\u001b[39m\u001b[32m, line 2\u001b[39m\n\u001b[31m    \u001b[39m\u001b[31m1name = \"Huzefa\"  # SyntaxError\u001b[39m\n    ^\n\u001b[31mSyntaxError\u001b[39m\u001b[31m:\u001b[39m invalid decimal literal\n"
     ]
    }
   ],
   "source": [
    "# Invalid\n",
    "1name = \"Huzefa\"  # SyntaxError"
   ]
  },
  {
   "cell_type": "markdown",
   "id": "b7d617de",
   "metadata": {},
   "source": [
    "3. Only Alphanumeric Characters and Underscores:\n",
    "Variable names can only contain letters, numbers, and underscores (_)."
   ]
  },
  {
   "cell_type": "code",
   "execution_count": 5,
   "id": "3c633998",
   "metadata": {},
   "outputs": [],
   "source": [
    "user_name = \"Huzefa\"\n",
    "age1 = 31"
   ]
  },
  {
   "cell_type": "markdown",
   "id": "9f209faf",
   "metadata": {},
   "source": [
    "4. Case-Sensitive: Variable names are case-sensitive, meaning name and Name are different variables.\n"
   ]
  },
  {
   "cell_type": "code",
   "execution_count": null,
   "id": "f91c871d",
   "metadata": {},
   "outputs": [],
   "source": [
    "name = \"Huzefa\"\n",
    "Name = \"Battiwala\""
   ]
  },
  {
   "cell_type": "markdown",
   "id": "3ca6d0e2",
   "metadata": {},
   "source": [
    "5. Cannot Use Reserved Keywords: Reserved keywords in Python (e.g., if, else, while, class, etc.) cannot be used as variable names.\n",
    "Example"
   ]
  },
  {
   "cell_type": "code",
   "execution_count": 6,
   "id": "4932fccf",
   "metadata": {},
   "outputs": [
    {
     "ename": "SyntaxError",
     "evalue": "invalid syntax (2253510568.py, line 2)",
     "output_type": "error",
     "traceback": [
      "  \u001b[36mCell\u001b[39m\u001b[36m \u001b[39m\u001b[32mIn[6]\u001b[39m\u001b[32m, line 2\u001b[39m\n\u001b[31m    \u001b[39m\u001b[31mif = 10  # SyntaxError\u001b[39m\n       ^\n\u001b[31mSyntaxError\u001b[39m\u001b[31m:\u001b[39m invalid syntax\n"
     ]
    }
   ],
   "source": [
    "# Invalid\n",
    "if = 10  # SyntaxError"
   ]
  },
  {
   "cell_type": "markdown",
   "id": "85221a59",
   "metadata": {},
   "source": [
    "### Best Practices:\n"
   ]
  },
  {
   "cell_type": "markdown",
   "id": "339a0d04",
   "metadata": {},
   "source": [
    "1. Use Descriptive Names: Choose meaningful names that describe the purpose of the variable."
   ]
  },
  {
   "cell_type": "code",
   "execution_count": 7,
   "id": "e1d4e15c",
   "metadata": {},
   "outputs": [],
   "source": [
    "age = 31\n",
    "user_name = \"Huzefa\""
   ]
  },
  {
   "cell_type": "markdown",
   "id": "72dc125e",
   "metadata": {},
   "source": [
    "2. Follow Snake Case: Use snake_case for variable names (lowercase letters with underscores separating words)."
   ]
  },
  {
   "cell_type": "code",
   "execution_count": 8,
   "id": "7cd489fa",
   "metadata": {},
   "outputs": [],
   "source": [
    "first_name = \"Huzefa\"\n",
    "last_name = \"Battiwala\""
   ]
  },
  {
   "cell_type": "markdown",
   "id": "498c091c",
   "metadata": {},
   "source": [
    "3. Avoid Single-Letter Names: Avoid using single-letter names except for loop counters or temporary variables.\n"
   ]
  },
  {
   "cell_type": "code",
   "execution_count": 9,
   "id": "2e2a5acd",
   "metadata": {},
   "outputs": [],
   "source": [
    "# Avoid\n",
    "x = 10\n",
    "\n",
    "# Better\n",
    "total_price = 10"
   ]
  },
  {
   "cell_type": "markdown",
   "id": "d80bf27f",
   "metadata": {},
   "source": [
    "4. Use Constants for Fixed Values: Use all uppercase letters for constants.\n"
   ]
  },
  {
   "cell_type": "code",
   "execution_count": 10,
   "id": "d4b32371",
   "metadata": {},
   "outputs": [],
   "source": [
    "PI = 3.14159\n",
    "MAX_USERS = 100"
   ]
  },
  {
   "cell_type": "markdown",
   "id": "6067cfba",
   "metadata": {},
   "source": [
    "### Type checking and conversion\n",
    "\n",
    "Python is a dynamically typed language, meaning the type of a variable is determined at runtime. However, you can check the type of a variable and convert it to another type when needed."
   ]
  },
  {
   "cell_type": "markdown",
   "id": "f0c59115",
   "metadata": {},
   "source": [
    "### Type Checking\n",
    "You can use the type() function to check the type of a variable."
   ]
  },
  {
   "cell_type": "code",
   "execution_count": 11,
   "id": "d81fa308",
   "metadata": {},
   "outputs": [
    {
     "name": "stdout",
     "output_type": "stream",
     "text": [
      "<class 'int'>\n",
      "<class 'float'>\n",
      "<class 'str'>\n"
     ]
    }
   ],
   "source": [
    "x = 10\n",
    "y = 3.15\n",
    "z = 'Huzefa'\n",
    "\n",
    "print(type(x))\n",
    "print(type(y))\n",
    "print(type(z))"
   ]
  },
  {
   "cell_type": "markdown",
   "id": "8d469f30",
   "metadata": {},
   "source": [
    "### Type conversion\n",
    "\n",
    "Python provides built-in functions to convert variables from one type to another.\n",
    "\n",
    "Common Type Conversion Functions:\n",
    "int(): Converts to an integer.\n",
    "float(): Converts to a floating-point number.\n",
    "str(): Converts to a string.\n",
    "bool(): Converts to a boolean."
   ]
  },
  {
   "cell_type": "code",
   "execution_count": 12,
   "id": "4f5c776b",
   "metadata": {},
   "outputs": [
    {
     "name": "stdout",
     "output_type": "stream",
     "text": [
      "<class 'str'>\n",
      "<class 'int'>\n",
      "<class 'float'>\n"
     ]
    }
   ],
   "source": [
    "x = '100'\n",
    "y = int(x)\n",
    "z = float(x)\n",
    "\n",
    "print(type(x))\n",
    "print(type(y))\n",
    "print(type(z))"
   ]
  },
  {
   "cell_type": "code",
   "execution_count": 13,
   "id": "113f119d",
   "metadata": {},
   "outputs": [
    {
     "name": "stdout",
     "output_type": "stream",
     "text": [
      "<class 'float'>\n"
     ]
    }
   ],
   "source": [
    "# Implicit Type Conversion\n",
    "# Python automatically converts one type to another when needed (e.g., during arithmetic operations).\n",
    "\n",
    "x = 10\n",
    "y = 3.14\n",
    "x = x + y\n",
    "print(type(z))"
   ]
  },
  {
   "cell_type": "code",
   "execution_count": 14,
   "id": "543ed8a1",
   "metadata": {},
   "outputs": [
    {
     "name": "stdout",
     "output_type": "stream",
     "text": [
      "<class 'int'>\n"
     ]
    }
   ],
   "source": [
    "# Explicit Type Conversion\n",
    "# You can explicitly convert types using the conversion functions.\n",
    "\n",
    "x = 10\n",
    "y = '20'\n",
    "z = x + int(y)\n",
    "print(type(z))\n"
   ]
  },
  {
   "cell_type": "markdown",
   "id": "492b2a03",
   "metadata": {},
   "source": [
    "### Dynamic Typing in Python\n",
    "Python is a dynamically typed language, meaning that the type of a variable is determined at runtime, not in advance. You do not need to declare the type of a variable explicitly; it is inferred based on the value assigned to it."
   ]
  },
  {
   "cell_type": "code",
   "execution_count": 15,
   "id": "751fb429",
   "metadata": {},
   "outputs": [
    {
     "name": "stdout",
     "output_type": "stream",
     "text": [
      "<class 'int'>\n",
      "<class 'str'>\n"
     ]
    }
   ],
   "source": [
    "x = 10\n",
    "print(type(x))\n",
    "x = 'Huzefa'\n",
    "print(type(x))"
   ]
  },
  {
   "cell_type": "markdown",
   "id": "fdf8fbeb",
   "metadata": {},
   "source": [
    "### Input in Python\n",
    "In Python, the input() function is used to take input from the user. The input is always returned as a string, so you may need to convert it to the desired type (e.g., integer, float) using type conversion functions.\n",
    "\n"
   ]
  },
  {
   "cell_type": "code",
   "execution_count": null,
   "id": "8cb36364",
   "metadata": {},
   "outputs": [
    {
     "name": "stdout",
     "output_type": "stream",
     "text": [
      "<class 'str'>\n"
     ]
    }
   ],
   "source": [
    "age = input(\"What is your age: \")\n",
    "print(type(age))"
   ]
  },
  {
   "cell_type": "code",
   "execution_count": 6,
   "id": "b44af163",
   "metadata": {},
   "outputs": [
    {
     "name": "stdout",
     "output_type": "stream",
     "text": [
      "<class 'int'>\n"
     ]
    }
   ],
   "source": [
    "age = input(\"What is your age: \")\n",
    "age = int(age)\n",
    "print(type(age))"
   ]
  },
  {
   "cell_type": "code",
   "execution_count": null,
   "id": "9160455d",
   "metadata": {},
   "outputs": [],
   "source": []
  },
  {
   "cell_type": "code",
   "execution_count": null,
   "id": "99c757fb",
   "metadata": {},
   "outputs": [],
   "source": []
  }
 ],
 "metadata": {
  "kernelspec": {
   "display_name": "myvenv",
   "language": "python",
   "name": "python3"
  },
  "language_info": {
   "codemirror_mode": {
    "name": "ipython",
    "version": 3
   },
   "file_extension": ".py",
   "mimetype": "text/x-python",
   "name": "python",
   "nbconvert_exporter": "python",
   "pygments_lexer": "ipython3",
   "version": "3.12.0"
  }
 },
 "nbformat": 4,
 "nbformat_minor": 5
}
