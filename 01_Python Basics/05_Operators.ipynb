{
 "cells": [
  {
   "cell_type": "markdown",
   "id": "1e45c99e",
   "metadata": {},
   "source": [
    "# Operators:\n",
    "\n",
    "Python provides a variety of operators that are used to perform operations on variables and values. Here is a brief overview of the main types of operators in Python:\n",
    "\n",
    "1. **Arithmetic Operators**:\n",
    "    - `+` (Addition)\n",
    "    - `-` (Subtraction)\n",
    "    - `*` (Multiplication)\n",
    "    - `/` (Division)\n",
    "    - `%` (Modulus)\n",
    "    - `**` (Exponentiation)\n",
    "    - `//` (Floor Division)\n",
    "\n",
    "2. **Comparison Operators**:\n",
    "    - `==` (Equal)\n",
    "    - `!=` (Not equal)\n",
    "    - `>` (Greater than)\n",
    "    - `<` (Less than)\n",
    "    - `>=` (Greater than or equal to)\n",
    "    - `<=` (Less than or equal to)\n",
    "\n",
    "3. **Logical Operators**:\n",
    "    - `and` (Logical AND)\n",
    "    - `or` (Logical OR)\n",
    "    - `not` (Logical NOT)\n",
    "\n",
    "4. **Bitwise Operators**:\n",
    "    - `&` (AND)\n",
    "    - `|` (OR)\n",
    "    - `^` (XOR)\n",
    "    - `~` (NOT)\n",
    "    - `<<` (Left shift)\n",
    "    - `>>` (Right shift)\n",
    "\n",
    "5. **Assignment Operators**:\n",
    "    - `=` (Assign)\n",
    "    - `+=` (Add and assign)\n",
    "    - `-=` (Subtract and assign)\n",
    "    - `*=` (Multiply and assign)\n",
    "    - `/=` (Divide and assign)\n",
    "    - `%=` (Modulus and assign)\n",
    "    - `**=` (Exponentiation and assign)\n",
    "    - `//=` (Floor division and assign)\n",
    "\n",
    "6. **Membership Operators**:\n",
    "    - `in` (Checks if a value is in a sequence)\n",
    "    - `not in` (Checks if a value is not in a sequence)\n",
    "\n",
    "7. **Identity Operators**:\n",
    "    - `is` (Checks if two variables refer to the same object)\n",
    "    - `is not` (Checks if two variables do not refer to the same object)\n",
    "\n",
    "8. **Ternary Operator**:\n",
    "    - `x if condition else y` (Returns `x` if the condition is true, otherwise returns `y`)\n",
    "\n",
    "Let me know if you'd like examples for any of these!"
   ]
  },
  {
   "cell_type": "code",
   "execution_count": 1,
   "id": "466e3e1a",
   "metadata": {},
   "outputs": [
    {
     "name": "stdout",
     "output_type": "stream",
     "text": [
      "15\n",
      "5\n",
      "50\n",
      "2.0\n",
      "2\n",
      "0\n",
      "100000\n"
     ]
    }
   ],
   "source": [
    "# Airthmetic operation\n",
    "a = 10\n",
    "b = 5\n",
    "\n",
    "add_result = a+b\n",
    "sub_result = a-b\n",
    "mult_result = a*b\n",
    "division_result = a/b\n",
    "floor_div_result = a//b\n",
    "modulus_result = a%b\n",
    "exponent_result = a**b\n",
    "\n",
    "print(add_result)\n",
    "print(sub_result)\n",
    "print(mult_result)\n",
    "print(division_result)\n",
    "print(floor_div_result)\n",
    "print(modulus_result)\n",
    "print(exponent_result)"
   ]
  },
  {
   "cell_type": "code",
   "execution_count": 2,
   "id": "97cb8674",
   "metadata": {},
   "outputs": [
    {
     "name": "stdout",
     "output_type": "stream",
     "text": [
      "False\n",
      "True\n",
      "True\n",
      "True\n",
      "False\n",
      "False\n"
     ]
    }
   ],
   "source": [
    "# Comparision operator\n",
    "a = 5\n",
    "b = 3\n",
    "\n",
    "print(a==b)\n",
    "print(a!=b)\n",
    "print(a>=b)\n",
    "print(a>b)\n",
    "print(a<b)\n",
    "print(a<=b)\n"
   ]
  },
  {
   "cell_type": "code",
   "execution_count": 10,
   "id": "512a01f6",
   "metadata": {},
   "outputs": [
    {
     "name": "stdout",
     "output_type": "stream",
     "text": [
      "False\n",
      "True\n",
      "True\n",
      "True\n",
      "False\n",
      "False\n"
     ]
    }
   ],
   "source": [
    "str_1 = \"Huzefa\"\n",
    "str_2 = \"Battiwala\"\n",
    "\n",
    "print(str_1==str_2)\n",
    "print(str_1!=str_2)\n",
    "print(str_1>=str_2)\n",
    "print(str_1>str_2)\n",
    "print(str_1<str_2)\n",
    "print(str_1<=str_2)"
   ]
  },
  {
   "cell_type": "code",
   "execution_count": null,
   "id": "06216478",
   "metadata": {},
   "outputs": [
    {
     "name": "stdout",
     "output_type": "stream",
     "text": [
      "True\n"
     ]
    }
   ],
   "source": [
    "# And: To check if the both conditions are True else its false\n",
    "x = True\n",
    "y = True\n",
    "result = x and y\n",
    "print(result)"
   ]
  },
  {
   "cell_type": "code",
   "execution_count": 13,
   "id": "9815e82d",
   "metadata": {},
   "outputs": [
    {
     "name": "stdout",
     "output_type": "stream",
     "text": [
      "True\n"
     ]
    }
   ],
   "source": [
    "# Or: To check if either of the condition is True else its false\n",
    "x = True\n",
    "y = False\n",
    "result = x or y\n",
    "print(result)"
   ]
  },
  {
   "cell_type": "code",
   "execution_count": 14,
   "id": "8d1a7551",
   "metadata": {},
   "outputs": [
    {
     "name": "stdout",
     "output_type": "stream",
     "text": [
      "False\n"
     ]
    }
   ],
   "source": [
    "# Not: Negate the current bool value\n",
    "x = True\n",
    "y = True\n",
    "\n",
    "result = not x and y\n",
    "print(result)"
   ]
  },
  {
   "cell_type": "code",
   "execution_count": null,
   "id": "6bd68bce",
   "metadata": {},
   "outputs": [],
   "source": []
  }
 ],
 "metadata": {
  "kernelspec": {
   "display_name": "myvenv",
   "language": "python",
   "name": "python3"
  },
  "language_info": {
   "codemirror_mode": {
    "name": "ipython",
    "version": 3
   },
   "file_extension": ".py",
   "mimetype": "text/x-python",
   "name": "python",
   "nbconvert_exporter": "python",
   "pygments_lexer": "ipython3",
   "version": "3.12.0"
  }
 },
 "nbformat": 4,
 "nbformat_minor": 5
}
