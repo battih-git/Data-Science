{
 "cells": [
  {
   "cell_type": "markdown",
   "id": "de5105d7",
   "metadata": {},
   "source": [
    "# Encapsulation\n",
    "\n",
    "Encapsulation is one of the four fundamental principles of Object-Oriented Programming (OOP) (the others being Abstraction, Inheritance, and Polymorphism). It restricts direct access to some of an object's components, which is often done to prevent unintended interference and to make the code more maintainable."
   ]
  },
  {
   "cell_type": "markdown",
   "id": "a3db8dac",
   "metadata": {
    "vscode": {
     "languageId": "plaintext"
    }
   },
   "source": [
    "In Python, encapsulation is achieved through the use of private and public access modifiers. However, Python relies on convention more than enforced access restrictions. By convention, Python uses the following:\n",
    "\n",
    "    Public attributes and methods: Accessible from outside the class.\n",
    "\n",
    "    Private attributes and methods: Not meant to be accessed directly from outside the class, though they are not strictly private and can be accessed (they're just \"name-mangled\")."
   ]
  },
  {
   "cell_type": "code",
   "execution_count": null,
   "id": "9a4d5afe",
   "metadata": {},
   "outputs": [
    {
     "name": "stdout",
     "output_type": "stream",
     "text": [
      "Huzefa\n",
      "31\n",
      "Male\n"
     ]
    }
   ],
   "source": [
    "class Person:\n",
    "    def __init__(self, name, age, gender):\n",
    "        self.name = name                    # public attribute\n",
    "        self.age = age                      # public attribute\n",
    "        self.gender = gender                # public attribute\n",
    "\n",
    "person = Person('Huzefa', 31, 'Male')\n",
    "print(person.name)\n",
    "print(person.age)\n",
    "print(person.gender)\n",
    "\n",
    "# The above attributes are public. Hence, we are able to access it"
   ]
  },
  {
   "cell_type": "code",
   "execution_count": 4,
   "id": "565ab641",
   "metadata": {},
   "outputs": [
    {
     "ename": "AttributeError",
     "evalue": "'Person' object has no attribute 'name'",
     "output_type": "error",
     "traceback": [
      "\u001b[31m---------------------------------------------------------------------------\u001b[39m",
      "\u001b[31mAttributeError\u001b[39m                            Traceback (most recent call last)",
      "\u001b[36mCell\u001b[39m\u001b[36m \u001b[39m\u001b[32mIn[4]\u001b[39m\u001b[32m, line 8\u001b[39m\n\u001b[32m      5\u001b[39m         \u001b[38;5;28mself\u001b[39m.__gender = gender                \u001b[38;5;66;03m# publick attribute\u001b[39;00m\n\u001b[32m      7\u001b[39m person = Person(\u001b[33m'\u001b[39m\u001b[33mHuzefa\u001b[39m\u001b[33m'\u001b[39m, \u001b[32m31\u001b[39m, \u001b[33m'\u001b[39m\u001b[33mMale\u001b[39m\u001b[33m'\u001b[39m)\n\u001b[32m----> \u001b[39m\u001b[32m8\u001b[39m \u001b[38;5;28mprint\u001b[39m(\u001b[43mperson\u001b[49m\u001b[43m.\u001b[49m\u001b[43mname\u001b[49m)\n\u001b[32m      9\u001b[39m \u001b[38;5;28mprint\u001b[39m(person.age)\n\u001b[32m     10\u001b[39m \u001b[38;5;28mprint\u001b[39m(person.gender)\n",
      "\u001b[31mAttributeError\u001b[39m: 'Person' object has no attribute 'name'"
     ]
    }
   ],
   "source": [
    "class Person:\n",
    "    def __init__(self, name, age, gender):\n",
    "        self.__name = name                    # publick attribute\n",
    "        self.__age = age                      # publick attribute\n",
    "        self.__gender = gender                # publick attribute\n",
    "\n",
    "person = Person('Huzefa', 31, 'Male')\n",
    "print(person.name)\n",
    "print(person.age)\n",
    "print(person.gender)\n",
    "\n",
    "# The above attributes are private. Hence, we are unable to access it"
   ]
  },
  {
   "cell_type": "code",
   "execution_count": 5,
   "id": "b9ddccb4",
   "metadata": {},
   "outputs": [
    {
     "name": "stdout",
     "output_type": "stream",
     "text": [
      "Huzefa\n"
     ]
    }
   ],
   "source": [
    "# Though the attribute are not strictly private but they are name mangled. Hence, those are still accessible\n",
    "print(person._Person__name)"
   ]
  },
  {
   "cell_type": "markdown",
   "id": "b9c5acfc",
   "metadata": {},
   "source": [
    "Using Getter and Setter Methods (Encapsulation in Action)\n",
    "\n",
    "Sometimes, you want to control how data is set or retrieved. This is where getter and setter methods come into play. These methods allow us to define validation logic when accessing or modifying private attributes."
   ]
  },
  {
   "cell_type": "code",
   "execution_count": 9,
   "id": "9f921c53",
   "metadata": {},
   "outputs": [
    {
     "name": "stdout",
     "output_type": "stream",
     "text": [
      "Huzefa\n",
      "huZefa\n",
      "30\n",
      "31\n"
     ]
    }
   ],
   "source": [
    "class Person:\n",
    "    def __init__(self, name, age, gender):\n",
    "        self.__name = name                    # publick attribute\n",
    "        self.__age = age                      # publick attribute\n",
    "        self.__gender = gender                # publick attribute\n",
    "\n",
    "    # Getter method to get the name\n",
    "    def get_name(self):\n",
    "        return self.__name\n",
    "\n",
    "    # Setter method to update the name\n",
    "    def set_name(self, name):\n",
    "        self.__name = name\n",
    "    \n",
    "    def get_age(self):\n",
    "        return self.__age\n",
    "    \n",
    "    def set_age(self,age):\n",
    "        if age>0:\n",
    "            self.__age = age\n",
    "        else:\n",
    "            return \"Age cannot be negative.\"\n",
    "        \n",
    "    \n",
    "person = Person('Huzefa', 30, 'Male')\n",
    "print(person.get_name())\n",
    "person.set_name(\"huZefa\")\n",
    "print(person.get_name())\n",
    "print(person.get_age())\n",
    "person.set_age(31)\n",
    "print(person.get_age())"
   ]
  },
  {
   "cell_type": "code",
   "execution_count": null,
   "id": "4221755a",
   "metadata": {},
   "outputs": [],
   "source": []
  }
 ],
 "metadata": {
  "kernelspec": {
   "display_name": "myvenv",
   "language": "python",
   "name": "python3"
  },
  "language_info": {
   "codemirror_mode": {
    "name": "ipython",
    "version": 3
   },
   "file_extension": ".py",
   "mimetype": "text/x-python",
   "name": "python",
   "nbconvert_exporter": "python",
   "pygments_lexer": "ipython3",
   "version": "3.12.0"
  }
 },
 "nbformat": 4,
 "nbformat_minor": 5
}
