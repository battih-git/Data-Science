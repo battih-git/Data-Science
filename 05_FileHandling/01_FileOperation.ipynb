{
 "cells": [
  {
   "cell_type": "markdown",
   "id": "62fc5db0",
   "metadata": {},
   "source": [
    "\n",
    "# File Operation- Read And Write Files\n",
    "\n",
    "File handling is a crucial part of any programming language. Python provides built-in functions and methods to read from and write to files, both text and binary. This lesson will cover the basics of file handling, including reading and writing text files and binary files.\n"
   ]
  },
  {
   "cell_type": "code",
   "execution_count": 5,
   "id": "522f117f",
   "metadata": {},
   "outputs": [
    {
     "name": "stdout",
     "output_type": "stream",
     "text": [
      "Hello world\n",
      "This is a first line.\n",
      "This is a second line.\n",
      "My name is Huzefa.\n",
      "I am learning data science.\n"
     ]
    }
   ],
   "source": [
    "# Read a whole file\n",
    "with open('example.txt','r') as file:\n",
    "    content = file.read()\n",
    "    print(content)"
   ]
  },
  {
   "cell_type": "code",
   "execution_count": 8,
   "id": "06a25e85",
   "metadata": {},
   "outputs": [
    {
     "name": "stdout",
     "output_type": "stream",
     "text": [
      "Hello world\n",
      "This is a first line.\n",
      "This is a second line.\n",
      "My name is Huzefa.\n",
      "I am learning data science.\n"
     ]
    }
   ],
   "source": [
    "with open('example.txt','r') as file:\n",
    "    for line in file.readlines():\n",
    "        print(line.strip())"
   ]
  },
  {
   "cell_type": "code",
   "execution_count": 9,
   "id": "b03bfc2a",
   "metadata": {},
   "outputs": [],
   "source": [
    "# Writing a file (Overwriting)\n",
    "with open('example.txt', 'w') as file:\n",
    "    file.write(\"Hello World!\\n\")\n",
    "    file.write(\"This is a new line\")"
   ]
  },
  {
   "cell_type": "code",
   "execution_count": 11,
   "id": "9ba87ab1",
   "metadata": {},
   "outputs": [],
   "source": [
    "# Write a file without overwriting\n",
    "with open('example.txt','a') as file:\n",
    "    file.write(\"\\nAppend operation taking place.\")"
   ]
  },
  {
   "cell_type": "code",
   "execution_count": 12,
   "id": "d0ec5a2e",
   "metadata": {},
   "outputs": [],
   "source": [
    "lines = ['First Line \\n', 'Second line\\n', 'Third line\\n']\n",
    "with open('example.txt','a') as file:\n",
    "    file.writelines(lines)"
   ]
  },
  {
   "cell_type": "code",
   "execution_count": 15,
   "id": "91559853",
   "metadata": {},
   "outputs": [],
   "source": [
    "# Binary files.\n",
    "data = b'Helo World'\n",
    "with open('example.bin','wb') as file:\n",
    "    file.write(data)"
   ]
  },
  {
   "cell_type": "code",
   "execution_count": 18,
   "id": "57652c21",
   "metadata": {},
   "outputs": [
    {
     "name": "stdout",
     "output_type": "stream",
     "text": [
      "b'Helo World'\n"
     ]
    }
   ],
   "source": [
    "data = b'Helo World'\n",
    "with open('example.bin','rb') as file:\n",
    "    print(file.read())"
   ]
  },
  {
   "cell_type": "code",
   "execution_count": 20,
   "id": "af0fce6b",
   "metadata": {},
   "outputs": [],
   "source": [
    "## Read the content from source text file and write it to a destination text file\n",
    "with open('example.txt','r') as source_file:\n",
    "    content = source_file.read()\n",
    "\n",
    "with open('destination_file.txt','w') as destination_file:\n",
    "    destination_file.write(content)"
   ]
  },
  {
   "cell_type": "code",
   "execution_count": 22,
   "id": "89c160e4",
   "metadata": {},
   "outputs": [
    {
     "name": "stdout",
     "output_type": "stream",
     "text": [
      "Hello World\n",
      "This is a first line\n",
      "\n"
     ]
    }
   ],
   "source": [
    "# Writing and reading a file\n",
    "with open('example.txt','w+') as file:\n",
    "    file.write(\"Hello World\\n\")\n",
    "    file.write(\"This is a first line\\n\")\n",
    "\n",
    "\n",
    "    # Move the file cursor to the beginning\n",
    "    file.seek(0)\n",
    "\n",
    "    \n",
    "    # Read the content of the file\n",
    "    content = file.read()\n",
    "\n",
    "    print(content)"
   ]
  },
  {
   "cell_type": "code",
   "execution_count": 26,
   "id": "9b3640b3",
   "metadata": {},
   "outputs": [
    {
     "name": "stdout",
     "output_type": "stream",
     "text": [
      "Lines: 2, Words: 7, Characters: 33\n"
     ]
    }
   ],
   "source": [
    "def count_file_contents(file_path):\n",
    "    with open(file_path, 'r') as file:\n",
    "        lines = file.readlines()\n",
    "        lines_count = len(lines)\n",
    "        word_count = sum(len(line.split()) for line in lines)\n",
    "        char_count = sum(len(line) for line in lines)\n",
    "    return lines_count, word_count, char_count\n",
    "\n",
    "file_path = 'example.txt'\n",
    "lines, words, char = count_file_contents(file_path)\n",
    "print(f'Lines: {lines}, Words: {words}, Characters: {char}')\n"
   ]
  },
  {
   "cell_type": "code",
   "execution_count": null,
   "id": "a4730559",
   "metadata": {},
   "outputs": [],
   "source": []
  }
 ],
 "metadata": {
  "kernelspec": {
   "display_name": "myvenv",
   "language": "python",
   "name": "python3"
  },
  "language_info": {
   "codemirror_mode": {
    "name": "ipython",
    "version": 3
   },
   "file_extension": ".py",
   "mimetype": "text/x-python",
   "name": "python",
   "nbconvert_exporter": "python",
   "pygments_lexer": "ipython3",
   "version": "3.12.0"
  }
 },
 "nbformat": 4,
 "nbformat_minor": 5
}
