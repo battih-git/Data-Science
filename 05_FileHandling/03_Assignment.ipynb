{
 "cells": [
  {
   "cell_type": "markdown",
   "id": "cfc3180a",
   "metadata": {},
   "source": [
    "# Module: File Handling Assignments\n",
    "## Lesson: File Handling and Operations\n",
    "### Assignment 1: Reading a File\n",
    "\n",
    "Write a function that reads the contents of a file named `sample.txt` and prints each line."
   ]
  },
  {
   "cell_type": "code",
   "execution_count": 6,
   "id": "69d60041",
   "metadata": {},
   "outputs": [
    {
     "name": "stdout",
     "output_type": "stream",
     "text": [
      "Hello World\n",
      "This is a first line\n"
     ]
    }
   ],
   "source": [
    "def func(file_path):\n",
    "    with open(file_path,'r')  as file:\n",
    "        for line in file.readlines():\n",
    "            print(line.strip())\n",
    "\n",
    "func('example.txt')"
   ]
  },
  {
   "cell_type": "markdown",
   "id": "4fd95450",
   "metadata": {},
   "source": [
    "### Assignment 2: Writing to a File\n",
    "\n",
    "Write a function that writes a list of strings to a file named `output.txt`, with each string on a new line."
   ]
  },
  {
   "cell_type": "code",
   "execution_count": 7,
   "id": "171b3176",
   "metadata": {},
   "outputs": [],
   "source": [
    "def func(list_of_strings):\n",
    "    with open('output.txt','w') as file:\n",
    "        for line in list_of_strings:\n",
    "            file.write(line + \"\\n\")\n",
    "\n",
    "write_file = ['Helllo', 'World']\n",
    "func(write_file)"
   ]
  },
  {
   "cell_type": "markdown",
   "id": "b4a005ba",
   "metadata": {},
   "source": [
    "### Assignment 3: Copying a File\n",
    "\n",
    "Write a function that copies the contents of a file named `source.txt` to a new file named `destination.txt`."
   ]
  },
  {
   "cell_type": "code",
   "execution_count": 9,
   "id": "d64471d0",
   "metadata": {},
   "outputs": [],
   "source": [
    "def func(source_file_path, destination_file_path):\n",
    "    with open(source_file_path, 'r') as source_file:\n",
    "        content = source_file.read()\n",
    "    \n",
    "    with open(destination_file_path, 'w') as destination_file:\n",
    "        destination_file.write(content)\n",
    "\n",
    "func('example.txt','output.txt')\n"
   ]
  },
  {
   "cell_type": "markdown",
   "id": "ea3a03ec",
   "metadata": {},
   "source": [
    "### Assignment 4: Appending to a File\n",
    "\n",
    "Write a function that appends a given string to the end of a file named `log.txt`."
   ]
  },
  {
   "cell_type": "code",
   "execution_count": 10,
   "id": "ff0573b8",
   "metadata": {},
   "outputs": [],
   "source": [
    "def func(string):\n",
    "    with open('log.txt', 'a') as log_file:\n",
    "        log_file.write(string)\n",
    "\n",
    "func(\"This function ran.\")"
   ]
  },
  {
   "cell_type": "markdown",
   "id": "b9ff2939",
   "metadata": {},
   "source": [
    "### Assignment 5: Counting Words in a File\n",
    "\n",
    "Write a function that reads the contents of a file named `document.txt` and returns the number of words in the file."
   ]
  },
  {
   "cell_type": "code",
   "execution_count": 13,
   "id": "3dd39863",
   "metadata": {},
   "outputs": [
    {
     "data": {
      "text/plain": [
       "7"
      ]
     },
     "execution_count": 13,
     "metadata": {},
     "output_type": "execute_result"
    }
   ],
   "source": [
    "def read_contents(file_path):\n",
    "    with open(file_path,'r') as file:\n",
    "        content = file.read()\n",
    "        words = content.split()\n",
    "        return len(words)\n",
    "\n",
    "read_contents('output.txt')\n"
   ]
  },
  {
   "cell_type": "markdown",
   "id": "cba0eebb",
   "metadata": {},
   "source": [
    "### Assignment 6: Finding and Replacing Text\n",
    "\n",
    "Write a function that finds and replaces all occurrences of a given word in a file named `data.txt` with another word."
   ]
  },
  {
   "cell_type": "code",
   "execution_count": 16,
   "id": "eb847be1",
   "metadata": {},
   "outputs": [],
   "source": [
    "def find_replace_occurences(file_path, old_word, new_word):\n",
    "    with open(file_path,'r') as file:\n",
    "        text = file.read()\n",
    "    text = text.replace(old_word,new_word)\n",
    "    with open(file_path,'w') as file:\n",
    "        file.write(text)\n",
    "\n",
    "find_replace_occurences('output.txt','Hello','Hi')\n"
   ]
  },
  {
   "cell_type": "markdown",
   "id": "0c7350e9",
   "metadata": {},
   "source": [
    "### Assignment 7: Reading a File in Reverse\n",
    "\n",
    "Write a function that reads the contents of a file named `reverse.txt` and prints each line in reverse order."
   ]
  },
  {
   "cell_type": "code",
   "execution_count": 30,
   "id": "c0019acc",
   "metadata": {},
   "outputs": [
    {
     "name": "stdout",
     "output_type": "stream",
     "text": [
      "I am learning Data Science\n",
      "My name is Huzefa\n",
      "Hello! How are you\n"
     ]
    }
   ],
   "source": [
    "def read_reversed(file_path):\n",
    "    with open(file_path,'r') as file:\n",
    "        lines = file.readlines()\n",
    "        for line in reversed(lines):\n",
    "            print(line.strip())\n",
    "\n",
    "\n",
    "read_reversed('output.txt')"
   ]
  },
  {
   "cell_type": "markdown",
   "id": "cf79b390",
   "metadata": {},
   "source": [
    "### Assignment 8: Counting Lines, Words, and Characters\n",
    "\n",
    "Write a function that reads the contents of a file named `stats.txt` and returns the number of lines, words, and characters in the file."
   ]
  },
  {
   "cell_type": "code",
   "execution_count": 39,
   "id": "b7c811ef",
   "metadata": {},
   "outputs": [
    {
     "name": "stdout",
     "output_type": "stream",
     "text": [
      "In file there are 3 lines, 13 words and 64 characters.\n"
     ]
    }
   ],
   "source": [
    "def count_lines_words_char(file_path):\n",
    "    with open(file_path,'r') as file:\n",
    "        lines = file.readlines()\n",
    "        lines_count = len(lines)\n",
    "        words_count = sum(len(line.split()) for line in lines)\n",
    "        char_count = sum(len(line) for line in lines)\n",
    "        return lines_count, words_count, char_count\n",
    "    \n",
    "lines, words, char = count_lines_words_char('output.txt')\n",
    "print(f\"In file there are {lines} lines, {words} words and {char} characters.\")\n"
   ]
  },
  {
   "cell_type": "markdown",
   "id": "3bb5fa1f",
   "metadata": {},
   "source": [
    "### Assignment 9: Merging Multiple Files\n",
    "\n",
    "Write a function that merges the contents of multiple files into a single file named `merged.txt`."
   ]
  },
  {
   "cell_type": "code",
   "execution_count": 40,
   "id": "b8f6f546",
   "metadata": {},
   "outputs": [],
   "source": [
    "def merge_files(file_list):\n",
    "    with open('merged.txt','w') as output_file:\n",
    "        for file in file_list:\n",
    "            with open(file,'r') as input_file:\n",
    "                content = input_file.read()\n",
    "                output_file.write(content + '\\n')\n",
    "\n",
    "file_list = ['output.txt','log.txt']\n",
    "merge_files(file_list)\n"
   ]
  },
  {
   "cell_type": "markdown",
   "id": "ec3f15b7",
   "metadata": {},
   "source": [
    "### Assignment 10: Splitting a Large File\n",
    "\n",
    "Write a function that splits a large file named `large.txt` into smaller files of 100 lines each."
   ]
  },
  {
   "cell_type": "code",
   "execution_count": null,
   "id": "842fdc8e",
   "metadata": {},
   "outputs": [],
   "source": [
    "def split_file(file_path):\n",
    "    with open(file_path,'r') as file:\n",
    "        lines = file.readlines()\n",
    "        for i in range(0,len(lines), 100):\n",
    "            with open(f'Split_file_{i//100+1}.txt','w') as output_file:\n",
    "                output_file.write(lines[i:i+100])\n",
    "\n",
    "split_file('output.txt')"
   ]
  },
  {
   "cell_type": "markdown",
   "id": "32905246",
   "metadata": {},
   "source": [
    "### Assignment 11: Creating a Log File\n",
    "\n",
    "Write a function that creates a log file named `activity.log` and writes log messages with timestamps."
   ]
  },
  {
   "cell_type": "code",
   "execution_count": 53,
   "id": "c9832bb0",
   "metadata": {},
   "outputs": [],
   "source": [
    "import datetime\n",
    "def log_message(message,file_name='activity_log.txt'):\n",
    "    timestamp = datetime.datetime.now()\n",
    "    with open(file_name,'a') as log_file:\n",
    "        log_file.write(f\"{timestamp} : {message}\\n\")\n",
    "\n",
    "\n",
    "log_message(\"This is a log message\")      "
   ]
  },
  {
   "cell_type": "markdown",
   "id": "33dd3a10",
   "metadata": {},
   "source": [
    "### Assignment 12: Binary File Operations\n",
    "\n",
    "Write a function that reads a binary file named `image.bin` and writes its contents to another binary file named `copy_image.bin`."
   ]
  },
  {
   "cell_type": "code",
   "execution_count": null,
   "id": "59428b6e",
   "metadata": {},
   "outputs": [],
   "source": [
    "def copy_binary_file(src_file, dest_file):\n",
    "    with open(src_file, 'rb') as source_file:\n",
    "        with open(dest_file,'wb') as destination_file:\n",
    "            destination_file.write(source_file.read())\n",
    "\n",
    "copy_binary_file('image.bin','copy_image.bin')"
   ]
  },
  {
   "cell_type": "markdown",
   "id": "bd45e6fb",
   "metadata": {},
   "source": [
    "### Assignment 13: CSV File Operations\n",
    "\n",
    "Write a function that reads a CSV file named `data.csv` and prints its contents as a list of dictionaries."
   ]
  },
  {
   "cell_type": "code",
   "execution_count": null,
   "id": "ffb71568",
   "metadata": {},
   "outputs": [],
   "source": [
    "import csv\n",
    "def read_csv_file(filename):\n",
    "    with open(filename,'r') as data:\n",
    "        reader = csv.DictReader(data)\n",
    "    return list(reader)\n",
    "\n",
    "read_csv_file('output.txt')"
   ]
  },
  {
   "cell_type": "markdown",
   "id": "d23bed83",
   "metadata": {},
   "source": [
    "### Assignment 14: JSON File Operations\n",
    "\n",
    "Write a function that reads a JSON file named `data.json` and prints its contents as a Python dictionary."
   ]
  },
  {
   "cell_type": "code",
   "execution_count": null,
   "id": "fed210c1",
   "metadata": {},
   "outputs": [],
   "source": [
    "import json\n",
    "def read_json(file_name):\n",
    "    with open(filename,'r') as jsondata:\n",
    "        data = json.load(jsondata)\n",
    "        return data\n",
    "read_json('data.json')"
   ]
  },
  {
   "cell_type": "markdown",
   "id": "8faf6eae",
   "metadata": {},
   "source": [
    "### Assignment 15: File Permission Handling\n",
    "\n",
    "Write a function that attempts to read a file named `protected.txt` and handles any permission errors gracefully by printing an error message."
   ]
  },
  {
   "cell_type": "code",
   "execution_count": 56,
   "id": "78cb9910",
   "metadata": {},
   "outputs": [],
   "source": [
    "def read_protected_file(filename):\n",
    "    try:\n",
    "        with open(filename,'r') as file:\n",
    "            data = file.read()\n",
    "    except PermissionError as e:\n",
    "        print(f\"PermissionError as {e}\")\n"
   ]
  },
  {
   "cell_type": "code",
   "execution_count": null,
   "id": "2a9b2180",
   "metadata": {},
   "outputs": [],
   "source": []
  }
 ],
 "metadata": {
  "kernelspec": {
   "display_name": "myvenv",
   "language": "python",
   "name": "python3"
  },
  "language_info": {
   "codemirror_mode": {
    "name": "ipython",
    "version": 3
   },
   "file_extension": ".py",
   "mimetype": "text/x-python",
   "name": "python",
   "nbconvert_exporter": "python",
   "pygments_lexer": "ipython3",
   "version": "3.12.0"
  }
 },
 "nbformat": 4,
 "nbformat_minor": 5
}
