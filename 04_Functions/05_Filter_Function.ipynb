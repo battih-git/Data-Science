{
 "cells": [
  {
   "cell_type": "markdown",
   "id": "67fdc7c1",
   "metadata": {},
   "source": [
    "# Filter\n",
    "The filter() function in Python is used to filter items from an iterable (like a list or tuple) based on a condition. It returns an iterator containing only the items for which the function returns True."
   ]
  },
  {
   "cell_type": "code",
   "execution_count": 4,
   "id": "e6fc4168",
   "metadata": {},
   "outputs": [],
   "source": [
    "def even(num):\n",
    "    if num%2==0:\n",
    "        return True"
   ]
  },
  {
   "cell_type": "code",
   "execution_count": 5,
   "id": "295aa243",
   "metadata": {},
   "outputs": [
    {
     "data": {
      "text/plain": [
       "True"
      ]
     },
     "execution_count": 5,
     "metadata": {},
     "output_type": "execute_result"
    }
   ],
   "source": [
    "even(24)"
   ]
  },
  {
   "cell_type": "code",
   "execution_count": 6,
   "id": "cafe931f",
   "metadata": {},
   "outputs": [
    {
     "name": "stdout",
     "output_type": "stream",
     "text": [
      "[2, 4, 6, 8]\n"
     ]
    }
   ],
   "source": [
    "lst = list(range(1,10))\n",
    "filtered_list = list(filter(even, lst))\n",
    "print(filtered_list)"
   ]
  },
  {
   "cell_type": "code",
   "execution_count": 7,
   "id": "8aaf784a",
   "metadata": {},
   "outputs": [
    {
     "name": "stdout",
     "output_type": "stream",
     "text": [
      "[2, 4, 6, 8]\n"
     ]
    }
   ],
   "source": [
    "filtered_list = list(filter(lambda x: x%2==0, lst))\n",
    "print(filtered_list)"
   ]
  },
  {
   "cell_type": "code",
   "execution_count": 8,
   "id": "fe52efed",
   "metadata": {},
   "outputs": [
    {
     "name": "stdout",
     "output_type": "stream",
     "text": [
      "[6, 7, 8, 9]\n"
     ]
    }
   ],
   "source": [
    "# Filter to only keep values greater than 5\n",
    "filtered_list = list(filter(lambda x: x>5, lst))\n",
    "print(filtered_list)"
   ]
  },
  {
   "cell_type": "code",
   "execution_count": 10,
   "id": "5a0b0b90",
   "metadata": {},
   "outputs": [
    {
     "name": "stdout",
     "output_type": "stream",
     "text": [
      "[6, 8]\n"
     ]
    }
   ],
   "source": [
    "# Filter with lambda and multiple conditions\n",
    "numbers = list(range(1,10))\n",
    "even_and_greater_than_five = list(filter(lambda x: x%2==0 and x>5, numbers))\n",
    "print(even_and_greater_than_five)"
   ]
  },
  {
   "cell_type": "code",
   "execution_count": 12,
   "id": "d1bc4a51",
   "metadata": {},
   "outputs": [
    {
     "data": {
      "text/plain": [
       "[{'name': 'Huzefa', 'age': 31},\n",
       " {'name': 'Jack', 'age': 33},\n",
       " {'name': 'Jane', 'age': 40}]"
      ]
     },
     "execution_count": 12,
     "metadata": {},
     "output_type": "execute_result"
    }
   ],
   "source": [
    "# Filter to check if the age is greater than 25 in dicitonary\n",
    "people = [\n",
    "    {'name':'Huzefa',\n",
    "     'age':31},\n",
    "     {'name':'Jack',\n",
    "      'age':33},\n",
    "      {'name':'John',\n",
    "      'age':22},\n",
    "      {'name':'Jane',\n",
    "      'age':40}\n",
    "]\n",
    "\n",
    "def age_greater(person):\n",
    "    return person['age']>25\n",
    "\n",
    "list(filter(age_greater,people))"
   ]
  },
  {
   "cell_type": "code",
   "execution_count": null,
   "id": "330126b6",
   "metadata": {},
   "outputs": [],
   "source": []
  }
 ],
 "metadata": {
  "kernelspec": {
   "display_name": "myvenv",
   "language": "python",
   "name": "python3"
  },
  "language_info": {
   "codemirror_mode": {
    "name": "ipython",
    "version": 3
   },
   "file_extension": ".py",
   "mimetype": "text/x-python",
   "name": "python",
   "nbconvert_exporter": "python",
   "pygments_lexer": "ipython3",
   "version": "3.12.0"
  }
 },
 "nbformat": 4,
 "nbformat_minor": 5
}
