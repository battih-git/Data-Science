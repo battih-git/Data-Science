{
 "cells": [
  {
   "cell_type": "markdown",
   "id": "2856529b",
   "metadata": {},
   "source": [
    "# Functions in Python\n",
    "\n",
    "Key takeaways:\n",
    "\n",
    "    Introduction to Functions\n",
    "    Defining Functions\n",
    "    Calling Functions\n",
    "    Function Parameters\n",
    "    Default Parameters\n",
    "    Variable-Length Arguments\n",
    "    Return Statement\n",
    "\n",
    "Introduction to Functions\n",
    "\n",
    "Definition:\n",
    "\n",
    "A function is a block of code that performs a specific task. Functions help in organizing code, reusing code, and improving readability.\n"
   ]
  },
  {
   "cell_type": "code",
   "execution_count": null,
   "id": "e47b0055",
   "metadata": {},
   "outputs": [],
   "source": [
    "# Syntax\n",
    "def function_name(parameters):\n",
    "    \"\"\"Docstring\"\"\"\n",
    "    #Function body\n",
    "    return expression"
   ]
  },
  {
   "cell_type": "code",
   "execution_count": 1,
   "id": "769a7934",
   "metadata": {},
   "outputs": [
    {
     "name": "stdout",
     "output_type": "stream",
     "text": [
      "The number is even\n"
     ]
    }
   ],
   "source": [
    "# why function?\n",
    "num = 24\n",
    "if num % 2 == 0:\n",
    "    print('The number is even')\n",
    "else:\n",
    "    print('The number is odd')"
   ]
  },
  {
   "cell_type": "code",
   "execution_count": 2,
   "id": "629e8a32",
   "metadata": {},
   "outputs": [],
   "source": [
    "# if we need to re-use this code multiple times. We can create a function\n",
    "def even_or_odd(num):\n",
    "    \"\"\"This function prints whether the number is even or odd. It takes one parameter as number.\"\"\"\n",
    "    if num % 2 == 0:\n",
    "        print(\"The number is even.\")\n",
    "\n",
    "    else:\n",
    "        print(\"The number is odd\")\n"
   ]
  },
  {
   "cell_type": "code",
   "execution_count": null,
   "id": "8423ea50",
   "metadata": {},
   "outputs": [
    {
     "name": "stdout",
     "output_type": "stream",
     "text": [
      "The number is even.\n"
     ]
    }
   ],
   "source": [
    "# Call this function name and pass the parameter inside the parenthesis if required.\n",
    "even_or_odd(20)"
   ]
  },
  {
   "cell_type": "code",
   "execution_count": null,
   "id": "1043d828",
   "metadata": {},
   "outputs": [],
   "source": [
    "# Functions with multiple parameter\n",
    "def add(a,b):\n",
    "    c = a + b\n",
    "    return c\n",
    "\n",
    "def add_alternative(a,b):\n",
    "    return a + b\n",
    "\n",
    "# Above both function would work in same manner"
   ]
  },
  {
   "cell_type": "code",
   "execution_count": 9,
   "id": "3a088604",
   "metadata": {},
   "outputs": [
    {
     "name": "stdout",
     "output_type": "stream",
     "text": [
      "Hello Huzefa Welcome to the paradise.\n"
     ]
    }
   ],
   "source": [
    "# Default parameters within a function\n",
    "def greet(name):\n",
    "    print(f\"Hello {name} Welcome to the paradise.\")\n",
    "\n",
    "greet(\"Huzefa\")\n"
   ]
  },
  {
   "cell_type": "code",
   "execution_count": 10,
   "id": "04243bc7",
   "metadata": {},
   "outputs": [
    {
     "ename": "TypeError",
     "evalue": "greet() missing 1 required positional argument: 'name'",
     "output_type": "error",
     "traceback": [
      "\u001b[31m---------------------------------------------------------------------------\u001b[39m",
      "\u001b[31mTypeError\u001b[39m                                 Traceback (most recent call last)",
      "\u001b[36mCell\u001b[39m\u001b[36m \u001b[39m\u001b[32mIn[10]\u001b[39m\u001b[32m, line 2\u001b[39m\n\u001b[32m      1\u001b[39m \u001b[38;5;66;03m# If we execute the function without a parameter it will throw an error\u001b[39;00m\n\u001b[32m----> \u001b[39m\u001b[32m2\u001b[39m \u001b[43mgreet\u001b[49m\u001b[43m(\u001b[49m\u001b[43m)\u001b[49m\n",
      "\u001b[31mTypeError\u001b[39m: greet() missing 1 required positional argument: 'name'"
     ]
    }
   ],
   "source": [
    "# If we execute the function without a parameter it will throw an error\n",
    "greet()"
   ]
  },
  {
   "cell_type": "code",
   "execution_count": 13,
   "id": "7367d99e",
   "metadata": {},
   "outputs": [
    {
     "name": "stdout",
     "output_type": "stream",
     "text": [
      "Hello Guest Welcome to the paradise.\n"
     ]
    }
   ],
   "source": [
    "# To overcome this issue, we can give a default value inside a function\n",
    "def greet(name=\"Guest\"):\n",
    "    print(f\"Hello {name} Welcome to the paradise.\")\n",
    "\n",
    "greet()"
   ]
  },
  {
   "cell_type": "code",
   "execution_count": null,
   "id": "95974180",
   "metadata": {},
   "outputs": [
    {
     "name": "stdout",
     "output_type": "stream",
     "text": [
      "1\n",
      "2\n",
      "3\n",
      "4\n",
      "5\n",
      "6\n",
      "7\n",
      "8\n",
      "9\n",
      "10\n"
     ]
    }
   ],
   "source": [
    "## *args\n",
    "\n",
    "def print_num(*args):\n",
    "    for num in args:\n",
    "        print(num)\n",
    "\n",
    "print_num(1,2,3,4,5,6,7,8,9,10)\n"
   ]
  },
  {
   "cell_type": "code",
   "execution_count": 23,
   "id": "af60f915",
   "metadata": {},
   "outputs": [],
   "source": [
    "# **kwargs\n",
    "def print_details(**kwargs):\n",
    "    for key,value in kwargs.items():\n",
    "        print(f\"{key}: {value}\")"
   ]
  },
  {
   "cell_type": "code",
   "execution_count": 25,
   "id": "462aed29",
   "metadata": {},
   "outputs": [
    {
     "name": "stdout",
     "output_type": "stream",
     "text": [
      "name: Huzefa\n",
      "last: Battiwala\n",
      "couuntry: India\n"
     ]
    }
   ],
   "source": [
    "print_details(name='Huzefa',last='Battiwala', couuntry='India')"
   ]
  },
  {
   "cell_type": "code",
   "execution_count": 26,
   "id": "c68411ac",
   "metadata": {},
   "outputs": [],
   "source": [
    "def print_details(*args, **kwargs):\n",
    "    for val in args:\n",
    "        print(f\"{val}\")\n",
    "    for key,value in kwargs.items():\n",
    "        print(f\"{key}: {value}\")"
   ]
  },
  {
   "cell_type": "code",
   "execution_count": 29,
   "id": "d2dd4f72",
   "metadata": {},
   "outputs": [
    {
     "name": "stdout",
     "output_type": "stream",
     "text": [
      "1\n",
      "2\n",
      "3\n",
      "4\n",
      "5\n",
      "6\n",
      "first: Huzefa\n",
      "last: Battiwala\n",
      "age: 31\n"
     ]
    }
   ],
   "source": [
    "print_details(1,2,3,4,5,6,first='Huzefa',last='Battiwala',age=31)"
   ]
  },
  {
   "cell_type": "code",
   "execution_count": 32,
   "id": "73beac5e",
   "metadata": {},
   "outputs": [
    {
     "data": {
      "text/plain": [
       "(6, 2)"
      ]
     },
     "execution_count": 32,
     "metadata": {},
     "output_type": "execute_result"
    }
   ],
   "source": [
    "## Return multiple values\n",
    "def multiply(a,b):\n",
    "    return a*b,a\n",
    "multiply(2,3)"
   ]
  },
  {
   "cell_type": "code",
   "execution_count": null,
   "id": "c33b906c",
   "metadata": {},
   "outputs": [],
   "source": []
  }
 ],
 "metadata": {
  "kernelspec": {
   "display_name": "myvenv",
   "language": "python",
   "name": "python3"
  },
  "language_info": {
   "codemirror_mode": {
    "name": "ipython",
    "version": 3
   },
   "file_extension": ".py",
   "mimetype": "text/x-python",
   "name": "python",
   "nbconvert_exporter": "python",
   "pygments_lexer": "ipython3",
   "version": "3.12.0"
  }
 },
 "nbformat": 4,
 "nbformat_minor": 5
}
