{
 "cells": [
  {
   "cell_type": "markdown",
   "id": "17918381",
   "metadata": {},
   "source": [
    "# Function Examples"
   ]
  },
  {
   "cell_type": "code",
   "execution_count": 2,
   "id": "a387b35d",
   "metadata": {},
   "outputs": [
    {
     "data": {
      "text/plain": [
       "104.0"
      ]
     },
     "execution_count": 2,
     "metadata": {},
     "output_type": "execute_result"
    }
   ],
   "source": [
    "# Example 1: Temprature Conversion\n",
    "\n",
    "def convert_temprature(temp,unit):\n",
    "    \"\"\"This function converts temprature between celcius and farenheitt\"\"\"\n",
    "    if unit == 'C':\n",
    "        return (temp * 9/5) + 32 # Converting celcius to farenhiett\n",
    "    elif unit == 'F':\n",
    "        return (temp-32) * 5/9 # Converting farenhiett to celcius\n",
    "    else:\n",
    "        return None\n",
    "\n",
    "convert_temprature(40,'C')"
   ]
  },
  {
   "cell_type": "code",
   "execution_count": 4,
   "id": "a90a5b09",
   "metadata": {},
   "outputs": [
    {
     "data": {
      "text/plain": [
       "True"
      ]
     },
     "execution_count": 4,
     "metadata": {},
     "output_type": "execute_result"
    }
   ],
   "source": [
    "# Example 2: Password Stregth Checker\n",
    "def is_strong_password(password):\n",
    "    \"\"\"This function checks if the password is strong or not\"\"\"\n",
    "    if len(password)<8:\n",
    "        return False\n",
    "    if not any(char.isdigit() for char in password):\n",
    "        return False\n",
    "    if not any(char.islower()  for char in password):\n",
    "        return False\n",
    "    if not any(char.isupper() for char in password):\n",
    "        return False\n",
    "    if not any(char.isalnum() for char in password):\n",
    "        return False\n",
    "    if not any(char in \"!@#$%^&*()_\" for char in password):\n",
    "        return False\n",
    "    return True\n",
    "\n",
    "## Calling a function\n",
    "is_strong_password(\"Xrjts@457\") \n"
   ]
  },
  {
   "cell_type": "code",
   "execution_count": 9,
   "id": "479e7ea9",
   "metadata": {},
   "outputs": [
    {
     "name": "stdout",
     "output_type": "stream",
     "text": [
      "The total cost of all the item in cart is: 2.0\n",
      "The total cost of all the item in cart is: 3.8\n",
      "The total cost of all the item in cart is: 5.9\n"
     ]
    }
   ],
   "source": [
    "# Example 3: Calculate the Total Cost of Items In a Shopping Cart\n",
    "\n",
    "def calculate_total_cost(cart):\n",
    "    total_cost = 0\n",
    "    for item in cart:\n",
    "        total_cost += item['price'] * item['quantity']\n",
    "        print (f\"The total cost of all the item in cart is: {round(total_cost,2)}\")\n",
    "\n",
    "cart = [\n",
    "    {'name':'Apple', 'price':0.5, 'quantity':4},\n",
    "    {'name':'Banana', 'price':0.3, 'quantity':6},\n",
    "    {'name':'Orange', 'price':0.7, 'quantity':3}\n",
    "]\n",
    "\n",
    "calculate_total_cost(cart=cart)"
   ]
  },
  {
   "cell_type": "code",
   "execution_count": 18,
   "id": "30147c9f",
   "metadata": {},
   "outputs": [
    {
     "data": {
      "text/plain": [
       "True"
      ]
     },
     "execution_count": 18,
     "metadata": {},
     "output_type": "execute_result"
    }
   ],
   "source": [
    "# Check if a string is a palindrome\n",
    "def is_Palindrome(string):\n",
    "    string = string.replace(\" \",\"\")\n",
    "    return string.lower()[::] == string.lower()[::-1]\n",
    "\n",
    "is_Palindrome('pop')"
   ]
  },
  {
   "cell_type": "code",
   "execution_count": 24,
   "id": "5cfc82c7",
   "metadata": {},
   "outputs": [
    {
     "data": {
      "text/plain": [
       "120"
      ]
     },
     "execution_count": 24,
     "metadata": {},
     "output_type": "execute_result"
    }
   ],
   "source": [
    "# Calculate the factorials of a number using recursion\n",
    "\n",
    "def calculate_factorial(n):\n",
    "    if n == 0:\n",
    "        return 1\n",
    "    else:\n",
    "        return n * calculate_factorial(n-1)\n",
    "    \n",
    "calculate_factorial(5)\n",
    "    "
   ]
  },
  {
   "cell_type": "code",
   "execution_count": 32,
   "id": "65e822b3",
   "metadata": {},
   "outputs": [
    {
     "name": "stdout",
     "output_type": "stream",
     "text": [
      "{'hello': 1, 'world.': 1, 'welcome': 1, 'to': 1, 'python': 1, 'my': 1, 'name': 1, 'is': 1, 'huzefa': 1, 'i': 2, 'am': 2, '31': 1, 'years': 1, 'old': 1, 'learning': 1, 'data': 1, 'science': 1}\n"
     ]
    }
   ],
   "source": [
    "# Example 6: A function to read a file and count the frequency of each word:\n",
    "def count_word_frequency(file_path):\n",
    "    word_count = {}\n",
    "    with open(file_path,'r') as file:\n",
    "        for line in file:\n",
    "            words = line.split()\n",
    "            for word in words:\n",
    "                word = word.lower().strip(\"!@#$%^&*()_|?<>\")\n",
    "                word_count[word] = word_count.get(word,0) + 1\n",
    "\n",
    "    return word_count\n",
    "\n",
    "word_frequency = count_word_frequency(\"sample.txt\")\n",
    "print(word_frequency)\n"
   ]
  },
  {
   "cell_type": "code",
   "execution_count": 35,
   "id": "c135ac17",
   "metadata": {},
   "outputs": [
    {
     "name": "stdout",
     "output_type": "stream",
     "text": [
      "True\n",
      "False\n"
     ]
    }
   ],
   "source": [
    "# Example 7: Valid email address\n",
    "import re\n",
    "def is_valid_email(email):\n",
    "    \"\"\"This functions checks if the email is valid\"\"\"\n",
    "    pattern = r'^[a-zA-Z0-9_.+-]+@[a-zA-Z0-9-]+\\.[a-zA-Z0-9-.]+$'\n",
    "    return re.match(pattern,email) is not None\n",
    "\n",
    "# Calling the function\n",
    "print(is_valid_email('test@example.com'))\n",
    "print(is_valid_email('invalidemail.'))"
   ]
  },
  {
   "cell_type": "code",
   "execution_count": null,
   "id": "83e9d4a8",
   "metadata": {},
   "outputs": [],
   "source": []
  }
 ],
 "metadata": {
  "kernelspec": {
   "display_name": "myvenv",
   "language": "python",
   "name": "python3"
  },
  "language_info": {
   "codemirror_mode": {
    "name": "ipython",
    "version": 3
   },
   "file_extension": ".py",
   "mimetype": "text/x-python",
   "name": "python",
   "nbconvert_exporter": "python",
   "pygments_lexer": "ipython3",
   "version": "3.12.0"
  }
 },
 "nbformat": 4,
 "nbformat_minor": 5
}
