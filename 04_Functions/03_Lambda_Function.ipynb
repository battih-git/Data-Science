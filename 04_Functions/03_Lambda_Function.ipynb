{
 "cells": [
  {
   "cell_type": "markdown",
   "id": "8e5f5033",
   "metadata": {},
   "source": [
    "# Lambda Function\n",
    "A lambda function in Python is a small, anonymous function defined using the lambda keyword. It can take any number of arguments but can only have one expression. The syntax is lambda arguments: expression. Lambda functions are often used for short, simple operations where a full function definition is unnecessary. They are commonly used with functions like map(), filter(), and sorted(). "
   ]
  },
  {
   "cell_type": "code",
   "execution_count": 1,
   "id": "8e4ffd65",
   "metadata": {},
   "outputs": [],
   "source": [
    "def addition(a,b):\n",
    "    return a+b"
   ]
  },
  {
   "cell_type": "code",
   "execution_count": 4,
   "id": "d5e13f92",
   "metadata": {},
   "outputs": [
    {
     "data": {
      "text/plain": [
       "function"
      ]
     },
     "execution_count": 4,
     "metadata": {},
     "output_type": "execute_result"
    }
   ],
   "source": [
    "addition = lambda x,y: x+y\n",
    "type(addition)"
   ]
  },
  {
   "cell_type": "code",
   "execution_count": 5,
   "id": "4ec02e11",
   "metadata": {},
   "outputs": [
    {
     "name": "stdout",
     "output_type": "stream",
     "text": [
      "11\n"
     ]
    }
   ],
   "source": [
    "print(addition(5,6))"
   ]
  },
  {
   "cell_type": "code",
   "execution_count": 7,
   "id": "f88c973d",
   "metadata": {},
   "outputs": [
    {
     "name": "stdout",
     "output_type": "stream",
     "text": [
      "False\n"
     ]
    }
   ],
   "source": [
    "is_even = lambda x: True if x % 2 == 0 else False\n",
    "print(is_even(5))"
   ]
  },
  {
   "cell_type": "code",
   "execution_count": 8,
   "id": "0e03b91c",
   "metadata": {},
   "outputs": [
    {
     "name": "stdout",
     "output_type": "stream",
     "text": [
      "[1, 4, 9, 16, 25, 36, 49, 64]\n"
     ]
    }
   ],
   "source": [
    "# Multiple parameters \n",
    "square_all = lambda *args: [x**2 for x in args]\n",
    "print(square_all(1,2,3,4,5,6,7,8))"
   ]
  },
  {
   "cell_type": "code",
   "execution_count": 9,
   "id": "ead8f2f0",
   "metadata": {},
   "outputs": [
    {
     "name": "stdout",
     "output_type": "stream",
     "text": [
      "[1, 4, 9, 16, 25, 36, 49, 64, 81, 100]\n"
     ]
    }
   ],
   "source": [
    "## Map with lambda function\n",
    "numbers = [1,2,3,4,5,6,7,8,9,10]\n",
    "print(list(map(lambda x: x**2,numbers)))"
   ]
  },
  {
   "cell_type": "code",
   "execution_count": 11,
   "id": "17defc51",
   "metadata": {},
   "outputs": [
    {
     "name": "stdout",
     "output_type": "stream",
     "text": [
      "[2, 4, 6, 8, 10]\n"
     ]
    }
   ],
   "source": [
    "# Filter with lambda function\n",
    "numbers = [1,2,3,4,5,6,7,8,9,10]\n",
    "print(list(filter(lambda x: x%2==0, numbers)))"
   ]
  },
  {
   "cell_type": "code",
   "execution_count": null,
   "id": "d90b99c3",
   "metadata": {},
   "outputs": [],
   "source": []
  }
 ],
 "metadata": {
  "kernelspec": {
   "display_name": "myvenv",
   "language": "python",
   "name": "python3"
  },
  "language_info": {
   "codemirror_mode": {
    "name": "ipython",
    "version": 3
   },
   "file_extension": ".py",
   "mimetype": "text/x-python",
   "name": "python",
   "nbconvert_exporter": "python",
   "pygments_lexer": "ipython3",
   "version": "3.12.0"
  }
 },
 "nbformat": 4,
 "nbformat_minor": 5
}
