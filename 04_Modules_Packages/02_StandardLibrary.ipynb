{
 "cells": [
  {
   "cell_type": "markdown",
   "id": "a4d29a70",
   "metadata": {},
   "source": [
    "# Standard Library\n",
    "Python's standard library is a vast collection of modules and packages that come bundled with python, providing a wide range of functionalities out of the box. Here's an overview of some of the most commonly used modules and packages in Python Standard Library"
   ]
  },
  {
   "cell_type": "code",
   "execution_count": 5,
   "id": "35d8ff95",
   "metadata": {},
   "outputs": [
    {
     "name": "stdout",
     "output_type": "stream",
     "text": [
      "array('i', [1, 2, 3, 4, 5])\n"
     ]
    }
   ],
   "source": [
    "import array\n",
    "arr = array.array('i',[1,2,3,4,5])\n",
    "print(arr)"
   ]
  },
  {
   "cell_type": "code",
   "execution_count": 7,
   "id": "90edb00f",
   "metadata": {},
   "outputs": [
    {
     "name": "stdout",
     "output_type": "stream",
     "text": [
      "2.0\n",
      "3.141592653589793\n"
     ]
    }
   ],
   "source": [
    "import math\n",
    "print(math.sqrt(4))\n",
    "print(math.pi)"
   ]
  },
  {
   "cell_type": "code",
   "execution_count": 8,
   "id": "f78941dc",
   "metadata": {},
   "outputs": [
    {
     "name": "stdout",
     "output_type": "stream",
     "text": [
      "3\n",
      "apple\n"
     ]
    }
   ],
   "source": [
    "# random\n",
    "import random\n",
    "print(random.randint(1,10))\n",
    "print(random.choice(['apple','cherry','banana']))\n"
   ]
  },
  {
   "cell_type": "code",
   "execution_count": 13,
   "id": "99266169",
   "metadata": {},
   "outputs": [
    {
     "name": "stdout",
     "output_type": "stream",
     "text": [
      "c:\\Users\\battih\\Desktop\\Personal\\Data Science\\04_Modules_Packages\n"
     ]
    }
   ],
   "source": [
    "# File and directory access\n",
    "import os\n",
    "print(os.getcwd()) # Get current working directory"
   ]
  },
  {
   "cell_type": "code",
   "execution_count": 14,
   "id": "15bf9991",
   "metadata": {},
   "outputs": [],
   "source": [
    "os.mkdir('test_dir') # Create a folder"
   ]
  },
  {
   "cell_type": "code",
   "execution_count": 15,
   "id": "ededac25",
   "metadata": {},
   "outputs": [
    {
     "data": {
      "text/plain": [
       "'destination.txt'"
      ]
     },
     "execution_count": 15,
     "metadata": {},
     "output_type": "execute_result"
    }
   ],
   "source": [
    "# High level operations on files and collection of files\n",
    "import shutil\n",
    "shutil.copyfile('source.txt','destination.txt')"
   ]
  },
  {
   "cell_type": "code",
   "execution_count": null,
   "id": "8551171e",
   "metadata": {},
   "outputs": [
    {
     "name": "stdout",
     "output_type": "stream",
     "text": [
      "{\"name\": \"Krish\", \"age\": 31}\n",
      "<class 'str'>\n"
     ]
    }
   ],
   "source": [
    "# Data Serialization: Convert file into a json\n",
    "import json\n",
    "data = {'name': 'Krish', 'age':31}\n",
    "# Serialization\n",
    "json_str = json.dumps(data)\n",
    "print(json_str)\n",
    "print(type(json_str))"
   ]
  },
  {
   "cell_type": "code",
   "execution_count": null,
   "id": "6d9893ee",
   "metadata": {},
   "outputs": [
    {
     "name": "stdout",
     "output_type": "stream",
     "text": [
      "{'name': 'Krish', 'age': 31}\n",
      "<class 'dict'>\n"
     ]
    }
   ],
   "source": [
    "# Deserialization\n",
    "print(json.loads(json_str))\n",
    "print(type(json.loads(json_str)))\n"
   ]
  },
  {
   "cell_type": "code",
   "execution_count": 22,
   "id": "a6b1db9b",
   "metadata": {},
   "outputs": [
    {
     "name": "stdout",
     "output_type": "stream",
     "text": [
      "['name', 'age']\n",
      "['Huzefa', '31']\n"
     ]
    }
   ],
   "source": [
    "# csv \n",
    "import csv\n",
    "with open('example.csv',mode='w',newline='') as file:\n",
    "    writer = csv.writer(file)\n",
    "    writer.writerow(['name','age'])\n",
    "    writer.writerow(['Huzefa',31])\n",
    "\n",
    "with open('example.csv',mode='r',newline='') as file:\n",
    "    reader = csv.reader(file)\n",
    "    for row in reader:\n",
    "        print(row)\n"
   ]
  },
  {
   "cell_type": "code",
   "execution_count": 24,
   "id": "14f4b6fa",
   "metadata": {},
   "outputs": [
    {
     "name": "stdout",
     "output_type": "stream",
     "text": [
      "2025-05-04 12:51:24.135583\n",
      "2025-05-03 12:51:24.135583\n"
     ]
    }
   ],
   "source": [
    "# Datetime\n",
    "from datetime import datetime, timedelta\n",
    "\n",
    "now = datetime.now()\n",
    "print(now)\n",
    "\n",
    "yesterday = now - timedelta(days=1)\n",
    "print(yesterday)"
   ]
  },
  {
   "cell_type": "code",
   "execution_count": 25,
   "id": "4b26ee17",
   "metadata": {},
   "outputs": [
    {
     "name": "stdout",
     "output_type": "stream",
     "text": [
      "1746343352.4685102\n",
      "1746343354.4703104\n"
     ]
    }
   ],
   "source": [
    "## time\n",
    "import time\n",
    "print(time.time())\n",
    "time.sleep(2)\n",
    "print(time.time())"
   ]
  },
  {
   "cell_type": "code",
   "execution_count": 28,
   "id": "aefa4ffc",
   "metadata": {},
   "outputs": [
    {
     "name": "stdout",
     "output_type": "stream",
     "text": [
      "<re.Match object; span=(10, 13), match='123'>\n"
     ]
    }
   ],
   "source": [
    "# Regular expression\n",
    "import re\n",
    "\n",
    "pattern = r'\\d+'\n",
    "\n",
    "text = 'There are 123 apples'\n",
    "\n",
    "match = re.search(pattern,text)\n",
    "print(match)\n"
   ]
  },
  {
   "cell_type": "code",
   "execution_count": null,
   "id": "6dec0613",
   "metadata": {},
   "outputs": [],
   "source": []
  }
 ],
 "metadata": {
  "kernelspec": {
   "display_name": "myvenv",
   "language": "python",
   "name": "python3"
  },
  "language_info": {
   "codemirror_mode": {
    "name": "ipython",
    "version": 3
   },
   "file_extension": ".py",
   "mimetype": "text/x-python",
   "name": "python",
   "nbconvert_exporter": "python",
   "pygments_lexer": "ipython3",
   "version": "3.12.0"
  }
 },
 "nbformat": 4,
 "nbformat_minor": 5
}
