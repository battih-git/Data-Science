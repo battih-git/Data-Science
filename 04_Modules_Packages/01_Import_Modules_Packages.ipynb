{
 "cells": [
  {
   "cell_type": "markdown",
   "id": "5baf4f7a",
   "metadata": {},
   "source": [
    "# Importing Modules and Packages\n",
    "In Python, importing modules and packages allows you to access code (like functions, classes, or variables) defined in other files or libraries. Here’s how importing works, with examples:"
   ]
  },
  {
   "cell_type": "code",
   "execution_count": 1,
   "id": "d0201953",
   "metadata": {},
   "outputs": [
    {
     "data": {
      "text/plain": [
       "4.0"
      ]
     },
     "execution_count": 1,
     "metadata": {},
     "output_type": "execute_result"
    }
   ],
   "source": [
    "import math #Imporiting a module\n",
    "math.sqrt(16) # Using function sqrt from math module"
   ]
  },
  {
   "cell_type": "code",
   "execution_count": 5,
   "id": "b22429f5",
   "metadata": {},
   "outputs": [
    {
     "name": "stdout",
     "output_type": "stream",
     "text": [
      "4.0\n",
      "5.0\n",
      "3.141592653589793\n"
     ]
    }
   ],
   "source": [
    "# importing specific function from module\n",
    "from math import sqrt, pi\n",
    "print(sqrt(16))\n",
    "print(sqrt(25))\n",
    "print(pi)"
   ]
  },
  {
   "cell_type": "code",
   "execution_count": 6,
   "id": "45a11af4",
   "metadata": {},
   "outputs": [],
   "source": [
    "# Installing a new module\n",
    "import numpy as np # aliasing the module name when importing"
   ]
  },
  {
   "cell_type": "code",
   "execution_count": 11,
   "id": "2fc4eafc",
   "metadata": {},
   "outputs": [
    {
     "name": "stdout",
     "output_type": "stream",
     "text": [
      "Requirement already satisfied: numpy in c:\\users\\battih\\desktop\\personal\\data science\\myvenv\\lib\\site-packages (2.2.4)\n"
     ]
    },
    {
     "name": "stderr",
     "output_type": "stream",
     "text": [
      "\n",
      "[notice] A new release of pip is available: 23.2.1 -> 25.1.1\n",
      "[notice] To update, run: python.exe -m pip install --upgrade pip\n"
     ]
    }
   ],
   "source": [
    "# Installing new module/packages.\n",
    "!pip install numpy"
   ]
  },
  {
   "cell_type": "code",
   "execution_count": 14,
   "id": "b703bdeb",
   "metadata": {},
   "outputs": [
    {
     "data": {
      "text/plain": [
       "array([1, 2, 3, 4, 5])"
      ]
     },
     "execution_count": 14,
     "metadata": {},
     "output_type": "execute_result"
    }
   ],
   "source": [
    "np.array([1,2,3,4,5])"
   ]
  },
  {
   "cell_type": "code",
   "execution_count": 15,
   "id": "c09165c4",
   "metadata": {},
   "outputs": [],
   "source": [
    "# Importing all the functions available in module\n",
    "from math import *"
   ]
  },
  {
   "cell_type": "code",
   "execution_count": 17,
   "id": "8e50cc23",
   "metadata": {},
   "outputs": [
    {
     "name": "stdout",
     "output_type": "stream",
     "text": [
      "4.0\n",
      "3.141592653589793\n"
     ]
    }
   ],
   "source": [
    "print(sqrt(16))\n",
    "print(pi)"
   ]
  },
  {
   "cell_type": "markdown",
   "id": "acdbf42d",
   "metadata": {},
   "source": [
    "Math is and inbuilt module and numpy is external. So, in new environment, we need to install numpy package before importing"
   ]
  },
  {
   "cell_type": "code",
   "execution_count": 1,
   "id": "7ecc27a5",
   "metadata": {},
   "outputs": [
    {
     "data": {
      "text/plain": [
       "3"
      ]
     },
     "execution_count": 1,
     "metadata": {},
     "output_type": "execute_result"
    }
   ],
   "source": [
    "from package.maths import add\n",
    "add(1,2)"
   ]
  },
  {
   "cell_type": "code",
   "execution_count": 2,
   "id": "3913b5b6",
   "metadata": {},
   "outputs": [
    {
     "data": {
      "text/plain": [
       "7"
      ]
     },
     "execution_count": 2,
     "metadata": {},
     "output_type": "execute_result"
    }
   ],
   "source": [
    "from package import maths\n",
    "maths.add(5,2)"
   ]
  },
  {
   "cell_type": "code",
   "execution_count": 3,
   "id": "1ae7a704",
   "metadata": {},
   "outputs": [
    {
     "data": {
      "text/plain": [
       "8"
      ]
     },
     "execution_count": 3,
     "metadata": {},
     "output_type": "execute_result"
    }
   ],
   "source": [
    "from package import maths\n",
    "maths.substract(10,2)"
   ]
  },
  {
   "cell_type": "code",
   "execution_count": null,
   "id": "453ffcd3",
   "metadata": {},
   "outputs": [],
   "source": []
  }
 ],
 "metadata": {
  "kernelspec": {
   "display_name": "myvenv",
   "language": "python",
   "name": "python3"
  },
  "language_info": {
   "codemirror_mode": {
    "name": "ipython",
    "version": 3
   },
   "file_extension": ".py",
   "mimetype": "text/x-python",
   "name": "python",
   "nbconvert_exporter": "python",
   "pygments_lexer": "ipython3",
   "version": "3.12.0"
  }
 },
 "nbformat": 4,
 "nbformat_minor": 5
}
