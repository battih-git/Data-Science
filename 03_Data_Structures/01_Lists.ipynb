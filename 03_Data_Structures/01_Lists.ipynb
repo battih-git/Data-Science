{
 "cells": [
  {
   "cell_type": "markdown",
   "id": "ec3c7fdc",
   "metadata": {
    "vscode": {
     "languageId": "markdown"
    }
   },
   "source": [
    "\n",
    "# Introduction To Lists\n",
    "\n",
    "    Lists are ordered, mutable collections of items.\n",
    "    They can contain items of different data types.\n",
    "\n",
    "# Video Outline:\n",
    "\n",
    "    1. Introduction to Lists\n",
    "    2. Creating Lists\n",
    "    3. Accessing List Elements\n",
    "    4. Modifying List Elements\n",
    "    5. List Methods\n",
    "    6. Slicing Lists\n",
    "    7. Iterating Over Lists\n",
    "    8. List Comprehensions\n",
    "    9. Nested Lists\n",
    "    10. Practical Examples and Common Errors\n",
    "\n"
   ]
  },
  {
   "cell_type": "code",
   "execution_count": 1,
   "id": "8d52d8aa",
   "metadata": {},
   "outputs": [
    {
     "name": "stdout",
     "output_type": "stream",
     "text": [
      "<class 'list'>\n"
     ]
    }
   ],
   "source": [
    "lst = []\n",
    "print(type(lst))"
   ]
  },
  {
   "cell_type": "code",
   "execution_count": 2,
   "id": "2052020b",
   "metadata": {},
   "outputs": [
    {
     "name": "stdout",
     "output_type": "stream",
     "text": [
      "['Huzefa', 'Jack', 'Jacob', 1, 2, 3, 4, 5]\n"
     ]
    }
   ],
   "source": [
    "names = ['Huzefa','Jack', 'Jacob', 1,2,3,4,5]\n",
    "print(names) # Get the elements of list"
   ]
  },
  {
   "cell_type": "code",
   "execution_count": 3,
   "id": "82cca8e9",
   "metadata": {},
   "outputs": [
    {
     "name": "stdout",
     "output_type": "stream",
     "text": [
      "<class 'list'>\n"
     ]
    }
   ],
   "source": [
    "mixed_list = [1,'Hello', 3,14, True]\n",
    "print(type(mixed_list))"
   ]
  },
  {
   "cell_type": "code",
   "execution_count": 4,
   "id": "ca8feea8",
   "metadata": {},
   "outputs": [],
   "source": [
    "# Accessing the elements of a list\n",
    "fruits = ['banana', 'apple', 'cherry', 'kiwi', 'guava']"
   ]
  },
  {
   "cell_type": "code",
   "execution_count": 5,
   "id": "dc64974b",
   "metadata": {},
   "outputs": [
    {
     "name": "stdout",
     "output_type": "stream",
     "text": [
      "banana\n"
     ]
    }
   ],
   "source": [
    "print(fruits[0]) # Access the fruits via index value which starts from 0"
   ]
  },
  {
   "cell_type": "code",
   "execution_count": 6,
   "id": "ffdf26ef",
   "metadata": {},
   "outputs": [
    {
     "name": "stdout",
     "output_type": "stream",
     "text": [
      "cherry\n"
     ]
    }
   ],
   "source": [
    "print(fruits[2])"
   ]
  },
  {
   "cell_type": "code",
   "execution_count": 7,
   "id": "22f341f7",
   "metadata": {},
   "outputs": [
    {
     "name": "stdout",
     "output_type": "stream",
     "text": [
      "guava\n"
     ]
    }
   ],
   "source": [
    "print(fruits[-1]) # using Negative indexing"
   ]
  },
  {
   "cell_type": "code",
   "execution_count": 8,
   "id": "c3e1beef",
   "metadata": {},
   "outputs": [
    {
     "data": {
      "text/plain": [
       "'kiwi'"
      ]
     },
     "execution_count": 8,
     "metadata": {},
     "output_type": "execute_result"
    }
   ],
   "source": [
    "fruits[-2]"
   ]
  },
  {
   "cell_type": "code",
   "execution_count": null,
   "id": "368a1c1f",
   "metadata": {},
   "outputs": [
    {
     "data": {
      "text/plain": [
       "['banana', 'apple']"
      ]
     },
     "execution_count": 9,
     "metadata": {},
     "output_type": "execute_result"
    }
   ],
   "source": [
    "# Slicing\n",
    "fruits[0:2] # the last index value  is not inclusive"
   ]
  },
  {
   "cell_type": "code",
   "execution_count": 12,
   "id": "e479f8da",
   "metadata": {},
   "outputs": [
    {
     "data": {
      "text/plain": [
       "['cherry', 'kiwi']"
      ]
     },
     "execution_count": 12,
     "metadata": {},
     "output_type": "execute_result"
    }
   ],
   "source": [
    "fruits[-3:-1]"
   ]
  },
  {
   "cell_type": "code",
   "execution_count": 14,
   "id": "2abc4722",
   "metadata": {},
   "outputs": [
    {
     "data": {
      "text/plain": [
       "[]"
      ]
     },
     "execution_count": 14,
     "metadata": {},
     "output_type": "execute_result"
    }
   ],
   "source": [
    "fruits[-1:-3] # This will not give any result"
   ]
  },
  {
   "cell_type": "code",
   "execution_count": 15,
   "id": "c79566cd",
   "metadata": {},
   "outputs": [
    {
     "name": "stdout",
     "output_type": "stream",
     "text": [
      "['banana', 'watermelon', 'cherry', 'kiwi', 'guava']\n"
     ]
    }
   ],
   "source": [
    "# Modifying the list elements\n",
    "fruits[1] = 'watermelon'\n",
    "print(fruits)"
   ]
  },
  {
   "cell_type": "code",
   "execution_count": null,
   "id": "89a9acf2",
   "metadata": {},
   "outputs": [],
   "source": [
    "fruits[1:] = 'watermelon' # This will be considering char by char"
   ]
  },
  {
   "cell_type": "code",
   "execution_count": 18,
   "id": "cace488c",
   "metadata": {},
   "outputs": [],
   "source": [
    "fruits = ['banana', 'watermelon', 'cherry', 'kiwi', 'guava']"
   ]
  },
  {
   "cell_type": "code",
   "execution_count": 23,
   "id": "a84baf98",
   "metadata": {},
   "outputs": [
    {
     "name": "stdout",
     "output_type": "stream",
     "text": [
      "['apple', 'banana', 'watermelon', 'cherry', 'kiwi', 'guava', 'orange']\n"
     ]
    }
   ],
   "source": [
    "# List methods \n",
    "fruits.append('orange') # Adding element to end of the list\n",
    "print(fruits)"
   ]
  },
  {
   "cell_type": "code",
   "execution_count": 24,
   "id": "fcde333b",
   "metadata": {},
   "outputs": [
    {
     "data": {
      "text/plain": [
       "['apple', 'apple', 'banana', 'watermelon', 'cherry', 'kiwi', 'guava', 'orange']"
      ]
     },
     "execution_count": 24,
     "metadata": {},
     "output_type": "execute_result"
    }
   ],
   "source": [
    "fruits.insert(0, 'apple')\n",
    "fruits"
   ]
  },
  {
   "cell_type": "code",
   "execution_count": 25,
   "id": "9633f273",
   "metadata": {},
   "outputs": [
    {
     "data": {
      "text/plain": [
       "['apple', 'banana', 'watermelon', 'cherry', 'kiwi', 'guava', 'orange']"
      ]
     },
     "execution_count": 25,
     "metadata": {},
     "output_type": "execute_result"
    }
   ],
   "source": [
    "# Remove the element from a list\n",
    "fruits.remove('apple')\n",
    "fruits"
   ]
  },
  {
   "cell_type": "code",
   "execution_count": 26,
   "id": "29553092",
   "metadata": {},
   "outputs": [
    {
     "name": "stdout",
     "output_type": "stream",
     "text": [
      "orange\n"
     ]
    }
   ],
   "source": [
    "# Remove and return the last item\n",
    "print(fruits.pop())"
   ]
  },
  {
   "cell_type": "code",
   "execution_count": 27,
   "id": "d6dd7da4",
   "metadata": {},
   "outputs": [
    {
     "data": {
      "text/plain": [
       "3"
      ]
     },
     "execution_count": 27,
     "metadata": {},
     "output_type": "execute_result"
    }
   ],
   "source": [
    "# get the index of element from the list\n",
    "fruits.index('cherry')"
   ]
  },
  {
   "cell_type": "code",
   "execution_count": 28,
   "id": "82831e6f",
   "metadata": {},
   "outputs": [],
   "source": [
    "fruits.insert(2,'banana')"
   ]
  },
  {
   "cell_type": "code",
   "execution_count": 29,
   "id": "4f3157d2",
   "metadata": {},
   "outputs": [
    {
     "data": {
      "text/plain": [
       "['apple', 'banana', 'banana', 'watermelon', 'cherry', 'kiwi', 'guava']"
      ]
     },
     "execution_count": 29,
     "metadata": {},
     "output_type": "execute_result"
    }
   ],
   "source": [
    "fruits"
   ]
  },
  {
   "cell_type": "code",
   "execution_count": 30,
   "id": "4ead365c",
   "metadata": {},
   "outputs": [
    {
     "data": {
      "text/plain": [
       "2"
      ]
     },
     "execution_count": 30,
     "metadata": {},
     "output_type": "execute_result"
    }
   ],
   "source": [
    "# Get the count of elements in list\n",
    "fruits.count('banana')"
   ]
  },
  {
   "cell_type": "code",
   "execution_count": 32,
   "id": "c0a79c65",
   "metadata": {},
   "outputs": [
    {
     "name": "stdout",
     "output_type": "stream",
     "text": [
      "['apple', 'banana', 'banana', 'cherry', 'guava', 'kiwi', 'watermelon']\n"
     ]
    }
   ],
   "source": [
    "# Sorting the list\n",
    "fruits.sort()\n",
    "print(fruits)"
   ]
  },
  {
   "cell_type": "code",
   "execution_count": 35,
   "id": "b25e4dca",
   "metadata": {},
   "outputs": [
    {
     "data": {
      "text/plain": [
       "['watermelon', 'kiwi', 'guava', 'cherry', 'banana', 'banana', 'apple']"
      ]
     },
     "execution_count": 35,
     "metadata": {},
     "output_type": "execute_result"
    }
   ],
   "source": [
    "# Reverse the sorted list\n",
    "fruits.reverse()\n",
    "fruits"
   ]
  },
  {
   "cell_type": "code",
   "execution_count": 36,
   "id": "18c22418",
   "metadata": {},
   "outputs": [],
   "source": [
    "# Clear all items from the list\n",
    "fruits.clear()"
   ]
  },
  {
   "cell_type": "code",
   "execution_count": 37,
   "id": "d1938ba6",
   "metadata": {},
   "outputs": [
    {
     "data": {
      "text/plain": [
       "[]"
      ]
     },
     "execution_count": 37,
     "metadata": {},
     "output_type": "execute_result"
    }
   ],
   "source": [
    "fruits"
   ]
  },
  {
   "cell_type": "code",
   "execution_count": 39,
   "id": "7c560227",
   "metadata": {},
   "outputs": [
    {
     "name": "stdout",
     "output_type": "stream",
     "text": [
      "[3, 4, 5]\n",
      "[1, 2, 3, 4, 5]\n",
      "[6, 7, 8, 9, 10]\n",
      "[1, 3, 5, 7, 9]\n",
      "[10, 9, 8, 7, 6, 5, 4, 3, 2, 1]\n"
     ]
    }
   ],
   "source": [
    "# Slicing list\n",
    "numbers = [1,2,3,4,5,6,7,8,9,10]\n",
    "print(numbers[2:5])\n",
    "print(numbers[:5])\n",
    "print(numbers[5:])\n",
    "print(numbers[::2])\n",
    "print(numbers[::-1])"
   ]
  },
  {
   "cell_type": "code",
   "execution_count": null,
   "id": "ce5b4653",
   "metadata": {},
   "outputs": [
    {
     "data": {
      "text/plain": [
       "[10, 8, 6, 4, 2]"
      ]
     },
     "execution_count": 40,
     "metadata": {},
     "output_type": "execute_result"
    }
   ],
   "source": [
    "numbers[::-2] # Step 2 numbers"
   ]
  },
  {
   "cell_type": "code",
   "execution_count": 42,
   "id": "fd88d0c0",
   "metadata": {},
   "outputs": [
    {
     "name": "stdout",
     "output_type": "stream",
     "text": [
      "1\n",
      "2\n",
      "3\n",
      "4\n",
      "5\n",
      "6\n",
      "7\n",
      "8\n",
      "9\n",
      "10\n"
     ]
    }
   ],
   "source": [
    "# Iterating over list\n",
    "for number in numbers:\n",
    "    print(number)"
   ]
  },
  {
   "cell_type": "code",
   "execution_count": 45,
   "id": "cc25b0aa",
   "metadata": {},
   "outputs": [
    {
     "name": "stdout",
     "output_type": "stream",
     "text": [
      "0 1\n",
      "1 2\n",
      "2 3\n",
      "3 4\n",
      "4 5\n",
      "5 6\n",
      "6 7\n",
      "7 8\n",
      "8 9\n",
      "9 10\n"
     ]
    }
   ],
   "source": [
    "# Iterating with index\n",
    "for index,number in enumerate(numbers):\n",
    "    print(index,number)"
   ]
  },
  {
   "cell_type": "code",
   "execution_count": 46,
   "id": "5c13dfd9",
   "metadata": {},
   "outputs": [
    {
     "name": "stdout",
     "output_type": "stream",
     "text": [
      "[0, 1, 4, 9, 16, 25, 36, 49, 64, 81]\n"
     ]
    }
   ],
   "source": [
    "# List comprehension \n",
    "numbers = []\n",
    "for x in range(10):\n",
    "    numbers.append(x**2)\n",
    "\n",
    "print(numbers)"
   ]
  },
  {
   "cell_type": "code",
   "execution_count": 47,
   "id": "9c4ac66d",
   "metadata": {},
   "outputs": [
    {
     "name": "stdout",
     "output_type": "stream",
     "text": [
      "[0, 1, 4, 9, 16, 25, 36, 49, 64, 81]\n"
     ]
    }
   ],
   "source": [
    "numbers = [x**2 for x in range(10)]\n",
    "print(numbers)"
   ]
  },
  {
   "cell_type": "code",
   "execution_count": 50,
   "metadata": {},
   "outputs": [
    {
     "data": {
      "text/plain": [
       "[0, 2, 4, 6, 8]"
      ]
     },
     "execution_count": 50,
     "metadata": {},
     "output_type": "execute_result"
    }
   ],
   "source": [
    "# Syntax for list comprehension\n",
    "# basic sytax = [expression for item in iterable]\n",
    "# with conditional statements = [expression for item in iterable if condition ]\n",
    "# Nested List Comprehension [expression for item1 in iterable for item2 in iterable]\n",
    "lst = [i for i in range(10) if i%2 == 0]\n",
    "lst\n"
   ]
  },
  {
   "cell_type": "code",
   "execution_count": 52,
   "id": "54461401",
   "metadata": {},
   "outputs": [
    {
     "data": {
      "text/plain": [
       "[[1, 'a'],\n",
       " [1, 'b'],\n",
       " [1, 'c'],\n",
       " [1, 'd'],\n",
       " [2, 'a'],\n",
       " [2, 'b'],\n",
       " [2, 'c'],\n",
       " [2, 'd'],\n",
       " [3, 'a'],\n",
       " [3, 'b'],\n",
       " [3, 'c'],\n",
       " [3, 'd'],\n",
       " [4, 'a'],\n",
       " [4, 'b'],\n",
       " [4, 'c'],\n",
       " [4, 'd']]"
      ]
     },
     "execution_count": 52,
     "metadata": {},
     "output_type": "execute_result"
    }
   ],
   "source": [
    "## Nested List Comprehension\n",
    "lst1 = [1,2,3,4]\n",
    "lst2 = ['a', 'b', 'c', 'd']\n",
    "pair = [[i,j] for i in lst1 for j in lst2]\n",
    "pair\n",
    "\n"
   ]
  },
  {
   "cell_type": "markdown",
   "id": "00ad930a",
   "metadata": {},
   "source": [
    "# List Assignments"
   ]
  },
  {
   "cell_type": "markdown",
   "id": "9cfdfce8",
   "metadata": {},
   "source": [
    "### Assignment 1: Creating and Accessing Lists\n",
    "Create a list of the first 20 positive integers. Print the list."
   ]
  },
  {
   "cell_type": "code",
   "execution_count": null,
   "id": "bc21cbfe",
   "metadata": {},
   "outputs": [
    {
     "name": "stdout",
     "output_type": "stream",
     "text": [
      "[1, 2, 3, 4, 5, 6, 7, 8, 9, 10, 11, 12, 13, 14, 15, 16, 17, 18, 19, 20]\n"
     ]
    }
   ],
   "source": [
    "lst = list(range(1,21))\n",
    "print(lst)"
   ]
  },
  {
   "cell_type": "markdown",
   "id": "7d9865fb",
   "metadata": {},
   "source": [
    "### Assignment 2: Accessing List Elements\n",
    "Print the first, middle, and last elements of the list created in Assignment 1."
   ]
  },
  {
   "cell_type": "code",
   "execution_count": 12,
   "id": "3a10e7f8",
   "metadata": {},
   "outputs": [
    {
     "name": "stdout",
     "output_type": "stream",
     "text": [
      "First Element:  1\n",
      "Middle Element:  11\n",
      "Last Element:  20\n"
     ]
    }
   ],
   "source": [
    "print(\"First Element: \", lst[0])\n",
    "print(\"Middle Element: \", lst[len(lst)//2])\n",
    "print(\"Last Element: \",lst[-1])"
   ]
  },
  {
   "cell_type": "markdown",
   "id": "b3908875",
   "metadata": {},
   "source": [
    "### Assignment 3: List Slicing\n",
    "Print the first five elements, the last five elements, and the elements from index 5 to 15 of the list created in Assignment 1."
   ]
  },
  {
   "cell_type": "code",
   "execution_count": 13,
   "id": "af796ea5",
   "metadata": {},
   "outputs": [
    {
     "name": "stdout",
     "output_type": "stream",
     "text": [
      "First five elements [1, 2, 3, 4, 5]\n",
      "Last five elements:  [16, 17, 18, 19, 20]\n",
      "Middle elements:  [6, 7, 8, 9, 10, 11, 12, 13, 14, 15]\n"
     ]
    }
   ],
   "source": [
    "print(\"First five elements\", lst[0:5])\n",
    "print(\"Last five elements: \", lst[-5:])\n",
    "print(\"Middle elements: \", lst[5:15])"
   ]
  },
  {
   "cell_type": "markdown",
   "id": "8a57bbb0",
   "metadata": {},
   "source": [
    "### Assignment 4: List Comprehensions\n",
    "Create a new list containing the squares of the first 10 positive integers using a list comprehension. Print the new list."
   ]
  },
  {
   "cell_type": "code",
   "execution_count": 14,
   "id": "fbd3315c",
   "metadata": {},
   "outputs": [
    {
     "name": "stdout",
     "output_type": "stream",
     "text": [
      "[1, 4, 9, 16, 25, 36, 49, 64, 81, 100]\n"
     ]
    }
   ],
   "source": [
    "squares = [n**2 for n in range(1,11)]\n",
    "print(squares)"
   ]
  },
  {
   "cell_type": "markdown",
   "id": "3aa89550",
   "metadata": {},
   "source": [
    "### Assignment 5: Filtering Lists\n",
    "\n",
    "Create a new list containing only the even numbers from the list created in Assignment 1 using a list comprehension. Print the new list."
   ]
  },
  {
   "cell_type": "code",
   "execution_count": 16,
   "id": "c05ae7fc",
   "metadata": {},
   "outputs": [
    {
     "name": "stdout",
     "output_type": "stream",
     "text": [
      "[2, 4, 6, 8, 10, 12, 14, 16, 18, 20]\n"
     ]
    }
   ],
   "source": [
    "even_num = [n for n in lst if n%2==0]\n",
    "print(even_num)"
   ]
  },
  {
   "cell_type": "markdown",
   "id": "66abd70e",
   "metadata": {},
   "source": [
    "### Assignment 6: List Methods\n",
    "\n",
    "Create a list of random numbers and sort it in ascending and descending order. Remove the duplicates from the list and print the modified list."
   ]
  },
  {
   "cell_type": "code",
   "execution_count": 24,
   "id": "91c7f8a5",
   "metadata": {},
   "outputs": [
    {
     "name": "stdout",
     "output_type": "stream",
     "text": [
      "Original list:  [1, 9, 3, 2, 2]\n",
      "Sorted list [1, 2, 2, 3, 9]\n",
      "Sorted in descending order [9, 3, 2, 2, 1]\n",
      "Unique numbers:  [9, 2, 3, 1]\n"
     ]
    }
   ],
   "source": [
    "import random\n",
    "\n",
    "random_numbers = [random.randint(1,20) for _ in range(5)]\n",
    "print(\"Original list: \", random_numbers)\n",
    "\n",
    "random_numbers.sort()\n",
    "print(\"Sorted list\", random_numbers)\n",
    "\n",
    "random_numbers.sort(reverse=True)\n",
    "print(\"Sorted in descending order\", random_numbers)\n",
    "\n",
    "unique_numbers = list(set(random_numbers))\n",
    "print(\"Unique numbers: \", unique_numbers)"
   ]
  },
  {
   "cell_type": "markdown",
   "id": "1ea3036e",
   "metadata": {},
   "source": [
    "### Assignment 7: Nested Lists\n",
    "Create a nested list representing a 3x3 matrix and print the matrix. Access and print the element at the second row and third column."
   ]
  },
  {
   "cell_type": "code",
   "execution_count": 27,
   "id": "7a3bc7e3",
   "metadata": {},
   "outputs": [
    {
     "name": "stdout",
     "output_type": "stream",
     "text": [
      "6\n"
     ]
    }
   ],
   "source": [
    "matrix = [\n",
    "    [1,2,3],\n",
    "    [4,5,6],\n",
    "    [7,8,9]\n",
    "]\n",
    "print(matrix[1][2])"
   ]
  },
  {
   "cell_type": "markdown",
   "id": "02389bb9",
   "metadata": {},
   "source": [
    "### Assignment 8: List of Dictionaries\n",
    "\n",
    "Create a list of dictionaries where each dictionary represents a student with keys 'name' and 'score'. Sort the list of dictionaries by the 'score' in descending order and print the sorted list."
   ]
  },
  {
   "cell_type": "code",
   "execution_count": 32,
   "id": "bd8afca6",
   "metadata": {},
   "outputs": [
    {
     "name": "stdout",
     "output_type": "stream",
     "text": [
      "{'name': 'Charlie', 'score': 95}\n",
      "{'name': 'Alice', 'score': 88}\n",
      "{'name': 'Eve', 'score': 78}\n",
      "{'name': 'Bob', 'score': 72}\n",
      "{'name': 'David', 'score': 65}\n"
     ]
    }
   ],
   "source": [
    "student = [\n",
    "     {'name': 'Alice', 'score': 88},\n",
    "    {'name': 'Bob', 'score': 72},\n",
    "    {'name': 'Charlie', 'score': 95},\n",
    "    {'name': 'David', 'score': 65},\n",
    "    {'name': 'Eve', 'score': 78}\n",
    "]\n",
    "sorted_students = sorted(student,key=lambda x: x['score'], reverse=True)\n",
    "for student in sorted_students:\n",
    "    print(student)\n"
   ]
  },
  {
   "cell_type": "markdown",
   "id": "7d0eea27",
   "metadata": {},
   "source": [
    "### Assignment 9: Matrix Transposition\n",
    "\n",
    "Write a function that takes a 3x3 matrix (nested list) as input and returns its transpose. Print the original and transposed matrices."
   ]
  },
  {
   "cell_type": "code",
   "execution_count": 47,
   "id": "99092429",
   "metadata": {},
   "outputs": [
    {
     "name": "stdout",
     "output_type": "stream",
     "text": [
      "[1, 2, 3]\n",
      "[4, 5, 6]\n",
      "[7, 8, 9]\n",
      "\n",
      "[1, 4, 7]\n",
      "[2, 5, 8]\n",
      "[3, 6, 9]\n"
     ]
    }
   ],
   "source": [
    "def func(matrix):\n",
    "    transpose = [[matrix[j][i] for j in range(len(matrix))] for i in range(len(matrix))]\n",
    "    return transpose\n",
    "matrix = [[1,2,3],\n",
    "          [4,5,6],\n",
    "          [7,8,9]]\n",
    "transposed = func(matrix)\n",
    "for row in matrix:\n",
    "    print(row)\n",
    "print()\n",
    "for row in transposed:\n",
    "    print(row)"
   ]
  },
  {
   "cell_type": "markdown",
   "id": "c642e04f",
   "metadata": {},
   "source": [
    "### Assignment 10: Flattening a Nested List\n",
    "\n",
    "Write a function that takes a nested list and flattens it into a single list. Print the original and flattened lists."
   ]
  },
  {
   "cell_type": "code",
   "execution_count": 51,
   "id": "f880fcc4",
   "metadata": {},
   "outputs": [
    {
     "name": "stdout",
     "output_type": "stream",
     "text": [
      "[1, 2, 3, 4, 5, 6, 7, 8, 9]\n"
     ]
    }
   ],
   "source": [
    "def fun(nested_list):\n",
    "    flattend_list = [item for sublist in nested_list for item in sublist]\n",
    "    return flattend_list\n",
    "\n",
    "nested_list = [\n",
    "    [1, 2, 3],\n",
    "    [4, 5, 6],\n",
    "    [7, 8, 9]\n",
    "]\n",
    "\n",
    "flattend_list = fun(nested_list)\n",
    "print(flattend_list)"
   ]
  },
  {
   "cell_type": "markdown",
   "id": "74fe9fb5",
   "metadata": {},
   "source": [
    "### Assignment 11: List Manipulation\n",
    "\n",
    "Create a list of the first 10 positive integers. Remove the elements at indices 2, 4, and 6, and insert the element '99' at index 5. Print the modified list."
   ]
  },
  {
   "cell_type": "code",
   "execution_count": 55,
   "id": "65dece8b",
   "metadata": {},
   "outputs": [
    {
     "name": "stdout",
     "output_type": "stream",
     "text": [
      "Original list: [1, 2, 3, 4, 5, 6, 7, 8, 9, 10]\n",
      "Modified list: [1, 2, 4, 6, 8, 99, 9, 10]\n"
     ]
    }
   ],
   "source": [
    "lst = list(range(1, 11))\n",
    "print(f\"Original list: {lst}\")\n",
    "del lst[6]\n",
    "del lst[4]\n",
    "del lst[2]\n",
    "lst.insert(5, 99)\n",
    "print(f\"Modified list: {lst}\")"
   ]
  },
  {
   "cell_type": "markdown",
   "id": "bd01c749",
   "metadata": {},
   "source": [
    "### Assignment 12: List Zipping\n",
    "\n",
    "Create two lists of the same length. Use the `zip` function to combine these lists into a list of tuples and print the result."
   ]
  },
  {
   "cell_type": "code",
   "execution_count": 60,
   "id": "d7ac3f95",
   "metadata": {},
   "outputs": [
    {
     "name": "stdout",
     "output_type": "stream",
     "text": [
      "[(1, 11), (2, 12), (3, 13), (4, 14), (5, 15), (6, 16), (7, 17), (8, 18), (9, 19), (10, 20)]\n"
     ]
    }
   ],
   "source": [
    "lst_1 = list(range(1,11))\n",
    "lst_2 = list(range(11,21))\n",
    "new_list = list(zip(lst_1,lst_2))\n",
    "print(new_list)"
   ]
  },
  {
   "cell_type": "markdown",
   "id": "7730e041",
   "metadata": {},
   "source": [
    "### Assignment 13: List Reversal\n",
    "\n",
    "Write a function that takes a list and returns a new list with the elements in reverse order. Print the original and reversed lists."
   ]
  },
  {
   "cell_type": "code",
   "execution_count": 62,
   "id": "c8071740",
   "metadata": {},
   "outputs": [
    {
     "data": {
      "text/plain": [
       "[10, 9, 8, 7, 6, 5, 4, 3, 2, 1]"
      ]
     },
     "execution_count": 62,
     "metadata": {},
     "output_type": "execute_result"
    }
   ],
   "source": [
    "def func(lst):\n",
    "    return lst[::-1]\n",
    "lst = list(range(1,11))\n",
    "func(lst)"
   ]
  },
  {
   "cell_type": "markdown",
   "id": "57e304e4",
   "metadata": {},
   "source": [
    "### Assignment 14: List Rotation\n",
    "\n",
    "Write a function that rotates a list by n positions. Print the original and rotated lists."
   ]
  },
  {
   "cell_type": "code",
   "execution_count": 67,
   "id": "3f50c02a",
   "metadata": {},
   "outputs": [
    {
     "name": "stdout",
     "output_type": "stream",
     "text": [
      "[1, 2, 3, 4, 5]\n",
      "[2, 3, 4, 5, 1]\n"
     ]
    }
   ],
   "source": [
    "def func(lst,n):\n",
    "    return lst[n:] + lst[:n]\n",
    "original_list = [1, 2, 3, 4, 5]\n",
    "rotated_list = func(original_list, 1)\n",
    "print(original_list)\n",
    "print(rotated_list)"
   ]
  },
  {
   "cell_type": "markdown",
   "id": "0a7eb762",
   "metadata": {},
   "source": [
    "### Assignment 15: List Intersection\n",
    "Write a function that takes two lists and returns a new list containing only the elements that are present in both lists. Print the intersected list."
   ]
  },
  {
   "cell_type": "code",
   "execution_count": 72,
   "id": "a0f4754f",
   "metadata": {},
   "outputs": [
    {
     "name": "stdout",
     "output_type": "stream",
     "text": [
      "[1, 2, 3, 4, 5, 6, 7, 8, 9, 10]\n",
      "[8, 6, 3, 6, 9, 6, 4, 6, 9, 6]\n"
     ]
    },
    {
     "data": {
      "text/plain": [
       "[3, 4, 6, 8, 9]"
      ]
     },
     "execution_count": 72,
     "metadata": {},
     "output_type": "execute_result"
    }
   ],
   "source": [
    "def func(lst1, lst2):\n",
    "    new_lst = [item for item in lst1 if item in lst2]\n",
    "    return new_lst\n",
    "lst1 = [1,2,3,4,5,6,7,8,9,10]\n",
    "lst2 = [random.randint(1,10) for _ in range(10)]\n",
    "print(lst1)\n",
    "print(lst2)\n",
    "func(lst1,lst2)"
   ]
  },
  {
   "cell_type": "code",
   "execution_count": null,
   "id": "374e1b0c",
   "metadata": {},
   "outputs": [],
   "source": []
  }
 ],
 "metadata": {
  "kernelspec": {
   "display_name": "Python 3",
   "language": "python",
   "name": "python3"
  },
  "language_info": {
   "codemirror_mode": {
    "name": "ipython",
    "version": 3
   },
   "file_extension": ".py",
   "mimetype": "text/x-python",
   "name": "python",
   "nbconvert_exporter": "python",
   "pygments_lexer": "ipython3",
   "version": "3.12.0"
  }
 },
 "nbformat": 4,
 "nbformat_minor": 5
}
