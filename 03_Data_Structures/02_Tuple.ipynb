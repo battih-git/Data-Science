{
 "cells": [
  {
   "cell_type": "markdown",
   "id": "62d50165",
   "metadata": {},
   "source": [
    "# Tuples\n",
    "\n",
    "Key takeaways:\n",
    "\n",
    "    * Introduction to Tuples\n",
    "    * Creating Tuples\n",
    "    * Accessing Tuple Elements\n",
    "    * Tuple Operations\n",
    "    * Immutable Nature of Tuples\n",
    "    * Tuple Methods\n",
    "    * Packing and Unpacking Tuples\n",
    "    * Nested Tuples\n",
    "    * Practical Examples and Common Errors\n",
    "\n",
    "## Introduction to Tuples\n",
    "\n",
    "### Explanation:\n",
    "\n",
    "Tuples are ordered collections of items that are immutable. They are similar to lists, but their immutability makes them different.\n"
   ]
  },
  {
   "cell_type": "code",
   "execution_count": 1,
   "id": "ed05e7b2",
   "metadata": {},
   "outputs": [
    {
     "name": "stdout",
     "output_type": "stream",
     "text": [
      "()\n",
      "<class 'tuple'>\n"
     ]
    }
   ],
   "source": [
    "# Creating a tuple\n",
    "empty_tuple = ()\n",
    "print(empty_tuple)\n",
    "print(type(empty_tuple))"
   ]
  },
  {
   "cell_type": "code",
   "execution_count": 3,
   "id": "63effe9b",
   "metadata": {},
   "outputs": [
    {
     "name": "stdout",
     "output_type": "stream",
     "text": [
      "<class 'list'>\n",
      "<class 'tuple'>\n"
     ]
    }
   ],
   "source": [
    "lst = list()\n",
    "print(type(lst))\n",
    "tpl = ()\n",
    "print(type(tpl))"
   ]
  },
  {
   "cell_type": "code",
   "execution_count": 5,
   "id": "0a90075e",
   "metadata": {},
   "outputs": [
    {
     "data": {
      "text/plain": [
       "(1, 2, 3, 4, 5, 6)"
      ]
     },
     "execution_count": 5,
     "metadata": {},
     "output_type": "execute_result"
    }
   ],
   "source": [
    "# Type casting from list to tuple\n",
    "numbers = tuple([1,2,3,4,5,6])\n",
    "numbers"
   ]
  },
  {
   "cell_type": "code",
   "execution_count": 6,
   "id": "dbd967d5",
   "metadata": {},
   "outputs": [
    {
     "data": {
      "text/plain": [
       "[1, 2, 3, 4, 5, 6]"
      ]
     },
     "execution_count": 6,
     "metadata": {},
     "output_type": "execute_result"
    }
   ],
   "source": [
    "# Type casting from tuple to list\n",
    "list(numbers)"
   ]
  },
  {
   "cell_type": "code",
   "execution_count": 8,
   "id": "f5eb0696",
   "metadata": {},
   "outputs": [
    {
     "name": "stdout",
     "output_type": "stream",
     "text": [
      "('Hello', 1, 2, 3, True)\n"
     ]
    }
   ],
   "source": [
    "mixed_tuple = ('Hello', 1,2,3,True)\n",
    "print(mixed_tuple)"
   ]
  },
  {
   "cell_type": "code",
   "execution_count": 9,
   "id": "920d0155",
   "metadata": {},
   "outputs": [
    {
     "name": "stdout",
     "output_type": "stream",
     "text": [
      "2\n",
      "1\n"
     ]
    }
   ],
   "source": [
    "# Accessing tuple elements\n",
    "print(numbers[1])\n",
    "print(numbers[0])"
   ]
  },
  {
   "cell_type": "code",
   "execution_count": 12,
   "id": "9e5db8df",
   "metadata": {},
   "outputs": [
    {
     "name": "stdout",
     "output_type": "stream",
     "text": [
      "(1, 2)\n"
     ]
    }
   ],
   "source": [
    "# Slicing\n",
    "print(numbers[0:2:])"
   ]
  },
  {
   "cell_type": "code",
   "execution_count": 13,
   "id": "8e477e45",
   "metadata": {},
   "outputs": [
    {
     "name": "stdout",
     "output_type": "stream",
     "text": [
      "('Hello', 1, 2, 3, True, 1, 2, 3, 4, 5, 6)\n"
     ]
    }
   ],
   "source": [
    "# Tuple operation\n",
    "concat_tuple = mixed_tuple + numbers\n",
    "print(concat_tuple)"
   ]
  },
  {
   "cell_type": "code",
   "execution_count": 16,
   "id": "90f21dcc",
   "metadata": {},
   "outputs": [
    {
     "data": {
      "text/plain": [
       "('Hello', 1, 2, 3, True, 'Hello', 1, 2, 3, True, 'Hello', 1, 2, 3, True)"
      ]
     },
     "execution_count": 16,
     "metadata": {},
     "output_type": "execute_result"
    }
   ],
   "source": [
    "# Airethmetic operation on tuple\n",
    "mixed_tuple * 3"
   ]
  },
  {
   "cell_type": "code",
   "execution_count": 17,
   "id": "d9953cbd",
   "metadata": {},
   "outputs": [
    {
     "data": {
      "text/plain": [
       "(1, 2, 3, 4, 5, 6, 1, 2, 3, 4, 5, 6, 1, 2, 3, 4, 5, 6)"
      ]
     },
     "execution_count": 17,
     "metadata": {},
     "output_type": "execute_result"
    }
   ],
   "source": [
    "numbers * 3"
   ]
  },
  {
   "cell_type": "code",
   "execution_count": 18,
   "id": "2d5cd087",
   "metadata": {},
   "outputs": [
    {
     "name": "stdout",
     "output_type": "stream",
     "text": [
      "[2, 3, 4, 5]\n",
      "['Huzefa', 3, 4, 5]\n"
     ]
    }
   ],
   "source": [
    "# Immutable nature of tuple\n",
    "# Elements cannot be changed, once assigned\n",
    "lst = [2,3,4,5]\n",
    "print(lst)\n",
    "lst[0] = 'Huzefa'\n",
    "print(lst)"
   ]
  },
  {
   "cell_type": "code",
   "execution_count": 19,
   "id": "b2306e40",
   "metadata": {},
   "outputs": [
    {
     "ename": "TypeError",
     "evalue": "'tuple' object does not support item assignment",
     "output_type": "error",
     "traceback": [
      "\u001b[31m---------------------------------------------------------------------------\u001b[39m",
      "\u001b[31mTypeError\u001b[39m                                 Traceback (most recent call last)",
      "\u001b[36mCell\u001b[39m\u001b[36m \u001b[39m\u001b[32mIn[19]\u001b[39m\u001b[32m, line 1\u001b[39m\n\u001b[32m----> \u001b[39m\u001b[32m1\u001b[39m \u001b[43mnumbers\u001b[49m\u001b[43m[\u001b[49m\u001b[32;43m1\u001b[39;49m\u001b[43m]\u001b[49m = \u001b[33m'\u001b[39m\u001b[33mKrish\u001b[39m\u001b[33m'\u001b[39m\n",
      "\u001b[31mTypeError\u001b[39m: 'tuple' object does not support item assignment"
     ]
    }
   ],
   "source": [
    "numbers[1] = 'Krish'"
   ]
  },
  {
   "cell_type": "code",
   "execution_count": 25,
   "id": "efb6a1f7",
   "metadata": {},
   "outputs": [
    {
     "name": "stdout",
     "output_type": "stream",
     "text": [
      "(1, 2, 3, 4, 5, 6)\n",
      "1\n"
     ]
    }
   ],
   "source": [
    "# Tuple Methods\n",
    "print(numbers)\n",
    "print(numbers.count(1)) # Returns the count of element in list"
   ]
  },
  {
   "cell_type": "code",
   "execution_count": 26,
   "id": "a10fa385",
   "metadata": {},
   "outputs": [
    {
     "name": "stdout",
     "output_type": "stream",
     "text": [
      "2\n"
     ]
    }
   ],
   "source": [
    "print(numbers.index(3)) # Returns the index of the value "
   ]
  },
  {
   "cell_type": "code",
   "execution_count": 30,
   "id": "883a4bd4",
   "metadata": {},
   "outputs": [
    {
     "name": "stdout",
     "output_type": "stream",
     "text": [
      "<class 'tuple'>\n"
     ]
    }
   ],
   "source": [
    "# Packing tuple\n",
    "packed_tuple = 1, 'Huzefa', 3.14\n",
    "print(type(packed_tuple))"
   ]
  },
  {
   "cell_type": "code",
   "execution_count": 31,
   "id": "cdb50c45",
   "metadata": {},
   "outputs": [
    {
     "name": "stdout",
     "output_type": "stream",
     "text": [
      "<class 'int'>\n",
      "<class 'str'>\n",
      "<class 'float'>\n"
     ]
    }
   ],
   "source": [
    "# Unpacking tuple\n",
    "a,b,c = packed_tuple\n",
    "print(type(a))\n",
    "print(type(b))\n",
    "print(type(c))"
   ]
  },
  {
   "cell_type": "code",
   "execution_count": 32,
   "id": "0f910794",
   "metadata": {},
   "outputs": [
    {
     "name": "stdout",
     "output_type": "stream",
     "text": [
      "1\n",
      "[2, 3, 4, 5, 6]\n",
      "7\n"
     ]
    }
   ],
   "source": [
    "# Unpacking with * \n",
    "numbers = (1,2,3,4,5,6,7)\n",
    "first, *middle, last = numbers\n",
    "print(first)\n",
    "print(middle)\n",
    "print(last)"
   ]
  },
  {
   "cell_type": "code",
   "execution_count": 37,
   "id": "ac268cf8",
   "metadata": {},
   "outputs": [
    {
     "name": "stdout",
     "output_type": "stream",
     "text": [
      "[1, 2]\n",
      "[5, 6]\n"
     ]
    }
   ],
   "source": [
    "# Nested tuple\n",
    "# Nested list\n",
    "# Accessing elements inside nested list and tuple\n",
    "lst = [[1,2,3,4], [5,6,7,8,9],['Hello',1 ,2, 3]]\n",
    "print(lst[0][0:2])\n",
    "print(lst[1][0:2])\n"
   ]
  },
  {
   "cell_type": "code",
   "execution_count": 38,
   "id": "4fafb2a1",
   "metadata": {},
   "outputs": [
    {
     "name": "stdout",
     "output_type": "stream",
     "text": [
      "[1, 2]\n",
      "[5, 6]\n"
     ]
    }
   ],
   "source": [
    "tup = tuple([[1,2,3,4], [5,6,7,8,9],['Hello',1 ,2, 3]])\n",
    "print(tup[0][0:2])\n",
    "print(tup[1][0:2])\n"
   ]
  },
  {
   "cell_type": "code",
   "execution_count": 39,
   "id": "d050dd16",
   "metadata": {},
   "outputs": [
    {
     "name": "stdout",
     "output_type": "stream",
     "text": [
      "1234\n",
      "56789\n",
      "Hello123\n"
     ]
    }
   ],
   "source": [
    "for sub_tuple in tup:\n",
    "    for item in sub_tuple:\n",
    "        print(item, end=\"\")\n",
    "    print()"
   ]
  },
  {
   "cell_type": "markdown",
   "id": "7928e77b",
   "metadata": {},
   "source": [
    "## Assignments"
   ]
  },
  {
   "cell_type": "markdown",
   "id": "394483e5",
   "metadata": {},
   "source": [
    "### Assignment 1: Creating and Accessing Tuples\n",
    "\n",
    "Create a tuple with the first 10 positive integers. Print the tuple."
   ]
  },
  {
   "cell_type": "code",
   "execution_count": 40,
   "id": "fcbdcbc5",
   "metadata": {},
   "outputs": [
    {
     "name": "stdout",
     "output_type": "stream",
     "text": [
      "(1, 2, 3, 4, 5, 6, 7, 8, 9, 10)\n"
     ]
    }
   ],
   "source": [
    "tup = tuple(range(1,11))\n",
    "print(tup)"
   ]
  },
  {
   "cell_type": "markdown",
   "id": "265acf57",
   "metadata": {},
   "source": [
    "### Assignment 2: Accessing Tuple Elements\n",
    "\n",
    "Print the first, middle, and last elements of the tuple created in Assignment 1."
   ]
  },
  {
   "cell_type": "code",
   "execution_count": 42,
   "id": "369a73ab",
   "metadata": {},
   "outputs": [
    {
     "name": "stdout",
     "output_type": "stream",
     "text": [
      "First element:  1\n",
      "Middle element:  6\n",
      "Last elment:  10\n"
     ]
    }
   ],
   "source": [
    "print(\"First element: \", tup[0])\n",
    "print(\"Middle element: \", tup[len(tup)//2])\n",
    "print(\"Last elment: \", tup[-1])"
   ]
  },
  {
   "cell_type": "markdown",
   "id": "b58744a3",
   "metadata": {},
   "source": [
    "### Assignment 3: Tuple Slicing\n",
    "\n",
    "Print the first three elements, the last three elements, and the elements from index 2 to 5 of the tuple created in Assignment 1."
   ]
  },
  {
   "cell_type": "code",
   "execution_count": 44,
   "id": "887ba949",
   "metadata": {},
   "outputs": [
    {
     "name": "stdout",
     "output_type": "stream",
     "text": [
      "First three elements:  (1, 2, 3)\n",
      "Last three elements:  (8, 9, 10)\n",
      "Middle elements:  (3, 4, 5)\n"
     ]
    }
   ],
   "source": [
    "print(\"First three elements: \",tup[:3])\n",
    "print(\"Last three elements: \",tup[-3:])\n",
    "print(\"Middle elements: \",tup[2:5])"
   ]
  },
  {
   "cell_type": "markdown",
   "id": "52e4c6e2",
   "metadata": {},
   "source": [
    "### Assignment 4: Nested Tuples\n",
    "\n",
    "Create a nested tuple representing a 3x3 matrix and print the matrix. Access and print the element at the second row and third column."
   ]
  },
  {
   "cell_type": "code",
   "execution_count": 45,
   "id": "a6722233",
   "metadata": {},
   "outputs": [
    {
     "name": "stdout",
     "output_type": "stream",
     "text": [
      "6\n"
     ]
    }
   ],
   "source": [
    "nest_tuple = (\n",
    "    (1,2,3),\n",
    "    (4,5,6),\n",
    "    (7,8,9)\n",
    ")\n",
    "print(nest_tuple[1][2])"
   ]
  },
  {
   "cell_type": "markdown",
   "id": "8dfca8d8",
   "metadata": {},
   "source": [
    "### Assignment 5: Tuple Concatenation\n",
    "\n",
    "Concatenate two tuples: (1, 2, 3) and (4, 5, 6). Print the resulting tuple.\n"
   ]
  },
  {
   "cell_type": "code",
   "execution_count": 47,
   "id": "d9999346",
   "metadata": {},
   "outputs": [
    {
     "name": "stdout",
     "output_type": "stream",
     "text": [
      "(1, 2, 3, 4, 5, 6)\n"
     ]
    }
   ],
   "source": [
    "tup_1 = (1,2,3)\n",
    "tup_2 = (4,5,6)\n",
    "concat_tuple = tup_1 + tup_2\n",
    "print(concat_tuple)"
   ]
  },
  {
   "cell_type": "markdown",
   "id": "1a5044fe",
   "metadata": {},
   "source": [
    "### Assignment 6: Tuple Methods\n",
    "\n",
    "Create a tuple with duplicate elements and count the occurrences of an element. Find the index of the first occurrence of an element in the tuple.\n"
   ]
  },
  {
   "cell_type": "code",
   "execution_count": 51,
   "id": "729ac82c",
   "metadata": {},
   "outputs": [
    {
     "name": "stdout",
     "output_type": "stream",
     "text": [
      "Occurence of 4: 2\n",
      "Index of first occurence of 2: 2\n"
     ]
    }
   ],
   "source": [
    "tup_1 = (1,1,2,2,3,3,4,4,5,5,6,7,8,9,0)\n",
    "print(f\"Occurence of 4: {tup_1.count(1)}\")\n",
    "print(f\"Index of first occurence of 2: {tup_1.index(2)}\")"
   ]
  },
  {
   "cell_type": "markdown",
   "id": "e8bd94a2",
   "metadata": {},
   "source": [
    "### Assignment 7: Unpacking Tuples\n",
    "\n",
    "Create a tuple with 5 elements and unpack it into 5 variables. Print the variables."
   ]
  },
  {
   "cell_type": "code",
   "execution_count": 52,
   "id": "a3ee315a",
   "metadata": {},
   "outputs": [
    {
     "name": "stdout",
     "output_type": "stream",
     "text": [
      "0\n",
      "1\n",
      "2\n",
      "3\n",
      "4\n"
     ]
    }
   ],
   "source": [
    "tup = tuple(range(5))\n",
    "a,b,c,d,e = tup\n",
    "print(a)\n",
    "print(b)\n",
    "print(c)\n",
    "print(d)\n",
    "print(e)\n"
   ]
  },
  {
   "cell_type": "markdown",
   "id": "0f86045a",
   "metadata": {},
   "source": [
    "### Assignment 8: Tuple Conversion\n",
    "\n",
    "Convert a list of the first 5 positive integers to a tuple. Print the tuple."
   ]
  },
  {
   "cell_type": "code",
   "execution_count": 53,
   "id": "f019464a",
   "metadata": {},
   "outputs": [
    {
     "name": "stdout",
     "output_type": "stream",
     "text": [
      "(1, 2, 3, 4, 5)\n"
     ]
    }
   ],
   "source": [
    "lst = list(range(1,6))\n",
    "tup = tuple(lst)\n",
    "print(tup)"
   ]
  },
  {
   "cell_type": "markdown",
   "id": "355b0c3a",
   "metadata": {},
   "source": [
    "### Assignment 9: Tuple of Tuples\n",
    "\n",
    "Create a tuple containing 3 tuples, each with 3 elements. Print the tuple of tuples."
   ]
  },
  {
   "cell_type": "code",
   "execution_count": 54,
   "id": "32baefcf",
   "metadata": {},
   "outputs": [
    {
     "name": "stdout",
     "output_type": "stream",
     "text": [
      "((1, 2, 3), (4, 5, 6), (7, 8, 9))\n"
     ]
    }
   ],
   "source": [
    "tup = (\n",
    "    (1,2,3),\n",
    "    (4,5,6),\n",
    "    (7,8,9)\n",
    ")\n",
    "print(tup)"
   ]
  },
  {
   "cell_type": "markdown",
   "id": "7d935918",
   "metadata": {},
   "source": [
    "### Assignment 10: Tuple and List\n",
    "\n",
    "Create a tuple with the first 5 positive integers. Convert it to a list, append the number 6, and convert it back to a tuple. Print the resulting tuple."
   ]
  },
  {
   "cell_type": "code",
   "execution_count": 56,
   "id": "e0b30610",
   "metadata": {},
   "outputs": [
    {
     "name": "stdout",
     "output_type": "stream",
     "text": [
      "(1, 2, 3, 4, 5, 6)\n"
     ]
    }
   ],
   "source": [
    "tup = tuple(range(1,6))\n",
    "lst = list(tup)\n",
    "lst.append(6)\n",
    "tup = tuple(lst)\n",
    "print(tup)\n"
   ]
  },
  {
   "cell_type": "markdown",
   "id": "d13f6210",
   "metadata": {},
   "source": [
    "### Assignment 11: Tuple and String\n",
    "\n",
    "Create a tuple with the characters of a string. Join the tuple elements into a single string. Print the string."
   ]
  },
  {
   "cell_type": "code",
   "execution_count": 58,
   "id": "b53dfeec",
   "metadata": {},
   "outputs": [
    {
     "name": "stdout",
     "output_type": "stream",
     "text": [
      "Huzefa\n"
     ]
    }
   ],
   "source": [
    "name = 'Huzefa' \n",
    "tup = tuple(name)\n",
    "name = \"\".join(tup)\n",
    "print(name)"
   ]
  },
  {
   "cell_type": "markdown",
   "id": "867c5473",
   "metadata": {},
   "source": [
    "### Assignment 12: Tuple and Dictionary\n",
    "\n",
    "Create a dictionary with tuple keys and integer values. Print the dictionary."
   ]
  },
  {
   "cell_type": "code",
   "execution_count": 62,
   "id": "67b0ec4d",
   "metadata": {},
   "outputs": [
    {
     "name": "stdout",
     "output_type": "stream",
     "text": [
      "{(1, 2): 3, (3, 4): 4, (5, 6): 5}\n"
     ]
    }
   ],
   "source": [
    "tup = {\n",
    "    (1,2):3,\n",
    "    (3,4):4,\n",
    "    (5,6):5\n",
    "}\n",
    "\n",
    "print(tup)"
   ]
  },
  {
   "cell_type": "markdown",
   "id": "e69ff064",
   "metadata": {},
   "source": [
    "### Assignment 13: Nested Tuple Iteration\n",
    "\n",
    "Create a nested tuple and iterate over the elements, printing each element."
   ]
  },
  {
   "cell_type": "code",
   "execution_count": 66,
   "id": "6fbce0ec",
   "metadata": {},
   "outputs": [
    {
     "name": "stdout",
     "output_type": "stream",
     "text": [
      "1\n",
      "2\n",
      "3\n",
      "4\n"
     ]
    }
   ],
   "source": [
    "nested_tuple = (\n",
    "    (1,2),\n",
    "    (3,4)\n",
    ")\n",
    "\n",
    "for tup in nested_tuple:\n",
    "    for item in tup:\n",
    "        print(item)"
   ]
  },
  {
   "cell_type": "markdown",
   "id": "be6aa6a9",
   "metadata": {},
   "source": [
    "### Assignment 14: Tuple and Set\n",
    "\n",
    "Create a tuple with duplicate elements. Convert it to a set to remove duplicates and print the resulting set."
   ]
  },
  {
   "cell_type": "code",
   "execution_count": 68,
   "id": "1d116ced",
   "metadata": {},
   "outputs": [
    {
     "name": "stdout",
     "output_type": "stream",
     "text": [
      "{1, 2, 3, 4, 5, 6, 7, 9}\n"
     ]
    }
   ],
   "source": [
    "tup = (1,2,3,4,4,2,6,7,9,5,6,7)\n",
    "unique = set(tup)\n",
    "print(unique)"
   ]
  },
  {
   "cell_type": "markdown",
   "id": "75dd31d5",
   "metadata": {},
   "source": [
    "### Assignment 15: Tuple Functions\n",
    "\n",
    "Write functions that take a tuple and return the minimum, maximum, and sum of the elements. Print the results for a sample tuple."
   ]
  },
  {
   "cell_type": "code",
   "execution_count": 72,
   "id": "bae86498",
   "metadata": {},
   "outputs": [
    {
     "name": "stdout",
     "output_type": "stream",
     "text": [
      "Minimum:  1\n",
      "Maximum:  8\n",
      "Sum:  36\n"
     ]
    }
   ],
   "source": [
    "def min_in_tup(tup):\n",
    "    return min(tup)\n",
    "def max_in_tup(tup):\n",
    "    return max(tup)\n",
    "def sum_in_tup(tup):\n",
    "    return min(sum)\n",
    "sample_tuple = (1,2,3,4,5,6,7,8)\n",
    "print(\"Minimum: \", min_in_tup(sample_tuple))\n",
    "print(\"Maximum: \", max_in_tup(sample_tuple))\n",
    "print(\"Sum: \", sum(sample_tuple))"
   ]
  },
  {
   "cell_type": "code",
   "execution_count": null,
   "id": "7a269d90",
   "metadata": {},
   "outputs": [],
   "source": []
  }
 ],
 "metadata": {
  "kernelspec": {
   "display_name": "myvenv",
   "language": "python",
   "name": "python3"
  },
  "language_info": {
   "codemirror_mode": {
    "name": "ipython",
    "version": 3
   },
   "file_extension": ".py",
   "mimetype": "text/x-python",
   "name": "python",
   "nbconvert_exporter": "python",
   "pygments_lexer": "ipython3",
   "version": "3.12.0"
  }
 },
 "nbformat": 4,
 "nbformat_minor": 5
}
