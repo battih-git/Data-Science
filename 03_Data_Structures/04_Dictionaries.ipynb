{
 "cells": [
  {
   "cell_type": "markdown",
   "id": "d1fb1b19",
   "metadata": {},
   "source": [
    "\n",
    "# Dictionaries\n",
    "\n",
    "# Key takeaways:\n",
    "\n",
    "    * Introduction to Dictionaries\n",
    "    * Creating Dictionaries\n",
    "    * Accessing Dictionary Elements\n",
    "    * Modifying Dictionary Elements\n",
    "    * Dictionary Methods\n",
    "    * Iterating Over Dictionaries\n",
    "    * Nested Dictionaries\n",
    "    * Dictionary Comprehensions\n",
    "    * Practical Examples and Common Errors\n",
    "\n",
    "### Introduction to Dictionaries\n",
    "\n",
    "Dictionaries are unordered collections of items. They store data in key-value pairs. Keys must be unique and immutable (e.g., strings, numbers, or tuples), while values can be of any type"
   ]
  },
  {
   "cell_type": "code",
   "execution_count": 2,
   "id": "09580919",
   "metadata": {},
   "outputs": [
    {
     "name": "stdout",
     "output_type": "stream",
     "text": [
      "<class 'dict'>\n"
     ]
    }
   ],
   "source": [
    "# Creating dictionaries\n",
    "empty_dict = dict()\n",
    "print(type(empty_dict))"
   ]
  },
  {
   "cell_type": "code",
   "execution_count": 3,
   "id": "5173d20e",
   "metadata": {},
   "outputs": [
    {
     "name": "stdout",
     "output_type": "stream",
     "text": [
      "{'name': 'Huzefa', 'age': 31, 'grade': 24}\n",
      "<class 'dict'>\n"
     ]
    }
   ],
   "source": [
    "student = {\n",
    "    \"name\":\"Huzefa\",\n",
    "    \"age\":31,\n",
    "    \"grade\":24\n",
    "}\n",
    "print(student)\n",
    "print(type(student))"
   ]
  },
  {
   "cell_type": "code",
   "execution_count": 4,
   "id": "6d94782c",
   "metadata": {},
   "outputs": [
    {
     "name": "stdout",
     "output_type": "stream",
     "text": [
      "{'name': 24, 'age': 31}\n"
     ]
    }
   ],
   "source": [
    "# Key should be unique else it will use the recent value and print it\n",
    "student = {\n",
    "    \"name\":\"Huzefa\",\n",
    "    \"age\":31,\n",
    "    \"name\":24\n",
    "}\n",
    "print(student)"
   ]
  },
  {
   "cell_type": "code",
   "execution_count": 5,
   "id": "493b38df",
   "metadata": {},
   "outputs": [
    {
     "name": "stdout",
     "output_type": "stream",
     "text": [
      "24\n",
      "31\n",
      "Huzefa\n",
      "24\n",
      "Huzefa\n",
      "31\n",
      "None\n",
      "yes\n"
     ]
    }
   ],
   "source": [
    "# Accessing dictionary element\n",
    "student = {\n",
    "    \"name\":\"Huzefa\",\n",
    "    \"age\":31,\n",
    "    \"grade\":24\n",
    "}\n",
    "\n",
    "print(student['grade'])\n",
    "print(student['age'])\n",
    "print(student['name'])\n",
    "\n",
    "#Accessing using get method:\n",
    "print(student.get('grade'))\n",
    "print(student.get('name'))\n",
    "print(student.get('age'))\n",
    "print(student.get('last')) # This will not give an error\n",
    "\n",
    "# print default value if the key doesn't exist\n",
    "print(student.get('student','yes'))"
   ]
  },
  {
   "cell_type": "code",
   "execution_count": 6,
   "id": "2ed23e87",
   "metadata": {},
   "outputs": [
    {
     "name": "stdout",
     "output_type": "stream",
     "text": [
      "{'name': 'Huzefa', 'age': 33, 'grade': 24}\n",
      "{'name': 'Huzefa', 'age': 33, 'grade': 24, 'address': 'India'}\n",
      "{'name': 'Huzefa', 'age': 33, 'address': 'India'}\n"
     ]
    }
   ],
   "source": [
    "# Modifying Dictionary Elements\n",
    "# Dictionary are mutable, so we can add, update or delete elements\n",
    "student['age'] = 33 # updated the value\n",
    "print(student)\n",
    "student['address'] = \"India\" # Added a new key and value\n",
    "print(student)\n",
    "del student['grade'] #delete the key and value pair\n",
    "print(student)"
   ]
  },
  {
   "cell_type": "code",
   "execution_count": 7,
   "id": "48f6741e",
   "metadata": {},
   "outputs": [
    {
     "name": "stdout",
     "output_type": "stream",
     "text": [
      "dict_keys(['name', 'age', 'address'])\n",
      "dict_values(['Huzefa', 33, 'India'])\n",
      "dict_items([('name', 'Huzefa'), ('age', 33), ('address', 'India')])\n"
     ]
    }
   ],
   "source": [
    "# Dictionary methods\n",
    "\n",
    "keys = student.keys() # Get all the keys\n",
    "print(keys) \n",
    "values = student.values()\n",
    "print(values) # Get all the values\n",
    "items = student.items() # Get all the key value pair\n",
    "print(items)"
   ]
  },
  {
   "cell_type": "code",
   "execution_count": 8,
   "id": "b441e4a7",
   "metadata": {},
   "outputs": [
    {
     "name": "stdout",
     "output_type": "stream",
     "text": [
      "{'name': 'Huzefa', 'age': 33, 'address': 'India'}\n",
      "{'name': 'Huzefa', 'age': 33, 'address': 'India'}\n"
     ]
    }
   ],
   "source": [
    "student_copy = student\n",
    "print(student_copy)\n",
    "print(student)"
   ]
  },
  {
   "cell_type": "code",
   "execution_count": 9,
   "id": "6864c10c",
   "metadata": {},
   "outputs": [
    {
     "name": "stdout",
     "output_type": "stream",
     "text": [
      "{'name': 'Huzefa1', 'age': 33, 'address': 'India'}\n",
      "{'name': 'Huzefa1', 'age': 33, 'address': 'India'}\n"
     ]
    }
   ],
   "source": [
    "student['name'] = 'Huzefa1'\n",
    "print(student_copy)\n",
    "print(student)"
   ]
  },
  {
   "cell_type": "code",
   "execution_count": 10,
   "id": "633cda5a",
   "metadata": {},
   "outputs": [
    {
     "name": "stdout",
     "output_type": "stream",
     "text": [
      "{'name': 'Huzefa1', 'age': 33, 'address': 'India'}\n",
      "{'name': 'Huzefa1', 'age': 33, 'address': 'India'}\n",
      "{'name': 'Huzefa1', 'age': 33, 'address': 'India'}\n",
      "{'name': 'Huzefa', 'age': 33, 'address': 'India'}\n"
     ]
    }
   ],
   "source": [
    "# Shallow copy\n",
    "student_copy = student.copy()\n",
    "print(student_copy)\n",
    "print(student)\n",
    "student['name'] = 'Huzefa'\n",
    "print(student_copy)\n",
    "print(student)"
   ]
  },
  {
   "cell_type": "code",
   "execution_count": 11,
   "id": "4fe2df25",
   "metadata": {},
   "outputs": [
    {
     "name": "stdout",
     "output_type": "stream",
     "text": [
      "name\n",
      "age\n",
      "address\n"
     ]
    }
   ],
   "source": [
    "# Iterating over keys of dictionaries\n",
    "for key in student:\n",
    "    print(key)"
   ]
  },
  {
   "cell_type": "code",
   "execution_count": 12,
   "id": "ada8f84b",
   "metadata": {},
   "outputs": [
    {
     "name": "stdout",
     "output_type": "stream",
     "text": [
      "Huzefa\n",
      "33\n",
      "India\n"
     ]
    }
   ],
   "source": [
    "# Iterating over values of dictionaries\n",
    "for value in student.values():\n",
    "    print(value)"
   ]
  },
  {
   "cell_type": "code",
   "execution_count": 13,
   "id": "0c65aca5",
   "metadata": {},
   "outputs": [
    {
     "name": "stdout",
     "output_type": "stream",
     "text": [
      "name : Huzefa\n",
      "age : 33\n",
      "address : India\n"
     ]
    }
   ],
   "source": [
    "# Iterating over key,values in dictionaries\n",
    "for key,value in student.items():\n",
    "    print(f\"{key} : {value}\")"
   ]
  },
  {
   "cell_type": "code",
   "execution_count": 14,
   "id": "90ab1c93",
   "metadata": {},
   "outputs": [
    {
     "name": "stdout",
     "output_type": "stream",
     "text": [
      "{'student 1': {'name': 'Huzefa', 'age': 31}, 'student 2': {'name': 'Peter', 'age': 35}}\n"
     ]
    }
   ],
   "source": [
    "## Nested Dictionary\n",
    "students = {\n",
    "    'student 1' : {'name':'Huzefa', 'age':31},\n",
    "    'student 2' : {'name':'Peter', 'age':35}\n",
    "}\n",
    "print(students)"
   ]
  },
  {
   "cell_type": "code",
   "execution_count": 15,
   "id": "26bcd794",
   "metadata": {},
   "outputs": [
    {
     "name": "stdout",
     "output_type": "stream",
     "text": [
      "Peter\n"
     ]
    }
   ],
   "source": [
    "# Access nested dictionary elements\n",
    "print(students['student 2']['name']) # Accessing elements in nested dictionaries"
   ]
  },
  {
   "cell_type": "code",
   "execution_count": 16,
   "id": "0db4e9c9",
   "metadata": {},
   "outputs": [
    {
     "name": "stdout",
     "output_type": "stream",
     "text": [
      "student 1 : {'name': 'Huzefa', 'age': 31}\n",
      "name : Huzefa\n",
      "age : 31\n",
      "student 2 : {'name': 'Peter', 'age': 35}\n",
      "name : Peter\n",
      "age : 35\n"
     ]
    }
   ],
   "source": [
    "# Iterating over nested dictionaries\n",
    "for student_id, student_info in students.items():\n",
    "    print(f\"{student_id} : {student_info}\")\n",
    "    for key,value in student_info.items():\n",
    "        print(f\"{key} : {value}\")"
   ]
  },
  {
   "cell_type": "code",
   "execution_count": 17,
   "id": "753e40df",
   "metadata": {},
   "outputs": [
    {
     "name": "stdout",
     "output_type": "stream",
     "text": [
      "{1: 1, 2: 4, 3: 9, 4: 16, 5: 25, 6: 36, 7: 49, 8: 64, 9: 81, 10: 100}\n"
     ]
    }
   ],
   "source": [
    "# Dictionary comprehension\n",
    "squares = {x:x**2 for x in range(1,11)}\n",
    "print(squares)"
   ]
  },
  {
   "cell_type": "code",
   "execution_count": 18,
   "id": "951d1a22",
   "metadata": {},
   "outputs": [
    {
     "name": "stdout",
     "output_type": "stream",
     "text": [
      "{2: 4, 4: 16, 6: 36, 8: 64, 10: 100}\n"
     ]
    }
   ],
   "source": [
    "## Conditional dictionary comprehension\n",
    "even = {x:x**2 for x in range(1,11) if x%2==0}\n",
    "print(even)"
   ]
  },
  {
   "cell_type": "code",
   "execution_count": 19,
   "id": "c7cc36ca",
   "metadata": {},
   "outputs": [
    {
     "name": "stdout",
     "output_type": "stream",
     "text": [
      "{1: 1, 2: 2, 3: 3, 4: 4}\n"
     ]
    }
   ],
   "source": [
    "# Practical examples \n",
    "# Use the dictionary to count the frequence of elements in list\n",
    "numbers=[1,2,2,3,3,3,4,4,4,4]\n",
    "frequency={}\n",
    "\n",
    "for num in set(numbers):\n",
    "    frequency[num] = numbers.count(num)\n",
    "print(frequency)"
   ]
  },
  {
   "cell_type": "code",
   "execution_count": 20,
   "id": "4c6382e4",
   "metadata": {},
   "outputs": [
    {
     "name": "stdout",
     "output_type": "stream",
     "text": [
      "{'a': 1, 'b': 3, 'c': 4}\n"
     ]
    }
   ],
   "source": [
    "# Merge 2 dictionaries into one\n",
    "dict1={\"a\":1,\"b\":2}\n",
    "dict2={\"b\":3,\"c\":4}\n",
    "\n",
    "merged_dict = {**dict1, **dict2}\n",
    "print(merged_dict)"
   ]
  },
  {
   "cell_type": "markdown",
   "id": "4be4b649",
   "metadata": {},
   "source": [
    "# Assignments"
   ]
  },
  {
   "cell_type": "markdown",
   "id": "9adff448",
   "metadata": {},
   "source": [
    "### Assignment 1: Creating and Accessing Dictionaries\n",
    "\n",
    "Create a dictionary with the first 10 positive integers as keys and their squares as values. Print the dictionary."
   ]
  },
  {
   "cell_type": "code",
   "execution_count": 21,
   "id": "e1c577f7",
   "metadata": {},
   "outputs": [
    {
     "name": "stdout",
     "output_type": "stream",
     "text": [
      "{1: 1, 2: 4, 3: 9, 4: 16, 5: 25, 6: 36, 7: 49, 8: 64, 9: 81, 10: 100}\n"
     ]
    }
   ],
   "source": [
    "my_dict = {x:x**2 for x in range(1,11)}\n",
    "print(my_dict)"
   ]
  },
  {
   "cell_type": "markdown",
   "id": "d7856565",
   "metadata": {},
   "source": [
    "### Assignment 2: Accessing Dictionary Elements\n",
    "\n",
    "Print the value of the key 5 and the keys of the dictionary created in Assignment 1."
   ]
  },
  {
   "cell_type": "code",
   "execution_count": 22,
   "id": "b8f56863",
   "metadata": {},
   "outputs": [
    {
     "name": "stdout",
     "output_type": "stream",
     "text": [
      "25\n",
      "dict_keys([1, 2, 3, 4, 5, 6, 7, 8, 9, 10])\n"
     ]
    }
   ],
   "source": [
    "print(my_dict[5])\n",
    "print(my_dict.keys())"
   ]
  },
  {
   "cell_type": "markdown",
   "id": "991a0e69",
   "metadata": {},
   "source": [
    "### Assignment 3: Dictionary Methods\n",
    "\n",
    "Add a new key-value pair (11, 121) to the dictionary created in Assignment 1 and then remove the key-value pair with key 1. Print the modified dictionary."
   ]
  },
  {
   "cell_type": "code",
   "execution_count": 23,
   "id": "d4c7b282",
   "metadata": {},
   "outputs": [
    {
     "name": "stdout",
     "output_type": "stream",
     "text": [
      "{2: 4, 3: 9, 4: 16, 5: 25, 6: 36, 7: 49, 8: 64, 9: 81, 10: 100, 11: 121}\n"
     ]
    }
   ],
   "source": [
    "my_dict[11] = 121\n",
    "del my_dict[1]\n",
    "print(my_dict)"
   ]
  },
  {
   "cell_type": "markdown",
   "id": "1bba821d",
   "metadata": {},
   "source": [
    "### Assignment 4: Iterating Over Dictionaries\n",
    "\n",
    "Iterate over the dictionary created in Assignment 1 and print each key-value pair."
   ]
  },
  {
   "cell_type": "code",
   "execution_count": 24,
   "id": "3575bef9",
   "metadata": {},
   "outputs": [
    {
     "name": "stdout",
     "output_type": "stream",
     "text": [
      "2 : 4\n",
      "3 : 9\n",
      "4 : 16\n",
      "5 : 25\n",
      "6 : 36\n",
      "7 : 49\n",
      "8 : 64\n",
      "9 : 81\n",
      "10 : 100\n",
      "11 : 121\n"
     ]
    }
   ],
   "source": [
    "for key,value in my_dict.items():\n",
    "    print(f\"{key} : {value}\")"
   ]
  },
  {
   "cell_type": "markdown",
   "id": "9b77d103",
   "metadata": {},
   "source": [
    "### Assignment 5: Dictionary Comprehensions\n",
    "\n",
    "Create a new dictionary containing the cubes of the first 10 positive integers using a dictionary comprehension. Print the new dictionary."
   ]
  },
  {
   "cell_type": "code",
   "execution_count": 26,
   "id": "cf13e733",
   "metadata": {},
   "outputs": [
    {
     "name": "stdout",
     "output_type": "stream",
     "text": [
      "{1: 1, 2: 8, 3: 27, 4: 64, 5: 125, 6: 216, 7: 343, 8: 512, 9: 729, 10: 1000}\n"
     ]
    }
   ],
   "source": [
    "cubes = {x:x**3 for x in range(1,11)}\n",
    "print(cubes)"
   ]
  },
  {
   "cell_type": "markdown",
   "id": "b1057daa",
   "metadata": {},
   "source": [
    "### Assignment 6: Merging Dictionaries\n",
    "\n",
    "Create two dictionaries: one with keys as the first 5 positive integers and values as their squares, and another with keys as the next 5 positive integers and values as their squares. Merge these dictionaries into a single dictionary and print it."
   ]
  },
  {
   "cell_type": "code",
   "execution_count": 28,
   "id": "f9a0c0ba",
   "metadata": {},
   "outputs": [
    {
     "name": "stdout",
     "output_type": "stream",
     "text": [
      "{1: 1, 2: 4, 3: 9, 4: 16, 5: 25, 6: 36, 7: 49, 8: 64, 9: 81, 10: 100}\n"
     ]
    }
   ],
   "source": [
    "dict_1 = {x:x**2 for x in range(1,6)}\n",
    "dict_2 = {x:x**2 for x in range(6,11)}\n",
    "new_dict = {**dict_1, **dict_2}\n",
    "print(new_dict)"
   ]
  },
  {
   "cell_type": "markdown",
   "id": "06a480d3",
   "metadata": {},
   "source": [
    "### Assignment 7: Nested Dictionaries\n",
    "\n",
    "Create a nested dictionary representing a student with keys 'name', 'age', 'grades', where 'grades' is another dictionary with keys 'math', 'science', and 'english'. Print the nested dictionary."
   ]
  },
  {
   "cell_type": "code",
   "execution_count": 29,
   "id": "64d5bea3",
   "metadata": {},
   "outputs": [
    {
     "name": "stdout",
     "output_type": "stream",
     "text": [
      "{'name': 'Huzefa', 'age': 33, 'address': 'India'}\n"
     ]
    }
   ],
   "source": [
    "students = {\n",
    "    'name' : 'Huzefa',\n",
    "    'age' : 31,\n",
    "    'grades' : {\n",
    "        'maths' : 60,\n",
    "        'science': 70,\n",
    "        'english' : 82\n",
    "    }\n",
    "}\n",
    "\n",
    "print(student)"
   ]
  },
  {
   "cell_type": "markdown",
   "id": "8e6d17f1",
   "metadata": {},
   "source": [
    "### Assignment 8: Dictionary of Lists\n",
    "\n",
    "Create a dictionary where the keys are the first 5 positive integers and the values are lists containing the first 5 multiples of the key. Print the dictionary."
   ]
  },
  {
   "cell_type": "code",
   "execution_count": 31,
   "id": "0717b49b",
   "metadata": {},
   "outputs": [
    {
     "name": "stdout",
     "output_type": "stream",
     "text": [
      "{0: [0, 0, 0, 0, 0, 0], 1: [0, 1, 2, 3, 4, 5], 2: [0, 2, 4, 6, 8, 10], 3: [0, 3, 6, 9, 12, 15], 4: [0, 4, 8, 12, 16, 20], 5: [0, 5, 10, 15, 20, 25]}\n"
     ]
    }
   ],
   "source": [
    "dict_6 = {x:[j*x for j in range(6)] for x in range(6)}\n",
    "print(dict_6)"
   ]
  },
  {
   "cell_type": "markdown",
   "id": "9e6c0a77",
   "metadata": {},
   "source": [
    "### Assignment 9: Dictionary of Tuples\n",
    "\n",
    "Create a dictionary where the keys are the first 5 positive integers and the values are tuples containing the key and its square. Print the dictionary."
   ]
  },
  {
   "cell_type": "code",
   "execution_count": 32,
   "id": "8d645bfb",
   "metadata": {},
   "outputs": [
    {
     "name": "stdout",
     "output_type": "stream",
     "text": [
      "{1: (1, 1), 2: (2, 4), 3: (3, 9), 4: (4, 16), 5: (5, 25)}\n"
     ]
    }
   ],
   "source": [
    "tuple_dict = {i:(i,i**2) for i in range(1,6)}\n",
    "print(tuple_dict)"
   ]
  },
  {
   "cell_type": "markdown",
   "id": "e1d93e1a",
   "metadata": {},
   "source": [
    "### Assignment 10: Dictionary and List Conversion\n",
    "\n",
    "Create a dictionary with the first 5 positive integers as keys and their squares as values. Convert the dictionary to a list of tuples and print it."
   ]
  },
  {
   "cell_type": "code",
   "execution_count": 35,
   "id": "2d2439ec",
   "metadata": {},
   "outputs": [
    {
     "name": "stdout",
     "output_type": "stream",
     "text": [
      "[(1, 1), (2, 4), (3, 9), (4, 16), (5, 25)]\n"
     ]
    }
   ],
   "source": [
    "squares = {x:x**2  for x in range(1,6)}\n",
    "list_of_squares = list(squares.items())\n",
    "print(list_of_squares)"
   ]
  },
  {
   "cell_type": "markdown",
   "id": "ed6ad403",
   "metadata": {},
   "source": [
    "### Assignment 11: Dictionary Filtering\n",
    "\n",
    "Create a dictionary with the first 10 positive integers as keys and their squares as values. Create a new dictionary containing only the key-value pairs where the key is even. Print the new dictionary."
   ]
  },
  {
   "cell_type": "code",
   "execution_count": 37,
   "id": "69f73c32",
   "metadata": {},
   "outputs": [
    {
     "name": "stdout",
     "output_type": "stream",
     "text": [
      "{0: 0, 2: 4, 4: 16, 6: 36, 8: 64, 10: 100}\n"
     ]
    }
   ],
   "source": [
    "my_dict = {x:x**2 for x in range(11)}\n",
    "new_dict = {key:value for key,value in my_dict.items() if key%2==0}\n",
    "print(new_dict)"
   ]
  },
  {
   "cell_type": "markdown",
   "id": "71a6251c",
   "metadata": {},
   "source": [
    "### Assignment 12: Dictionary Key and Value Transformation\n",
    "\n",
    "Create a dictionary with the first 5 positive integers as keys and their squares as values. Create a new dictionary with keys and values swapped. Print the new dictionary."
   ]
  },
  {
   "cell_type": "code",
   "execution_count": 39,
   "id": "5a62050e",
   "metadata": {},
   "outputs": [
    {
     "name": "stdout",
     "output_type": "stream",
     "text": [
      "{1: 1, 4: 2, 9: 3, 16: 4, 25: 5}\n"
     ]
    }
   ],
   "source": [
    "my_dict = {x:x**2 for x in range(1,6)}\n",
    "swapped_dict = {value:key for key,value in my_dict.items()}\n",
    "print(swapped_dict)\n"
   ]
  },
  {
   "cell_type": "markdown",
   "id": "d7f9adda",
   "metadata": {},
   "source": [
    "### Assignment 13: Default Dictionary\n",
    "\n",
    "Create a default dictionary where each key has a default value of an empty list. Add some elements to the lists and print the dictionary."
   ]
  },
  {
   "cell_type": "code",
   "execution_count": null,
   "id": "c64ac6ba",
   "metadata": {},
   "outputs": [],
   "source": []
  },
  {
   "cell_type": "markdown",
   "id": "c6f9a689",
   "metadata": {},
   "source": [
    "### Assignment 14: Counting with Dictionaries\n",
    "\n",
    "Write a function that takes a string and returns a dictionary with the count of each character in the string. Print the dictionary."
   ]
  },
  {
   "cell_type": "code",
   "execution_count": 40,
   "id": "6c6f4468",
   "metadata": {},
   "outputs": [
    {
     "data": {
      "text/plain": [
       "{'t': 2,\n",
       " 'e': 1,\n",
       " 'l': 1,\n",
       " 'w': 1,\n",
       " 'a': 4,\n",
       " 'u': 1,\n",
       " ' ': 1,\n",
       " 'i': 1,\n",
       " 'b': 1,\n",
       " 'f': 1,\n",
       " 'z': 1,\n",
       " 'h': 1}"
      ]
     },
     "execution_count": 40,
     "metadata": {},
     "output_type": "execute_result"
    }
   ],
   "source": [
    "def func(string):\n",
    "    my_dict = {char:string.count(char) for char in set(string)}\n",
    "    return my_dict\n",
    "\n",
    "name = 'huzefa battiwala'\n",
    "func(name)"
   ]
  },
  {
   "cell_type": "markdown",
   "id": "83277f13",
   "metadata": {},
   "source": [
    "### Assignment 15: Dictionary and JSON\n",
    "\n",
    "Create a dictionary representing a book with keys 'title', 'author', 'year', and 'genre'. Convert the dictionary to a JSON string and print it."
   ]
  },
  {
   "cell_type": "code",
   "execution_count": 42,
   "id": "a04bdc67",
   "metadata": {},
   "outputs": [
    {
     "name": "stdout",
     "output_type": "stream",
     "text": [
      "{\"title\": \"To kill a mockingbird\", \"author\": \"Harper Lee\", \"year\": 1960, \"genre\": \"Fiction\"}\n"
     ]
    }
   ],
   "source": [
    "import json\n",
    "my_dict = {\n",
    "    'title':'To kill a mockingbird',\n",
    "    'author':'Harper Lee',\n",
    "    'year':1960,\n",
    "    'genre':'Fiction'\n",
    "}\n",
    "book_json = json.dumps(my_dict)\n",
    "print(book_json)"
   ]
  },
  {
   "cell_type": "code",
   "execution_count": null,
   "id": "5b1fc8f0",
   "metadata": {},
   "outputs": [],
   "source": [
    "range(1,)"
   ]
  }
 ],
 "metadata": {
  "kernelspec": {
   "display_name": "myvenv",
   "language": "python",
   "name": "python3"
  },
  "language_info": {
   "codemirror_mode": {
    "name": "ipython",
    "version": 3
   },
   "file_extension": ".py",
   "mimetype": "text/x-python",
   "name": "python",
   "nbconvert_exporter": "python",
   "pygments_lexer": "ipython3",
   "version": "3.12.0"
  }
 },
 "nbformat": 4,
 "nbformat_minor": 5
}
